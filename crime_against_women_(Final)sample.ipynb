{
  "cells": [
    {
      "cell_type": "markdown",
      "metadata": {
        "id": "EiDBxSqwxehq"
      },
      "source": [
        "#Importing Libraries"
      ]
    },
    {
      "cell_type": "code",
      "execution_count": 10,
      "metadata": {
        "id": "NZq0haaAxdl4"
      },
      "outputs": [],
      "source": [
        "import matplotlib.pyplot as plt\n",
        "import seaborn as sn\n",
        "from sklearn.preprocessing import LabelEncoder\n",
        "import numpy as np\n",
        "import pandas as pd\n",
        "from sklearn.model_selection import train_test_split\n",
        "from sklearn.tree import DecisionTreeRegressor\n",
        "from sklearn.metrics import r2_score\n",
        "from sklearn import tree\n",
        "from sklearn.ensemble import RandomForestRegressor\n",
        "from sklearn.svm import SVR\n",
        "from sklearn.ensemble import AdaBoostRegressor"
      ]
    },
    {
      "cell_type": "markdown",
      "metadata": {
        "id": "mTgOW698m1S4"
      },
      "source": [
        "#Dataset Loading\n"
      ]
    },
    {
      "cell_type": "code",
      "execution_count": 11,
      "metadata": {
        "colab": {
          "base_uri": "https://localhost:8080/",
          "height": 572
        },
        "id": "16u-VV3PtPdX",
        "outputId": "1dacb2d8-1a86-43fd-a270-cf31e42d596b"
      },
      "outputs": [
        {
          "data": {
            "text/html": [
              "<div>\n",
              "<style scoped>\n",
              "    .dataframe tbody tr th:only-of-type {\n",
              "        vertical-align: middle;\n",
              "    }\n",
              "\n",
              "    .dataframe tbody tr th {\n",
              "        vertical-align: top;\n",
              "    }\n",
              "\n",
              "    .dataframe thead th {\n",
              "        text-align: right;\n",
              "    }\n",
              "</style>\n",
              "<table border=\"1\" class=\"dataframe\">\n",
              "  <thead>\n",
              "    <tr style=\"text-align: right;\">\n",
              "      <th></th>\n",
              "      <th>State/UT</th>\n",
              "      <th>Dowry Deaths</th>\n",
              "      <th>Murder with Rape</th>\n",
              "      <th>Acid Attack</th>\n",
              "      <th>Cruelty by Husband or his relatives</th>\n",
              "      <th>Kidnapping &amp; Abduction</th>\n",
              "      <th>Procuration of Minor Girls</th>\n",
              "      <th>Sexual Assault of Children</th>\n",
              "      <th>year</th>\n",
              "      <th>Total crimes</th>\n",
              "    </tr>\n",
              "  </thead>\n",
              "  <tbody>\n",
              "    <tr>\n",
              "      <th>0</th>\n",
              "      <td>Andhra Pradesh</td>\n",
              "      <td>152</td>\n",
              "      <td>6.0</td>\n",
              "      <td>2</td>\n",
              "      <td>7429.0</td>\n",
              "      <td>741.0</td>\n",
              "      <td>150.0</td>\n",
              "      <td>56</td>\n",
              "      <td>2021</td>\n",
              "      <td>8480</td>\n",
              "    </tr>\n",
              "    <tr>\n",
              "      <th>1</th>\n",
              "      <td>Arunachal Pradesh</td>\n",
              "      <td>0</td>\n",
              "      <td>0.0</td>\n",
              "      <td>0</td>\n",
              "      <td>66.0</td>\n",
              "      <td>86.0</td>\n",
              "      <td>8.0</td>\n",
              "      <td>4</td>\n",
              "      <td>2021</td>\n",
              "      <td>164</td>\n",
              "    </tr>\n",
              "    <tr>\n",
              "      <th>2</th>\n",
              "      <td>Assam</td>\n",
              "      <td>193</td>\n",
              "      <td>27.0</td>\n",
              "      <td>3</td>\n",
              "      <td>10598.0</td>\n",
              "      <td>5703.0</td>\n",
              "      <td>1286.0</td>\n",
              "      <td>205</td>\n",
              "      <td>2021</td>\n",
              "      <td>18015</td>\n",
              "    </tr>\n",
              "    <tr>\n",
              "      <th>3</th>\n",
              "      <td>Bihar</td>\n",
              "      <td>1081</td>\n",
              "      <td>0.0</td>\n",
              "      <td>4</td>\n",
              "      <td>NaN</td>\n",
              "      <td>6188.0</td>\n",
              "      <td>0.0</td>\n",
              "      <td>697</td>\n",
              "      <td>2021</td>\n",
              "      <td>7970</td>\n",
              "    </tr>\n",
              "    <tr>\n",
              "      <th>4</th>\n",
              "      <td>Chhattisgarh</td>\n",
              "      <td>75</td>\n",
              "      <td>3.0</td>\n",
              "      <td>0</td>\n",
              "      <td>582.0</td>\n",
              "      <td>1474.0</td>\n",
              "      <td>2.0</td>\n",
              "      <td>544</td>\n",
              "      <td>2021</td>\n",
              "      <td>2680</td>\n",
              "    </tr>\n",
              "    <tr>\n",
              "      <th>...</th>\n",
              "      <td>...</td>\n",
              "      <td>...</td>\n",
              "      <td>...</td>\n",
              "      <td>...</td>\n",
              "      <td>...</td>\n",
              "      <td>...</td>\n",
              "      <td>...</td>\n",
              "      <td>...</td>\n",
              "      <td>...</td>\n",
              "      <td>...</td>\n",
              "    </tr>\n",
              "    <tr>\n",
              "      <th>3605</th>\n",
              "      <td>gujarat</td>\n",
              "      <td>0</td>\n",
              "      <td>2.0</td>\n",
              "      <td>0</td>\n",
              "      <td>0.0</td>\n",
              "      <td>1.0</td>\n",
              "      <td>1.0</td>\n",
              "      <td>1</td>\n",
              "      <td>2016</td>\n",
              "      <td>5</td>\n",
              "    </tr>\n",
              "    <tr>\n",
              "      <th>3606</th>\n",
              "      <td>madhya Pradesh</td>\n",
              "      <td>0</td>\n",
              "      <td>1.0</td>\n",
              "      <td>0</td>\n",
              "      <td>1.0</td>\n",
              "      <td>1.0</td>\n",
              "      <td>1.0</td>\n",
              "      <td>1</td>\n",
              "      <td>2016</td>\n",
              "      <td>5</td>\n",
              "    </tr>\n",
              "    <tr>\n",
              "      <th>3607</th>\n",
              "      <td>bihar</td>\n",
              "      <td>0</td>\n",
              "      <td>0.0</td>\n",
              "      <td>0</td>\n",
              "      <td>0.0</td>\n",
              "      <td>0.0</td>\n",
              "      <td>1.0</td>\n",
              "      <td>1</td>\n",
              "      <td>2016</td>\n",
              "      <td>2</td>\n",
              "    </tr>\n",
              "    <tr>\n",
              "      <th>3608</th>\n",
              "      <td>manipur</td>\n",
              "      <td>0</td>\n",
              "      <td>1.0</td>\n",
              "      <td>0</td>\n",
              "      <td>0.0</td>\n",
              "      <td>1.0</td>\n",
              "      <td>1.0</td>\n",
              "      <td>1</td>\n",
              "      <td>2016</td>\n",
              "      <td>4</td>\n",
              "    </tr>\n",
              "    <tr>\n",
              "      <th>3609</th>\n",
              "      <td>assam</td>\n",
              "      <td>0</td>\n",
              "      <td>0.0</td>\n",
              "      <td>0</td>\n",
              "      <td>0.0</td>\n",
              "      <td>0.0</td>\n",
              "      <td>1.0</td>\n",
              "      <td>1</td>\n",
              "      <td>2016</td>\n",
              "      <td>2</td>\n",
              "    </tr>\n",
              "  </tbody>\n",
              "</table>\n",
              "<p>3610 rows × 10 columns</p>\n",
              "</div>"
            ],
            "text/plain": [
              "               State/UT  Dowry Deaths   Murder with Rape  Acid Attack   \\\n",
              "0        Andhra Pradesh            152               6.0             2   \n",
              "1     Arunachal Pradesh              0               0.0             0   \n",
              "2                 Assam            193              27.0             3   \n",
              "3                 Bihar           1081               0.0             4   \n",
              "4          Chhattisgarh             75               3.0             0   \n",
              "...                 ...            ...               ...           ...   \n",
              "3605            gujarat              0               2.0             0   \n",
              "3606     madhya Pradesh              0               1.0             0   \n",
              "3607              bihar              0               0.0             0   \n",
              "3608            manipur              0               1.0             0   \n",
              "3609              assam              0               0.0             0   \n",
              "\n",
              "      Cruelty by Husband or his relatives  Kidnapping & Abduction  \\\n",
              "0                                  7429.0                   741.0   \n",
              "1                                    66.0                    86.0   \n",
              "2                                 10598.0                  5703.0   \n",
              "3                                     NaN                  6188.0   \n",
              "4                                   582.0                  1474.0   \n",
              "...                                   ...                     ...   \n",
              "3605                                  0.0                     1.0   \n",
              "3606                                  1.0                     1.0   \n",
              "3607                                  0.0                     0.0   \n",
              "3608                                  0.0                     1.0   \n",
              "3609                                  0.0                     0.0   \n",
              "\n",
              "      Procuration of Minor Girls   Sexual Assault of Children   year  \\\n",
              "0                           150.0                           56  2021   \n",
              "1                             8.0                            4  2021   \n",
              "2                          1286.0                          205  2021   \n",
              "3                             0.0                          697  2021   \n",
              "4                             2.0                          544  2021   \n",
              "...                           ...                          ...   ...   \n",
              "3605                          1.0                            1  2016   \n",
              "3606                          1.0                            1  2016   \n",
              "3607                          1.0                            1  2016   \n",
              "3608                          1.0                            1  2016   \n",
              "3609                          1.0                            1  2016   \n",
              "\n",
              "      Total crimes  \n",
              "0             8480  \n",
              "1              164  \n",
              "2            18015  \n",
              "3             7970  \n",
              "4             2680  \n",
              "...            ...  \n",
              "3605             5  \n",
              "3606             5  \n",
              "3607             2  \n",
              "3608             4  \n",
              "3609             2  \n",
              "\n",
              "[3610 rows x 10 columns]"
            ]
          },
          "execution_count": 11,
          "metadata": {},
          "output_type": "execute_result"
        }
      ],
      "source": [
        "\n",
        "ds=pd.read_csv('crime_against_women.csv')\n",
        "ds"
      ]
    },
    {
      "cell_type": "code",
      "execution_count": null,
      "metadata": {
        "id": "n21Cc5pwFpUU"
      },
      "outputs": [],
      "source": []
    },
    {
      "cell_type": "markdown",
      "metadata": {
        "id": "0qIfxdM1yKyJ"
      },
      "source": [
        "#EDA"
      ]
    },
    {
      "cell_type": "code",
      "execution_count": 12,
      "metadata": {
        "colab": {
          "base_uri": "https://localhost:8080/",
          "height": 285
        },
        "id": "8h4BDea-OgmD",
        "outputId": "d1990282-7ba5-4642-8781-dd6f4f08e47f"
      },
      "outputs": [
        {
          "data": {
            "text/html": [
              "<div>\n",
              "<style scoped>\n",
              "    .dataframe tbody tr th:only-of-type {\n",
              "        vertical-align: middle;\n",
              "    }\n",
              "\n",
              "    .dataframe tbody tr th {\n",
              "        vertical-align: top;\n",
              "    }\n",
              "\n",
              "    .dataframe thead th {\n",
              "        text-align: right;\n",
              "    }\n",
              "</style>\n",
              "<table border=\"1\" class=\"dataframe\">\n",
              "  <thead>\n",
              "    <tr style=\"text-align: right;\">\n",
              "      <th></th>\n",
              "      <th>State/UT</th>\n",
              "      <th>Dowry Deaths</th>\n",
              "      <th>Murder with Rape</th>\n",
              "      <th>Acid Attack</th>\n",
              "      <th>Cruelty by Husband or his relatives</th>\n",
              "      <th>Kidnapping &amp; Abduction</th>\n",
              "      <th>Procuration of Minor Girls</th>\n",
              "      <th>Sexual Assault of Children</th>\n",
              "      <th>year</th>\n",
              "      <th>Total crimes</th>\n",
              "    </tr>\n",
              "  </thead>\n",
              "  <tbody>\n",
              "    <tr>\n",
              "      <th>0</th>\n",
              "      <td>Andhra Pradesh</td>\n",
              "      <td>152</td>\n",
              "      <td>6.0</td>\n",
              "      <td>2</td>\n",
              "      <td>7429.0</td>\n",
              "      <td>741.0</td>\n",
              "      <td>150.0</td>\n",
              "      <td>56</td>\n",
              "      <td>2021</td>\n",
              "      <td>8480</td>\n",
              "    </tr>\n",
              "    <tr>\n",
              "      <th>1</th>\n",
              "      <td>Arunachal Pradesh</td>\n",
              "      <td>0</td>\n",
              "      <td>0.0</td>\n",
              "      <td>0</td>\n",
              "      <td>66.0</td>\n",
              "      <td>86.0</td>\n",
              "      <td>8.0</td>\n",
              "      <td>4</td>\n",
              "      <td>2021</td>\n",
              "      <td>164</td>\n",
              "    </tr>\n",
              "    <tr>\n",
              "      <th>2</th>\n",
              "      <td>Assam</td>\n",
              "      <td>193</td>\n",
              "      <td>27.0</td>\n",
              "      <td>3</td>\n",
              "      <td>10598.0</td>\n",
              "      <td>5703.0</td>\n",
              "      <td>1286.0</td>\n",
              "      <td>205</td>\n",
              "      <td>2021</td>\n",
              "      <td>18015</td>\n",
              "    </tr>\n",
              "    <tr>\n",
              "      <th>3</th>\n",
              "      <td>Bihar</td>\n",
              "      <td>1081</td>\n",
              "      <td>0.0</td>\n",
              "      <td>4</td>\n",
              "      <td>NaN</td>\n",
              "      <td>6188.0</td>\n",
              "      <td>0.0</td>\n",
              "      <td>697</td>\n",
              "      <td>2021</td>\n",
              "      <td>7970</td>\n",
              "    </tr>\n",
              "    <tr>\n",
              "      <th>4</th>\n",
              "      <td>Chhattisgarh</td>\n",
              "      <td>75</td>\n",
              "      <td>3.0</td>\n",
              "      <td>0</td>\n",
              "      <td>582.0</td>\n",
              "      <td>1474.0</td>\n",
              "      <td>2.0</td>\n",
              "      <td>544</td>\n",
              "      <td>2021</td>\n",
              "      <td>2680</td>\n",
              "    </tr>\n",
              "  </tbody>\n",
              "</table>\n",
              "</div>"
            ],
            "text/plain": [
              "            State/UT  Dowry Deaths   Murder with Rape  Acid Attack   \\\n",
              "0     Andhra Pradesh            152               6.0             2   \n",
              "1  Arunachal Pradesh              0               0.0             0   \n",
              "2              Assam            193              27.0             3   \n",
              "3              Bihar           1081               0.0             4   \n",
              "4       Chhattisgarh             75               3.0             0   \n",
              "\n",
              "   Cruelty by Husband or his relatives  Kidnapping & Abduction  \\\n",
              "0                               7429.0                   741.0   \n",
              "1                                 66.0                    86.0   \n",
              "2                              10598.0                  5703.0   \n",
              "3                                  NaN                  6188.0   \n",
              "4                                582.0                  1474.0   \n",
              "\n",
              "   Procuration of Minor Girls   Sexual Assault of Children   year  \\\n",
              "0                        150.0                           56  2021   \n",
              "1                          8.0                            4  2021   \n",
              "2                       1286.0                          205  2021   \n",
              "3                          0.0                          697  2021   \n",
              "4                          2.0                          544  2021   \n",
              "\n",
              "   Total crimes  \n",
              "0          8480  \n",
              "1           164  \n",
              "2         18015  \n",
              "3          7970  \n",
              "4          2680  "
            ]
          },
          "execution_count": 12,
          "metadata": {},
          "output_type": "execute_result"
        }
      ],
      "source": [
        "ds.head()"
      ]
    },
    {
      "cell_type": "code",
      "execution_count": 13,
      "metadata": {
        "colab": {
          "base_uri": "https://localhost:8080/"
        },
        "id": "c0EFyH2DOsS5",
        "outputId": "0be578ce-04dd-4c8e-9fda-c172953eec70"
      },
      "outputs": [
        {
          "data": {
            "text/plain": [
              "(3610, 10)"
            ]
          },
          "execution_count": 13,
          "metadata": {},
          "output_type": "execute_result"
        }
      ],
      "source": [
        "ds.shape"
      ]
    },
    {
      "cell_type": "code",
      "execution_count": 14,
      "metadata": {
        "colab": {
          "base_uri": "https://localhost:8080/"
        },
        "id": "GxlHy0QLOyIS",
        "outputId": "7886faa2-39ba-41f8-95c5-ab803ebc674c"
      },
      "outputs": [
        {
          "name": "stdout",
          "output_type": "stream",
          "text": [
            "<class 'pandas.core.frame.DataFrame'>\n",
            "RangeIndex: 3610 entries, 0 to 3609\n",
            "Data columns (total 10 columns):\n",
            " #   Column                               Non-Null Count  Dtype  \n",
            "---  ------                               --------------  -----  \n",
            " 0   State/UT                             3610 non-null   object \n",
            " 1   Dowry Deaths                         3610 non-null   int64  \n",
            " 2   Murder with Rape                     3609 non-null   float64\n",
            " 3   Acid Attack                          3610 non-null   int64  \n",
            " 4   Cruelty by Husband or his relatives  3608 non-null   float64\n",
            " 5   Kidnapping & Abduction               3609 non-null   float64\n",
            " 6   Procuration of Minor Girls           3609 non-null   float64\n",
            " 7   Sexual Assault of Children           3610 non-null   int64  \n",
            " 8   year                                 3610 non-null   int64  \n",
            " 9   Total crimes                         3610 non-null   int64  \n",
            "dtypes: float64(4), int64(5), object(1)\n",
            "memory usage: 282.2+ KB\n"
          ]
        }
      ],
      "source": [
        "ds.info()"
      ]
    },
    {
      "cell_type": "markdown",
      "metadata": {
        "id": "3IbCcIIJyTR2"
      },
      "source": [
        "#Treating Null Values"
      ]
    },
    {
      "cell_type": "code",
      "execution_count": 70,
      "metadata": {},
      "outputs": [
        {
          "data": {
            "text/plain": [
              "array(['A & N ISLANDS', 'A & N Islands', 'A&N Islands', 'ANDHRA PRADESH',\n",
              "       'ARUNACHAL PRADESH', 'ASSAM', 'Andhra Pradesh', 'Andra pradesh',\n",
              "       'Arunachal Pradesh', 'Assam', 'BIHAR', 'Bihar', 'CHANDIGARH',\n",
              "       'CHHATTISGARH', 'Chandigarh', 'Chhattisgarh', 'D & N HAVELI',\n",
              "       'D&N Haveli', 'D&N Haveli and Daman & Diu', 'DAMAN & DIU', 'DELHI',\n",
              "       'Daman & Diu', 'Delhi', 'Delhi UT', 'GOA', 'GUJARAT', 'Goa',\n",
              "       'Gujarat', 'HARYANA', 'HIMACHAL PRADESH', 'Haryana',\n",
              "       'Himachal Pradesh', 'JAMMU & KASHMIR', 'JHARKHAND',\n",
              "       'Jammu & Kashmir', 'Jharkhand', 'KARNATAKA', 'KERALA', 'Karnataka',\n",
              "       'Kerala', 'LAKSHADWEEP', 'Ladakh', 'Lakshadweep', 'MADHYA PRADESH',\n",
              "       'MAHARASHTRA', 'MANIPUR', 'MEGHALAYA', 'MIZORAM', 'Madhya Pradesh',\n",
              "       'Maharashtra', 'Manipur', 'Meghalaya', 'Mizoram', 'NAGALAND',\n",
              "       'Nagaland', 'ODISHA', 'Odisha', 'PUDUCHERRY', 'PUNJAB',\n",
              "       'Puducherry', 'Punjab', 'RAJASTHAN', 'Rajasthan', 'SIKKIM',\n",
              "       'Sikkim', 'TAMIL NADU', 'TRIPURA', 'Tamil Nadu', 'Telangana',\n",
              "       'Tripura', 'UTTAR PRADESH', 'UTTARAKHAND', 'Uttar Pradesh',\n",
              "       'Uttarakhand', 'WEST BENGAL', 'West Bengal', 'assam', 'bihar',\n",
              "       'gujarat', 'madhya Pradesh', 'manipur'], dtype=object)"
            ]
          },
          "execution_count": 70,
          "metadata": {},
          "output_type": "execute_result"
        }
      ],
      "source": [
        "pd.read_csv('crime_against_women.csv')['State/UT'].sort_values().unique()"
      ]
    },
    {
      "cell_type": "code",
      "execution_count": 66,
      "metadata": {},
      "outputs": [
        {
          "data": {
            "text/html": [
              "<div>\n",
              "<style scoped>\n",
              "    .dataframe tbody tr th:only-of-type {\n",
              "        vertical-align: middle;\n",
              "    }\n",
              "\n",
              "    .dataframe tbody tr th {\n",
              "        vertical-align: top;\n",
              "    }\n",
              "\n",
              "    .dataframe thead th {\n",
              "        text-align: right;\n",
              "    }\n",
              "</style>\n",
              "<table border=\"1\" class=\"dataframe\">\n",
              "  <thead>\n",
              "    <tr style=\"text-align: right;\">\n",
              "      <th></th>\n",
              "      <th>State/UT</th>\n",
              "      <th>Dowry Deaths</th>\n",
              "      <th>Murder with Rape</th>\n",
              "      <th>Acid Attack</th>\n",
              "      <th>Cruelty by Husband or his relatives</th>\n",
              "      <th>Kidnapping &amp; Abduction</th>\n",
              "      <th>Procuration of Minor Girls</th>\n",
              "      <th>Sexual Assault of Children</th>\n",
              "      <th>year</th>\n",
              "      <th>Total crimes</th>\n",
              "    </tr>\n",
              "  </thead>\n",
              "  <tbody>\n",
              "    <tr>\n",
              "      <th>count</th>\n",
              "      <td>3610.000000</td>\n",
              "      <td>3610.000000</td>\n",
              "      <td>3610.000000</td>\n",
              "      <td>3610.000000</td>\n",
              "      <td>3610.000000</td>\n",
              "      <td>3610.000000</td>\n",
              "      <td>3610.000000</td>\n",
              "      <td>3610.000000</td>\n",
              "      <td>3610.000000</td>\n",
              "      <td>3610.000000</td>\n",
              "    </tr>\n",
              "    <tr>\n",
              "      <th>mean</th>\n",
              "      <td>40.222715</td>\n",
              "      <td>29.642659</td>\n",
              "      <td>69.144044</td>\n",
              "      <td>3.031856</td>\n",
              "      <td>416.269252</td>\n",
              "      <td>186.237950</td>\n",
              "      <td>5.622438</td>\n",
              "      <td>20.160942</td>\n",
              "      <td>2012.980886</td>\n",
              "      <td>729.901662</td>\n",
              "    </tr>\n",
              "    <tr>\n",
              "      <th>std</th>\n",
              "      <td>22.803721</td>\n",
              "      <td>147.983425</td>\n",
              "      <td>260.317257</td>\n",
              "      <td>6.176120</td>\n",
              "      <td>1677.294034</td>\n",
              "      <td>805.078358</td>\n",
              "      <td>57.376876</td>\n",
              "      <td>189.764704</td>\n",
              "      <td>1.886770</td>\n",
              "      <td>2708.919689</td>\n",
              "    </tr>\n",
              "    <tr>\n",
              "      <th>min</th>\n",
              "      <td>0.000000</td>\n",
              "      <td>0.000000</td>\n",
              "      <td>0.000000</td>\n",
              "      <td>0.000000</td>\n",
              "      <td>0.000000</td>\n",
              "      <td>0.000000</td>\n",
              "      <td>0.000000</td>\n",
              "      <td>0.000000</td>\n",
              "      <td>2011.000000</td>\n",
              "      <td>0.000000</td>\n",
              "    </tr>\n",
              "    <tr>\n",
              "      <th>25%</th>\n",
              "      <td>22.000000</td>\n",
              "      <td>0.000000</td>\n",
              "      <td>9.000000</td>\n",
              "      <td>0.000000</td>\n",
              "      <td>13.000000</td>\n",
              "      <td>10.000000</td>\n",
              "      <td>1.000000</td>\n",
              "      <td>0.000000</td>\n",
              "      <td>2012.000000</td>\n",
              "      <td>62.000000</td>\n",
              "    </tr>\n",
              "    <tr>\n",
              "      <th>50%</th>\n",
              "      <td>43.000000</td>\n",
              "      <td>5.000000</td>\n",
              "      <td>26.000000</td>\n",
              "      <td>1.000000</td>\n",
              "      <td>69.000000</td>\n",
              "      <td>36.000000</td>\n",
              "      <td>1.000000</td>\n",
              "      <td>0.000000</td>\n",
              "      <td>2013.000000</td>\n",
              "      <td>178.000000</td>\n",
              "    </tr>\n",
              "    <tr>\n",
              "      <th>75%</th>\n",
              "      <td>61.000000</td>\n",
              "      <td>17.000000</td>\n",
              "      <td>54.000000</td>\n",
              "      <td>4.000000</td>\n",
              "      <td>204.000000</td>\n",
              "      <td>87.000000</td>\n",
              "      <td>1.000000</td>\n",
              "      <td>1.000000</td>\n",
              "      <td>2014.000000</td>\n",
              "      <td>373.000000</td>\n",
              "    </tr>\n",
              "    <tr>\n",
              "      <th>max</th>\n",
              "      <td>80.000000</td>\n",
              "      <td>2711.000000</td>\n",
              "      <td>5076.000000</td>\n",
              "      <td>44.000000</td>\n",
              "      <td>23278.000000</td>\n",
              "      <td>15747.000000</td>\n",
              "      <td>1474.000000</td>\n",
              "      <td>3899.000000</td>\n",
              "      <td>2021.000000</td>\n",
              "      <td>36764.000000</td>\n",
              "    </tr>\n",
              "  </tbody>\n",
              "</table>\n",
              "</div>"
            ],
            "text/plain": [
              "          State/UT  Dowry Deaths   Murder with Rape  Acid Attack   \\\n",
              "count  3610.000000    3610.000000       3610.000000   3610.000000   \n",
              "mean     40.222715      29.642659         69.144044      3.031856   \n",
              "std      22.803721     147.983425        260.317257      6.176120   \n",
              "min       0.000000       0.000000          0.000000      0.000000   \n",
              "25%      22.000000       0.000000          9.000000      0.000000   \n",
              "50%      43.000000       5.000000         26.000000      1.000000   \n",
              "75%      61.000000      17.000000         54.000000      4.000000   \n",
              "max      80.000000    2711.000000       5076.000000     44.000000   \n",
              "\n",
              "       Cruelty by Husband or his relatives  Kidnapping & Abduction  \\\n",
              "count                          3610.000000             3610.000000   \n",
              "mean                            416.269252              186.237950   \n",
              "std                            1677.294034              805.078358   \n",
              "min                               0.000000                0.000000   \n",
              "25%                              13.000000               10.000000   \n",
              "50%                              69.000000               36.000000   \n",
              "75%                             204.000000               87.000000   \n",
              "max                           23278.000000            15747.000000   \n",
              "\n",
              "       Procuration of Minor Girls   Sexual Assault of Children          year  \\\n",
              "count                  3610.000000                  3610.000000  3610.000000   \n",
              "mean                      5.622438                    20.160942  2012.980886   \n",
              "std                      57.376876                   189.764704     1.886770   \n",
              "min                       0.000000                     0.000000  2011.000000   \n",
              "25%                       1.000000                     0.000000  2012.000000   \n",
              "50%                       1.000000                     0.000000  2013.000000   \n",
              "75%                       1.000000                     1.000000  2014.000000   \n",
              "max                    1474.000000                  3899.000000  2021.000000   \n",
              "\n",
              "       Total crimes  \n",
              "count   3610.000000  \n",
              "mean     729.901662  \n",
              "std     2708.919689  \n",
              "min        0.000000  \n",
              "25%       62.000000  \n",
              "50%      178.000000  \n",
              "75%      373.000000  \n",
              "max    36764.000000  "
            ]
          },
          "execution_count": 66,
          "metadata": {},
          "output_type": "execute_result"
        }
      ],
      "source": [
        "ds.describe()"
      ]
    },
    {
      "cell_type": "code",
      "execution_count": 15,
      "metadata": {
        "colab": {
          "base_uri": "https://localhost:8080/"
        },
        "id": "NG1dlO29O1ZP",
        "outputId": "9f3687c8-ba48-4e3d-c264-70c4f5d64492"
      },
      "outputs": [
        {
          "data": {
            "text/plain": [
              "State/UT                               0\n",
              "Dowry Deaths                           0\n",
              "Murder with Rape                       1\n",
              "Acid Attack                            0\n",
              "Cruelty by Husband or his relatives    2\n",
              "Kidnapping & Abduction                 1\n",
              "Procuration of Minor Girls             1\n",
              "Sexual Assault of Children             0\n",
              "year                                   0\n",
              "Total crimes                           0\n",
              "dtype: int64"
            ]
          },
          "execution_count": 15,
          "metadata": {},
          "output_type": "execute_result"
        }
      ],
      "source": [
        "ds.isnull().sum()"
      ]
    },
    {
      "cell_type": "code",
      "execution_count": 16,
      "metadata": {
        "id": "CPegq1JVO9sb"
      },
      "outputs": [],
      "source": [
        "m=ds[\"Murder with Rape\"].mode().values[0]\n",
        "ds[\"Murder with Rape\"]=ds[\"Murder with Rape\"].replace(np.NaN,m)"
      ]
    },
    {
      "cell_type": "code",
      "execution_count": 17,
      "metadata": {
        "colab": {
          "base_uri": "https://localhost:8080/"
        },
        "id": "jCf78kTTP4k-",
        "outputId": "0c186344-0c24-4705-c742-85895498760c"
      },
      "outputs": [
        {
          "data": {
            "text/plain": [
              "State/UT                               0\n",
              "Dowry Deaths                           0\n",
              "Murder with Rape                       0\n",
              "Acid Attack                            0\n",
              "Cruelty by Husband or his relatives    2\n",
              "Kidnapping & Abduction                 1\n",
              "Procuration of Minor Girls             1\n",
              "Sexual Assault of Children             0\n",
              "year                                   0\n",
              "Total crimes                           0\n",
              "dtype: int64"
            ]
          },
          "execution_count": 17,
          "metadata": {},
          "output_type": "execute_result"
        }
      ],
      "source": [
        "ds.isnull().sum()"
      ]
    },
    {
      "cell_type": "code",
      "execution_count": 18,
      "metadata": {
        "id": "EGXofzsJP-av"
      },
      "outputs": [],
      "source": [
        "m=ds[\"Cruelty by Husband or his relatives\"].mode().values[0]\n",
        "ds[\"Cruelty by Husband or his relatives\"]=ds[\"Cruelty by Husband or his relatives\"].replace(np.NaN,m)"
      ]
    },
    {
      "cell_type": "code",
      "execution_count": 19,
      "metadata": {
        "colab": {
          "base_uri": "https://localhost:8080/"
        },
        "id": "l0-i-fkwQaOV",
        "outputId": "bc04314a-0d4c-48aa-f9df-04ac2967e507"
      },
      "outputs": [
        {
          "data": {
            "text/plain": [
              "State/UT                               0\n",
              "Dowry Deaths                           0\n",
              "Murder with Rape                       0\n",
              "Acid Attack                            0\n",
              "Cruelty by Husband or his relatives    0\n",
              "Kidnapping & Abduction                 1\n",
              "Procuration of Minor Girls             1\n",
              "Sexual Assault of Children             0\n",
              "year                                   0\n",
              "Total crimes                           0\n",
              "dtype: int64"
            ]
          },
          "execution_count": 19,
          "metadata": {},
          "output_type": "execute_result"
        }
      ],
      "source": [
        "\n",
        "ds.isnull().sum()\n"
      ]
    },
    {
      "cell_type": "code",
      "execution_count": 20,
      "metadata": {
        "id": "zKsctr-mQkWF"
      },
      "outputs": [],
      "source": [
        "m=ds[\"Kidnapping & Abduction\"].mode().values[0]\n",
        "ds[\"Kidnapping & Abduction\"]=ds[\"Kidnapping & Abduction\"].replace(np.NaN,m)"
      ]
    },
    {
      "cell_type": "code",
      "execution_count": 21,
      "metadata": {
        "colab": {
          "base_uri": "https://localhost:8080/"
        },
        "id": "TRVRXZZyQzxs",
        "outputId": "8763b05a-fc23-404d-f0e3-7696346b7120"
      },
      "outputs": [
        {
          "data": {
            "text/plain": [
              "State/UT                               0\n",
              "Dowry Deaths                           0\n",
              "Murder with Rape                       0\n",
              "Acid Attack                            0\n",
              "Cruelty by Husband or his relatives    0\n",
              "Kidnapping & Abduction                 0\n",
              "Procuration of Minor Girls             1\n",
              "Sexual Assault of Children             0\n",
              "year                                   0\n",
              "Total crimes                           0\n",
              "dtype: int64"
            ]
          },
          "execution_count": 21,
          "metadata": {},
          "output_type": "execute_result"
        }
      ],
      "source": [
        "\n",
        "ds.isnull().sum()"
      ]
    },
    {
      "cell_type": "code",
      "execution_count": 22,
      "metadata": {
        "colab": {
          "base_uri": "https://localhost:8080/"
        },
        "id": "oKJFM8TZ1QPe",
        "outputId": "6ece543e-e444-48f5-f346-d70a6ab6405e"
      },
      "outputs": [
        {
          "data": {
            "text/plain": [
              "array([1.500e+02, 8.000e+00, 1.286e+03, 0.000e+00, 2.000e+00, 8.730e+02,\n",
              "       4.000e+00, 8.000e+01, 2.800e+02, 1.050e+02, 1.100e+01, 1.200e+01,\n",
              "       6.100e+01, 2.300e+01, 1.000e+00, 5.400e+01, 1.970e+02, 7.600e+01,\n",
              "       1.090e+02,       nan, 3.400e+01, 2.170e+02, 6.000e+01, 1.000e+01,\n",
              "       1.399e+03, 8.930e+02, 3.520e+02, 7.100e+01, 2.400e+01, 7.000e+01,\n",
              "       2.100e+01, 8.300e+01, 1.480e+02, 5.100e+01, 1.300e+01, 9.500e+01,\n",
              "       4.800e+01, 9.000e+00, 1.474e+03, 8.130e+02, 3.000e+00, 3.040e+02,\n",
              "       5.800e+01, 2.000e+01, 2.200e+01, 3.000e+01, 3.600e+01, 9.900e+01,\n",
              "       7.400e+01, 1.055e+03, 7.890e+02, 2.310e+02, 2.600e+01, 5.000e+00,\n",
              "       3.200e+01, 5.000e+01, 1.500e+01, 8.200e+01, 4.600e+01, 1.700e+01,\n",
              "       1.025e+03, 6.800e+02, 2.580e+02, 5.200e+01, 7.800e+01, 6.000e+00])"
            ]
          },
          "execution_count": 22,
          "metadata": {},
          "output_type": "execute_result"
        }
      ],
      "source": [
        "ds['Procuration of Minor Girls '].unique()"
      ]
    },
    {
      "cell_type": "code",
      "execution_count": 23,
      "metadata": {
        "id": "BIler3Md1q_q"
      },
      "outputs": [],
      "source": [
        "m=ds['Procuration of Minor Girls '].mode().values[0]\n",
        "ds['Procuration of Minor Girls ']=ds['Procuration of Minor Girls '].replace(np.NaN,m)"
      ]
    },
    {
      "cell_type": "code",
      "execution_count": 24,
      "metadata": {
        "colab": {
          "base_uri": "https://localhost:8080/"
        },
        "id": "z9dzOROr4-Qj",
        "outputId": "24327ac2-7fe1-4ef0-ec17-fe971032252f"
      },
      "outputs": [
        {
          "data": {
            "text/plain": [
              "State/UT                               0\n",
              "Dowry Deaths                           0\n",
              "Murder with Rape                       0\n",
              "Acid Attack                            0\n",
              "Cruelty by Husband or his relatives    0\n",
              "Kidnapping & Abduction                 0\n",
              "Procuration of Minor Girls             0\n",
              "Sexual Assault of Children             0\n",
              "year                                   0\n",
              "Total crimes                           0\n",
              "dtype: int64"
            ]
          },
          "execution_count": 24,
          "metadata": {},
          "output_type": "execute_result"
        }
      ],
      "source": [
        "ds.isnull().sum()"
      ]
    },
    {
      "cell_type": "markdown",
      "metadata": {
        "id": "sN7XhDeEyhIk"
      },
      "source": [
        "#Encoding Using LabelEncoder"
      ]
    },
    {
      "cell_type": "code",
      "execution_count": 26,
      "metadata": {},
      "outputs": [
        {
          "data": {
            "text/plain": [
              "81"
            ]
          },
          "execution_count": 26,
          "metadata": {},
          "output_type": "execute_result"
        }
      ],
      "source": [
        "ds[\"State/UT\"].nunique()"
      ]
    },
    {
      "cell_type": "code",
      "execution_count": 27,
      "metadata": {
        "colab": {
          "base_uri": "https://localhost:8080/",
          "height": 485
        },
        "id": "GaqzNRYcMUNn",
        "outputId": "3d145fbd-2ba7-4da2-8660-57e128555f4e"
      },
      "outputs": [
        {
          "data": {
            "text/html": [
              "<div>\n",
              "<style scoped>\n",
              "    .dataframe tbody tr th:only-of-type {\n",
              "        vertical-align: middle;\n",
              "    }\n",
              "\n",
              "    .dataframe tbody tr th {\n",
              "        vertical-align: top;\n",
              "    }\n",
              "\n",
              "    .dataframe thead th {\n",
              "        text-align: right;\n",
              "    }\n",
              "</style>\n",
              "<table border=\"1\" class=\"dataframe\">\n",
              "  <thead>\n",
              "    <tr style=\"text-align: right;\">\n",
              "      <th></th>\n",
              "      <th>State/UT</th>\n",
              "      <th>Dowry Deaths</th>\n",
              "      <th>Murder with Rape</th>\n",
              "      <th>Acid Attack</th>\n",
              "      <th>Cruelty by Husband or his relatives</th>\n",
              "      <th>Kidnapping &amp; Abduction</th>\n",
              "      <th>Procuration of Minor Girls</th>\n",
              "      <th>Sexual Assault of Children</th>\n",
              "      <th>year</th>\n",
              "      <th>Total crimes</th>\n",
              "    </tr>\n",
              "  </thead>\n",
              "  <tbody>\n",
              "    <tr>\n",
              "      <th>0</th>\n",
              "      <td>6</td>\n",
              "      <td>152</td>\n",
              "      <td>6.0</td>\n",
              "      <td>2</td>\n",
              "      <td>7429.0</td>\n",
              "      <td>741.0</td>\n",
              "      <td>150.0</td>\n",
              "      <td>56</td>\n",
              "      <td>2021</td>\n",
              "      <td>8480</td>\n",
              "    </tr>\n",
              "    <tr>\n",
              "      <th>1</th>\n",
              "      <td>8</td>\n",
              "      <td>0</td>\n",
              "      <td>0.0</td>\n",
              "      <td>0</td>\n",
              "      <td>66.0</td>\n",
              "      <td>86.0</td>\n",
              "      <td>8.0</td>\n",
              "      <td>4</td>\n",
              "      <td>2021</td>\n",
              "      <td>164</td>\n",
              "    </tr>\n",
              "    <tr>\n",
              "      <th>2</th>\n",
              "      <td>9</td>\n",
              "      <td>193</td>\n",
              "      <td>27.0</td>\n",
              "      <td>3</td>\n",
              "      <td>10598.0</td>\n",
              "      <td>5703.0</td>\n",
              "      <td>1286.0</td>\n",
              "      <td>205</td>\n",
              "      <td>2021</td>\n",
              "      <td>18015</td>\n",
              "    </tr>\n",
              "    <tr>\n",
              "      <th>3</th>\n",
              "      <td>11</td>\n",
              "      <td>1081</td>\n",
              "      <td>0.0</td>\n",
              "      <td>4</td>\n",
              "      <td>0.0</td>\n",
              "      <td>6188.0</td>\n",
              "      <td>0.0</td>\n",
              "      <td>697</td>\n",
              "      <td>2021</td>\n",
              "      <td>7970</td>\n",
              "    </tr>\n",
              "    <tr>\n",
              "      <th>4</th>\n",
              "      <td>15</td>\n",
              "      <td>75</td>\n",
              "      <td>3.0</td>\n",
              "      <td>0</td>\n",
              "      <td>582.0</td>\n",
              "      <td>1474.0</td>\n",
              "      <td>2.0</td>\n",
              "      <td>544</td>\n",
              "      <td>2021</td>\n",
              "      <td>2680</td>\n",
              "    </tr>\n",
              "    <tr>\n",
              "      <th>...</th>\n",
              "      <td>...</td>\n",
              "      <td>...</td>\n",
              "      <td>...</td>\n",
              "      <td>...</td>\n",
              "      <td>...</td>\n",
              "      <td>...</td>\n",
              "      <td>...</td>\n",
              "      <td>...</td>\n",
              "      <td>...</td>\n",
              "      <td>...</td>\n",
              "    </tr>\n",
              "    <tr>\n",
              "      <th>3605</th>\n",
              "      <td>78</td>\n",
              "      <td>0</td>\n",
              "      <td>2.0</td>\n",
              "      <td>0</td>\n",
              "      <td>0.0</td>\n",
              "      <td>1.0</td>\n",
              "      <td>1.0</td>\n",
              "      <td>1</td>\n",
              "      <td>2016</td>\n",
              "      <td>5</td>\n",
              "    </tr>\n",
              "    <tr>\n",
              "      <th>3606</th>\n",
              "      <td>79</td>\n",
              "      <td>0</td>\n",
              "      <td>1.0</td>\n",
              "      <td>0</td>\n",
              "      <td>1.0</td>\n",
              "      <td>1.0</td>\n",
              "      <td>1.0</td>\n",
              "      <td>1</td>\n",
              "      <td>2016</td>\n",
              "      <td>5</td>\n",
              "    </tr>\n",
              "    <tr>\n",
              "      <th>3607</th>\n",
              "      <td>77</td>\n",
              "      <td>0</td>\n",
              "      <td>0.0</td>\n",
              "      <td>0</td>\n",
              "      <td>0.0</td>\n",
              "      <td>0.0</td>\n",
              "      <td>1.0</td>\n",
              "      <td>1</td>\n",
              "      <td>2016</td>\n",
              "      <td>2</td>\n",
              "    </tr>\n",
              "    <tr>\n",
              "      <th>3608</th>\n",
              "      <td>80</td>\n",
              "      <td>0</td>\n",
              "      <td>1.0</td>\n",
              "      <td>0</td>\n",
              "      <td>0.0</td>\n",
              "      <td>1.0</td>\n",
              "      <td>1.0</td>\n",
              "      <td>1</td>\n",
              "      <td>2016</td>\n",
              "      <td>4</td>\n",
              "    </tr>\n",
              "    <tr>\n",
              "      <th>3609</th>\n",
              "      <td>76</td>\n",
              "      <td>0</td>\n",
              "      <td>0.0</td>\n",
              "      <td>0</td>\n",
              "      <td>0.0</td>\n",
              "      <td>0.0</td>\n",
              "      <td>1.0</td>\n",
              "      <td>1</td>\n",
              "      <td>2016</td>\n",
              "      <td>2</td>\n",
              "    </tr>\n",
              "  </tbody>\n",
              "</table>\n",
              "<p>3610 rows × 10 columns</p>\n",
              "</div>"
            ],
            "text/plain": [
              "      State/UT  Dowry Deaths   Murder with Rape  Acid Attack   \\\n",
              "0            6            152               6.0             2   \n",
              "1            8              0               0.0             0   \n",
              "2            9            193              27.0             3   \n",
              "3           11           1081               0.0             4   \n",
              "4           15             75               3.0             0   \n",
              "...        ...            ...               ...           ...   \n",
              "3605        78              0               2.0             0   \n",
              "3606        79              0               1.0             0   \n",
              "3607        77              0               0.0             0   \n",
              "3608        80              0               1.0             0   \n",
              "3609        76              0               0.0             0   \n",
              "\n",
              "      Cruelty by Husband or his relatives  Kidnapping & Abduction  \\\n",
              "0                                  7429.0                   741.0   \n",
              "1                                    66.0                    86.0   \n",
              "2                                 10598.0                  5703.0   \n",
              "3                                     0.0                  6188.0   \n",
              "4                                   582.0                  1474.0   \n",
              "...                                   ...                     ...   \n",
              "3605                                  0.0                     1.0   \n",
              "3606                                  1.0                     1.0   \n",
              "3607                                  0.0                     0.0   \n",
              "3608                                  0.0                     1.0   \n",
              "3609                                  0.0                     0.0   \n",
              "\n",
              "      Procuration of Minor Girls   Sexual Assault of Children   year  \\\n",
              "0                           150.0                           56  2021   \n",
              "1                             8.0                            4  2021   \n",
              "2                          1286.0                          205  2021   \n",
              "3                             0.0                          697  2021   \n",
              "4                             2.0                          544  2021   \n",
              "...                           ...                          ...   ...   \n",
              "3605                          1.0                            1  2016   \n",
              "3606                          1.0                            1  2016   \n",
              "3607                          1.0                            1  2016   \n",
              "3608                          1.0                            1  2016   \n",
              "3609                          1.0                            1  2016   \n",
              "\n",
              "      Total crimes  \n",
              "0             8480  \n",
              "1              164  \n",
              "2            18015  \n",
              "3             7970  \n",
              "4             2680  \n",
              "...            ...  \n",
              "3605             5  \n",
              "3606             5  \n",
              "3607             2  \n",
              "3608             4  \n",
              "3609             2  \n",
              "\n",
              "[3610 rows x 10 columns]"
            ]
          },
          "execution_count": 27,
          "metadata": {},
          "output_type": "execute_result"
        }
      ],
      "source": [
        "l=LabelEncoder()\n",
        "ds[\"State/UT\"]=l.fit_transform(ds[\"State/UT\"])\n",
        "ds"
      ]
    },
    {
      "cell_type": "code",
      "execution_count": 28,
      "metadata": {
        "colab": {
          "base_uri": "https://localhost:8080/",
          "height": 494
        },
        "id": "J9uhnGB_54cj",
        "outputId": "0dd58223-2dc1-4e93-caa9-1289748203b5"
      },
      "outputs": [
        {
          "data": {
            "text/html": [
              "<div>\n",
              "<style scoped>\n",
              "    .dataframe tbody tr th:only-of-type {\n",
              "        vertical-align: middle;\n",
              "    }\n",
              "\n",
              "    .dataframe tbody tr th {\n",
              "        vertical-align: top;\n",
              "    }\n",
              "\n",
              "    .dataframe thead th {\n",
              "        text-align: right;\n",
              "    }\n",
              "</style>\n",
              "<table border=\"1\" class=\"dataframe\">\n",
              "  <thead>\n",
              "    <tr style=\"text-align: right;\">\n",
              "      <th></th>\n",
              "      <th>State/UT</th>\n",
              "      <th>Dowry Deaths</th>\n",
              "      <th>Murder with Rape</th>\n",
              "      <th>Acid Attack</th>\n",
              "      <th>Cruelty by Husband or his relatives</th>\n",
              "      <th>Kidnapping &amp; Abduction</th>\n",
              "      <th>Procuration of Minor Girls</th>\n",
              "      <th>Sexual Assault of Children</th>\n",
              "      <th>year</th>\n",
              "      <th>Total crimes</th>\n",
              "    </tr>\n",
              "  </thead>\n",
              "  <tbody>\n",
              "    <tr>\n",
              "      <th>State/UT</th>\n",
              "      <td>1.000000</td>\n",
              "      <td>0.052384</td>\n",
              "      <td>0.019446</td>\n",
              "      <td>0.077247</td>\n",
              "      <td>0.043897</td>\n",
              "      <td>0.036307</td>\n",
              "      <td>-0.052441</td>\n",
              "      <td>0.044121</td>\n",
              "      <td>-0.060611</td>\n",
              "      <td>0.044967</td>\n",
              "    </tr>\n",
              "    <tr>\n",
              "      <th>Dowry Deaths</th>\n",
              "      <td>0.052384</td>\n",
              "      <td>1.000000</td>\n",
              "      <td>0.458748</td>\n",
              "      <td>0.170357</td>\n",
              "      <td>0.624505</td>\n",
              "      <td>0.802981</td>\n",
              "      <td>0.088061</td>\n",
              "      <td>0.485343</td>\n",
              "      <td>0.199157</td>\n",
              "      <td>0.760284</td>\n",
              "    </tr>\n",
              "    <tr>\n",
              "      <th>Murder with Rape</th>\n",
              "      <td>0.019446</td>\n",
              "      <td>0.458748</td>\n",
              "      <td>1.000000</td>\n",
              "      <td>0.066711</td>\n",
              "      <td>0.508233</td>\n",
              "      <td>0.434569</td>\n",
              "      <td>-0.013761</td>\n",
              "      <td>-0.019444</td>\n",
              "      <td>-0.022526</td>\n",
              "      <td>0.563493</td>\n",
              "    </tr>\n",
              "    <tr>\n",
              "      <th>Acid Attack</th>\n",
              "      <td>0.077247</td>\n",
              "      <td>0.170357</td>\n",
              "      <td>0.066711</td>\n",
              "      <td>1.000000</td>\n",
              "      <td>0.152195</td>\n",
              "      <td>0.163566</td>\n",
              "      <td>0.000398</td>\n",
              "      <td>0.131448</td>\n",
              "      <td>-0.011623</td>\n",
              "      <td>0.170093</td>\n",
              "    </tr>\n",
              "    <tr>\n",
              "      <th>Cruelty by Husband or his relatives</th>\n",
              "      <td>0.043897</td>\n",
              "      <td>0.624505</td>\n",
              "      <td>0.508233</td>\n",
              "      <td>0.152195</td>\n",
              "      <td>1.000000</td>\n",
              "      <td>0.756037</td>\n",
              "      <td>0.258267</td>\n",
              "      <td>0.412812</td>\n",
              "      <td>0.281870</td>\n",
              "      <td>0.961531</td>\n",
              "    </tr>\n",
              "    <tr>\n",
              "      <th>Kidnapping &amp; Abduction</th>\n",
              "      <td>0.036307</td>\n",
              "      <td>0.802981</td>\n",
              "      <td>0.434569</td>\n",
              "      <td>0.163566</td>\n",
              "      <td>0.756037</td>\n",
              "      <td>1.000000</td>\n",
              "      <td>0.209214</td>\n",
              "      <td>0.577085</td>\n",
              "      <td>0.325550</td>\n",
              "      <td>0.896166</td>\n",
              "    </tr>\n",
              "    <tr>\n",
              "      <th>Procuration of Minor Girls</th>\n",
              "      <td>-0.052441</td>\n",
              "      <td>0.088061</td>\n",
              "      <td>-0.013761</td>\n",
              "      <td>0.000398</td>\n",
              "      <td>0.258267</td>\n",
              "      <td>0.209214</td>\n",
              "      <td>1.000000</td>\n",
              "      <td>0.148174</td>\n",
              "      <td>0.232585</td>\n",
              "      <td>0.257121</td>\n",
              "    </tr>\n",
              "    <tr>\n",
              "      <th>Sexual Assault of Children</th>\n",
              "      <td>0.044121</td>\n",
              "      <td>0.485343</td>\n",
              "      <td>-0.019444</td>\n",
              "      <td>0.131448</td>\n",
              "      <td>0.412812</td>\n",
              "      <td>0.577085</td>\n",
              "      <td>0.148174</td>\n",
              "      <td>1.000000</td>\n",
              "      <td>0.335117</td>\n",
              "      <td>0.525249</td>\n",
              "    </tr>\n",
              "    <tr>\n",
              "      <th>year</th>\n",
              "      <td>-0.060611</td>\n",
              "      <td>0.199157</td>\n",
              "      <td>-0.022526</td>\n",
              "      <td>-0.011623</td>\n",
              "      <td>0.281870</td>\n",
              "      <td>0.325550</td>\n",
              "      <td>0.232585</td>\n",
              "      <td>0.335117</td>\n",
              "      <td>1.000000</td>\n",
              "      <td>0.308388</td>\n",
              "    </tr>\n",
              "    <tr>\n",
              "      <th>Total crimes</th>\n",
              "      <td>0.044967</td>\n",
              "      <td>0.760284</td>\n",
              "      <td>0.563493</td>\n",
              "      <td>0.170093</td>\n",
              "      <td>0.961531</td>\n",
              "      <td>0.896166</td>\n",
              "      <td>0.257121</td>\n",
              "      <td>0.525249</td>\n",
              "      <td>0.308388</td>\n",
              "      <td>1.000000</td>\n",
              "    </tr>\n",
              "  </tbody>\n",
              "</table>\n",
              "</div>"
            ],
            "text/plain": [
              "                                     State/UT  Dowry Deaths   \\\n",
              "State/UT                             1.000000       0.052384   \n",
              "Dowry Deaths                         0.052384       1.000000   \n",
              "Murder with Rape                     0.019446       0.458748   \n",
              "Acid Attack                          0.077247       0.170357   \n",
              "Cruelty by Husband or his relatives  0.043897       0.624505   \n",
              "Kidnapping & Abduction               0.036307       0.802981   \n",
              "Procuration of Minor Girls          -0.052441       0.088061   \n",
              "Sexual Assault of Children           0.044121       0.485343   \n",
              "year                                -0.060611       0.199157   \n",
              "Total crimes                         0.044967       0.760284   \n",
              "\n",
              "                                     Murder with Rape  Acid Attack   \\\n",
              "State/UT                                     0.019446      0.077247   \n",
              "Dowry Deaths                                 0.458748      0.170357   \n",
              "Murder with Rape                             1.000000      0.066711   \n",
              "Acid Attack                                  0.066711      1.000000   \n",
              "Cruelty by Husband or his relatives          0.508233      0.152195   \n",
              "Kidnapping & Abduction                       0.434569      0.163566   \n",
              "Procuration of Minor Girls                  -0.013761      0.000398   \n",
              "Sexual Assault of Children                  -0.019444      0.131448   \n",
              "year                                        -0.022526     -0.011623   \n",
              "Total crimes                                 0.563493      0.170093   \n",
              "\n",
              "                                     Cruelty by Husband or his relatives  \\\n",
              "State/UT                                                        0.043897   \n",
              "Dowry Deaths                                                    0.624505   \n",
              "Murder with Rape                                                0.508233   \n",
              "Acid Attack                                                     0.152195   \n",
              "Cruelty by Husband or his relatives                             1.000000   \n",
              "Kidnapping & Abduction                                          0.756037   \n",
              "Procuration of Minor Girls                                      0.258267   \n",
              "Sexual Assault of Children                                      0.412812   \n",
              "year                                                            0.281870   \n",
              "Total crimes                                                    0.961531   \n",
              "\n",
              "                                     Kidnapping & Abduction  \\\n",
              "State/UT                                           0.036307   \n",
              "Dowry Deaths                                       0.802981   \n",
              "Murder with Rape                                   0.434569   \n",
              "Acid Attack                                        0.163566   \n",
              "Cruelty by Husband or his relatives                0.756037   \n",
              "Kidnapping & Abduction                             1.000000   \n",
              "Procuration of Minor Girls                         0.209214   \n",
              "Sexual Assault of Children                         0.577085   \n",
              "year                                               0.325550   \n",
              "Total crimes                                       0.896166   \n",
              "\n",
              "                                     Procuration of Minor Girls   \\\n",
              "State/UT                                               -0.052441   \n",
              "Dowry Deaths                                            0.088061   \n",
              "Murder with Rape                                       -0.013761   \n",
              "Acid Attack                                             0.000398   \n",
              "Cruelty by Husband or his relatives                     0.258267   \n",
              "Kidnapping & Abduction                                  0.209214   \n",
              "Procuration of Minor Girls                              1.000000   \n",
              "Sexual Assault of Children                              0.148174   \n",
              "year                                                    0.232585   \n",
              "Total crimes                                            0.257121   \n",
              "\n",
              "                                     Sexual Assault of Children       year  \\\n",
              "State/UT                                                0.044121 -0.060611   \n",
              "Dowry Deaths                                            0.485343  0.199157   \n",
              "Murder with Rape                                       -0.019444 -0.022526   \n",
              "Acid Attack                                             0.131448 -0.011623   \n",
              "Cruelty by Husband or his relatives                     0.412812  0.281870   \n",
              "Kidnapping & Abduction                                  0.577085  0.325550   \n",
              "Procuration of Minor Girls                              0.148174  0.232585   \n",
              "Sexual Assault of Children                              1.000000  0.335117   \n",
              "year                                                    0.335117  1.000000   \n",
              "Total crimes                                            0.525249  0.308388   \n",
              "\n",
              "                                     Total crimes  \n",
              "State/UT                                 0.044967  \n",
              "Dowry Deaths                             0.760284  \n",
              "Murder with Rape                         0.563493  \n",
              "Acid Attack                              0.170093  \n",
              "Cruelty by Husband or his relatives      0.961531  \n",
              "Kidnapping & Abduction                   0.896166  \n",
              "Procuration of Minor Girls               0.257121  \n",
              "Sexual Assault of Children               0.525249  \n",
              "year                                     0.308388  \n",
              "Total crimes                             1.000000  "
            ]
          },
          "execution_count": 28,
          "metadata": {},
          "output_type": "execute_result"
        }
      ],
      "source": [
        "a=ds.corr()\n",
        "a"
      ]
    },
    {
      "cell_type": "code",
      "execution_count": 29,
      "metadata": {
        "colab": {
          "base_uri": "https://localhost:8080/"
        },
        "id": "6U3o4sT37FOq",
        "outputId": "90289f96-edc5-4c9d-e1d7-933cc5d9476e"
      },
      "outputs": [
        {
          "data": {
            "text/plain": [
              "(3610, 10)"
            ]
          },
          "execution_count": 29,
          "metadata": {},
          "output_type": "execute_result"
        }
      ],
      "source": [
        "ds.shape\n"
      ]
    },
    {
      "cell_type": "markdown",
      "metadata": {
        "id": "TtU3_XL8ytJy"
      },
      "source": [
        "#Visualization"
      ]
    },
    {
      "cell_type": "code",
      "execution_count": 30,
      "metadata": {
        "colab": {
          "base_uri": "https://localhost:8080/",
          "height": 683
        },
        "id": "zZs0yUMt7O-P",
        "outputId": "d62185a4-f99e-4386-afeb-b9f54dd7251f"
      },
      "outputs": [
        {
          "data": {
            "text/plain": [
              "<Axes: >"
            ]
          },
          "execution_count": 30,
          "metadata": {},
          "output_type": "execute_result"
        },
        {
          "data": {
            "image/png": "[encoded data removed]",
            "text/plain": [
              "<Figure size 640x480 with 2 Axes>"
            ]
          },
          "metadata": {},
          "output_type": "display_data"
        }
      ],
      "source": [
        "sn.heatmap(a,annot=True,cmap=\"RdGy\")"
      ]
    },
    {
      "cell_type": "code",
      "execution_count": null,
      "metadata": {
        "colab": {
          "base_uri": "https://localhost:8080/",
          "height": 466
        },
        "id": "lWPErpzB8qmt",
        "outputId": "5de830b5-be28-4a4e-86f6-790bcf1a0cb7"
      },
      "outputs": [
        {
          "data": {
            "text/plain": [
              "<Axes: xlabel='Dowry Deaths ', ylabel='Count'>"
            ]
          },
          "execution_count": 20,
          "metadata": {},
          "output_type": "execute_result"
        },
        {
          "data": {
            "image/png": "[encoded data removed]",
            "text/plain": [
              "<Figure size 640x480 with 1 Axes>"
            ]
          },
          "metadata": {},
          "output_type": "display_data"
        },
        {
          "data": {
            "text/plain": [
              "<Axes: xlabel='Dowry Deaths ', ylabel='Count'>"
            ]
          },
          "execution_count": 32,
          "metadata": {},
          "output_type": "execute_result"
        },
        {
          "data": {
            "image/png": "[encoded data removed]",
            "text/plain": [
              "<Figure size 640x480 with 1 Axes>"
            ]
          },
          "metadata": {},
          "output_type": "display_data"
        }
      ],
      "source": [
        "sn.histplot(x=\"Dowry Deaths \",data=ds,bins=39)"
      ]
    },
    {
      "cell_type": "code",
      "execution_count": 33,
      "metadata": {
        "colab": {
          "base_uri": "https://localhost:8080/",
          "height": 484
        },
        "id": "7Jmls2qx-rBq",
        "outputId": "b911c40d-ad4e-4967-8771-96ac322e99b8"
      },
      "outputs": [
        {
          "data": {
            "text/plain": [
              "<Axes: xlabel='Dowry Deaths ', ylabel='Murder with Rape'>"
            ]
          },
          "execution_count": 33,
          "metadata": {},
          "output_type": "execute_result"
        },
        {
          "data": {
            "image/png": "[encoded data removed]",
            "text/plain": [
              "<Figure size 640x480 with 1 Axes>"
            ]
          },
          "metadata": {},
          "output_type": "display_data"
        }
      ],
      "source": [
        "\n",
        "sn.boxplot(x=\"Dowry Deaths \",y=\"Murder with Rape\",data=ds,hue=\"Acid Attack \")"
      ]
    },
    {
      "cell_type": "code",
      "execution_count": 34,
      "metadata": {
        "colab": {
          "base_uri": "https://localhost:8080/"
        },
        "id": "5oOVy6hACsTr",
        "outputId": "5b2ed0e0-8c45-42c7-e201-8c4aa4ec0268"
      },
      "outputs": [
        {
          "data": {
            "text/plain": [
              "Index(['State/UT', 'Dowry Deaths ', 'Murder with Rape', 'Acid Attack ',\n",
              "       'Cruelty by Husband or his relatives', 'Kidnapping & Abduction',\n",
              "       'Procuration of Minor Girls ', 'Sexual Assault of Children ', 'year',\n",
              "       'Total crimes'],\n",
              "      dtype='object')"
            ]
          },
          "execution_count": 34,
          "metadata": {},
          "output_type": "execute_result"
        }
      ],
      "source": [
        "ds.columns"
      ]
    },
    {
      "cell_type": "code",
      "execution_count": 35,
      "metadata": {
        "colab": {
          "base_uri": "https://localhost:8080/",
          "height": 545
        },
        "id": "X7opaligEI-e",
        "outputId": "c0eec262-c2d9-431a-fc31-7e2a7368b297"
      },
      "outputs": [
        {
          "data": {
            "text/plain": [
              "([<matplotlib.patches.Wedge at 0x226d9d06f40>,\n",
              "  <matplotlib.patches.Wedge at 0x226d54ab8e0>,\n",
              "  <matplotlib.patches.Wedge at 0x226d9d127f0>,\n",
              "  <matplotlib.patches.Wedge at 0x226d9d12b80>],\n",
              " [Text(0.764120788592483, 1.051722121304293, 'Dowry Deaths '),\n",
              "  Text(-1.0461622061152445, 0.33991857627391475, 'Murder with Rape'),\n",
              "  Text(-0.37082021159948414, -1.1412678785759782, 'Acid Attack '),\n",
              "  Text(0.8899188088302002, -0.6465636192133282, 'Cruelty by Husband or his relatives')])"
            ]
          },
          "execution_count": 35,
          "metadata": {},
          "output_type": "execute_result"
        },
        {
          "data": {
            "image/png": "[encoded data removed]",
            "text/plain": [
              "<Figure size 640x480 with 1 Axes>"
            ]
          },
          "metadata": {},
          "output_type": "display_data"
        }
      ],
      "source": [
        "labels = 'Dowry Deaths ', 'Murder with Rape', 'Acid Attack ', 'Cruelty by Husband or his relatives'\n",
        "sizes = [15, 15, 10, 10]\n",
        "explode=(0.2,0,0.1,0)\n",
        "fig, ax = plt.subplots()\n",
        "ax.pie(sizes, labels=labels,explode=explode)"
      ]
    },
    {
      "cell_type": "markdown",
      "metadata": {
        "id": "hr9WyQOQyxI-"
      },
      "source": [
        "#Sampling"
      ]
    },
    {
      "cell_type": "code",
      "execution_count": 71,
      "metadata": {},
      "outputs": [
        {
          "data": {
            "text/html": [
              "<div>\n",
              "<style scoped>\n",
              "    .dataframe tbody tr th:only-of-type {\n",
              "        vertical-align: middle;\n",
              "    }\n",
              "\n",
              "    .dataframe tbody tr th {\n",
              "        vertical-align: top;\n",
              "    }\n",
              "\n",
              "    .dataframe thead th {\n",
              "        text-align: right;\n",
              "    }\n",
              "</style>\n",
              "<table border=\"1\" class=\"dataframe\">\n",
              "  <thead>\n",
              "    <tr style=\"text-align: right;\">\n",
              "      <th></th>\n",
              "      <th>State/UT</th>\n",
              "      <th>Dowry Deaths</th>\n",
              "      <th>Murder with Rape</th>\n",
              "      <th>Acid Attack</th>\n",
              "      <th>Kidnapping &amp; Abduction</th>\n",
              "      <th>Procuration of Minor Girls</th>\n",
              "      <th>Sexual Assault of Children</th>\n",
              "      <th>year</th>\n",
              "      <th>Total crimes</th>\n",
              "    </tr>\n",
              "  </thead>\n",
              "  <tbody>\n",
              "    <tr>\n",
              "      <th>0</th>\n",
              "      <td>6</td>\n",
              "      <td>152</td>\n",
              "      <td>6.0</td>\n",
              "      <td>2</td>\n",
              "      <td>741.0</td>\n",
              "      <td>150.0</td>\n",
              "      <td>56</td>\n",
              "      <td>2021</td>\n",
              "      <td>8480</td>\n",
              "    </tr>\n",
              "    <tr>\n",
              "      <th>1</th>\n",
              "      <td>8</td>\n",
              "      <td>0</td>\n",
              "      <td>0.0</td>\n",
              "      <td>0</td>\n",
              "      <td>86.0</td>\n",
              "      <td>8.0</td>\n",
              "      <td>4</td>\n",
              "      <td>2021</td>\n",
              "      <td>164</td>\n",
              "    </tr>\n",
              "    <tr>\n",
              "      <th>2</th>\n",
              "      <td>9</td>\n",
              "      <td>193</td>\n",
              "      <td>27.0</td>\n",
              "      <td>3</td>\n",
              "      <td>5703.0</td>\n",
              "      <td>1286.0</td>\n",
              "      <td>205</td>\n",
              "      <td>2021</td>\n",
              "      <td>18015</td>\n",
              "    </tr>\n",
              "    <tr>\n",
              "      <th>3</th>\n",
              "      <td>11</td>\n",
              "      <td>1081</td>\n",
              "      <td>0.0</td>\n",
              "      <td>4</td>\n",
              "      <td>6188.0</td>\n",
              "      <td>0.0</td>\n",
              "      <td>697</td>\n",
              "      <td>2021</td>\n",
              "      <td>7970</td>\n",
              "    </tr>\n",
              "    <tr>\n",
              "      <th>4</th>\n",
              "      <td>15</td>\n",
              "      <td>75</td>\n",
              "      <td>3.0</td>\n",
              "      <td>0</td>\n",
              "      <td>1474.0</td>\n",
              "      <td>2.0</td>\n",
              "      <td>544</td>\n",
              "      <td>2021</td>\n",
              "      <td>2680</td>\n",
              "    </tr>\n",
              "    <tr>\n",
              "      <th>...</th>\n",
              "      <td>...</td>\n",
              "      <td>...</td>\n",
              "      <td>...</td>\n",
              "      <td>...</td>\n",
              "      <td>...</td>\n",
              "      <td>...</td>\n",
              "      <td>...</td>\n",
              "      <td>...</td>\n",
              "      <td>...</td>\n",
              "    </tr>\n",
              "    <tr>\n",
              "      <th>3605</th>\n",
              "      <td>78</td>\n",
              "      <td>0</td>\n",
              "      <td>2.0</td>\n",
              "      <td>0</td>\n",
              "      <td>1.0</td>\n",
              "      <td>1.0</td>\n",
              "      <td>1</td>\n",
              "      <td>2016</td>\n",
              "      <td>5</td>\n",
              "    </tr>\n",
              "    <tr>\n",
              "      <th>3606</th>\n",
              "      <td>79</td>\n",
              "      <td>0</td>\n",
              "      <td>1.0</td>\n",
              "      <td>0</td>\n",
              "      <td>1.0</td>\n",
              "      <td>1.0</td>\n",
              "      <td>1</td>\n",
              "      <td>2016</td>\n",
              "      <td>5</td>\n",
              "    </tr>\n",
              "    <tr>\n",
              "      <th>3607</th>\n",
              "      <td>77</td>\n",
              "      <td>0</td>\n",
              "      <td>0.0</td>\n",
              "      <td>0</td>\n",
              "      <td>0.0</td>\n",
              "      <td>1.0</td>\n",
              "      <td>1</td>\n",
              "      <td>2016</td>\n",
              "      <td>2</td>\n",
              "    </tr>\n",
              "    <tr>\n",
              "      <th>3608</th>\n",
              "      <td>80</td>\n",
              "      <td>0</td>\n",
              "      <td>1.0</td>\n",
              "      <td>0</td>\n",
              "      <td>1.0</td>\n",
              "      <td>1.0</td>\n",
              "      <td>1</td>\n",
              "      <td>2016</td>\n",
              "      <td>4</td>\n",
              "    </tr>\n",
              "    <tr>\n",
              "      <th>3609</th>\n",
              "      <td>76</td>\n",
              "      <td>0</td>\n",
              "      <td>0.0</td>\n",
              "      <td>0</td>\n",
              "      <td>0.0</td>\n",
              "      <td>1.0</td>\n",
              "      <td>1</td>\n",
              "      <td>2016</td>\n",
              "      <td>2</td>\n",
              "    </tr>\n",
              "  </tbody>\n",
              "</table>\n",
              "<p>3610 rows × 9 columns</p>\n",
              "</div>"
            ],
            "text/plain": [
              "      State/UT  Dowry Deaths   Murder with Rape  Acid Attack   \\\n",
              "0            6            152               6.0             2   \n",
              "1            8              0               0.0             0   \n",
              "2            9            193              27.0             3   \n",
              "3           11           1081               0.0             4   \n",
              "4           15             75               3.0             0   \n",
              "...        ...            ...               ...           ...   \n",
              "3605        78              0               2.0             0   \n",
              "3606        79              0               1.0             0   \n",
              "3607        77              0               0.0             0   \n",
              "3608        80              0               1.0             0   \n",
              "3609        76              0               0.0             0   \n",
              "\n",
              "      Kidnapping & Abduction  Procuration of Minor Girls   \\\n",
              "0                      741.0                        150.0   \n",
              "1                       86.0                          8.0   \n",
              "2                     5703.0                       1286.0   \n",
              "3                     6188.0                          0.0   \n",
              "4                     1474.0                          2.0   \n",
              "...                      ...                          ...   \n",
              "3605                     1.0                          1.0   \n",
              "3606                     1.0                          1.0   \n",
              "3607                     0.0                          1.0   \n",
              "3608                     1.0                          1.0   \n",
              "3609                     0.0                          1.0   \n",
              "\n",
              "      Sexual Assault of Children   year  Total crimes  \n",
              "0                              56  2021          8480  \n",
              "1                               4  2021           164  \n",
              "2                             205  2021         18015  \n",
              "3                             697  2021          7970  \n",
              "4                             544  2021          2680  \n",
              "...                           ...   ...           ...  \n",
              "3605                            1  2016             5  \n",
              "3606                            1  2016             5  \n",
              "3607                            1  2016             2  \n",
              "3608                            1  2016             4  \n",
              "3609                            1  2016             2  \n",
              "\n",
              "[3610 rows x 9 columns]"
            ]
          },
          "execution_count": 71,
          "metadata": {},
          "output_type": "execute_result"
        }
      ],
      "source": [
        "x"
      ]
    },
    {
      "cell_type": "code",
      "execution_count": 72,
      "metadata": {
        "colab": {
          "base_uri": "https://localhost:8080/",
          "height": 468
        },
        "id": "C72PQphAFhOX",
        "outputId": "3288b3bf-4610-44f0-c7bb-cbdb549fd338"
      },
      "outputs": [
        {
          "data": {
            "text/html": [
              "<div>\n",
              "<style scoped>\n",
              "    .dataframe tbody tr th:only-of-type {\n",
              "        vertical-align: middle;\n",
              "    }\n",
              "\n",
              "    .dataframe tbody tr th {\n",
              "        vertical-align: top;\n",
              "    }\n",
              "\n",
              "    .dataframe thead th {\n",
              "        text-align: right;\n",
              "    }\n",
              "</style>\n",
              "<table border=\"1\" class=\"dataframe\">\n",
              "  <thead>\n",
              "    <tr style=\"text-align: right;\">\n",
              "      <th></th>\n",
              "      <th>Dowry Deaths</th>\n",
              "      <th>Murder with Rape</th>\n",
              "      <th>Acid Attack</th>\n",
              "      <th>Kidnapping &amp; Abduction</th>\n",
              "      <th>Procuration of Minor Girls</th>\n",
              "      <th>Sexual Assault of Children</th>\n",
              "      <th>year</th>\n",
              "      <th>Total crimes</th>\n",
              "    </tr>\n",
              "  </thead>\n",
              "  <tbody>\n",
              "    <tr>\n",
              "      <th>0</th>\n",
              "      <td>152</td>\n",
              "      <td>6.0</td>\n",
              "      <td>2</td>\n",
              "      <td>741.0</td>\n",
              "      <td>150.0</td>\n",
              "      <td>56</td>\n",
              "      <td>2021</td>\n",
              "      <td>8480</td>\n",
              "    </tr>\n",
              "    <tr>\n",
              "      <th>1</th>\n",
              "      <td>0</td>\n",
              "      <td>0.0</td>\n",
              "      <td>0</td>\n",
              "      <td>86.0</td>\n",
              "      <td>8.0</td>\n",
              "      <td>4</td>\n",
              "      <td>2021</td>\n",
              "      <td>164</td>\n",
              "    </tr>\n",
              "    <tr>\n",
              "      <th>2</th>\n",
              "      <td>193</td>\n",
              "      <td>27.0</td>\n",
              "      <td>3</td>\n",
              "      <td>5703.0</td>\n",
              "      <td>1286.0</td>\n",
              "      <td>205</td>\n",
              "      <td>2021</td>\n",
              "      <td>18015</td>\n",
              "    </tr>\n",
              "    <tr>\n",
              "      <th>3</th>\n",
              "      <td>1081</td>\n",
              "      <td>0.0</td>\n",
              "      <td>4</td>\n",
              "      <td>6188.0</td>\n",
              "      <td>0.0</td>\n",
              "      <td>697</td>\n",
              "      <td>2021</td>\n",
              "      <td>7970</td>\n",
              "    </tr>\n",
              "    <tr>\n",
              "      <th>4</th>\n",
              "      <td>75</td>\n",
              "      <td>3.0</td>\n",
              "      <td>0</td>\n",
              "      <td>1474.0</td>\n",
              "      <td>2.0</td>\n",
              "      <td>544</td>\n",
              "      <td>2021</td>\n",
              "      <td>2680</td>\n",
              "    </tr>\n",
              "    <tr>\n",
              "      <th>...</th>\n",
              "      <td>...</td>\n",
              "      <td>...</td>\n",
              "      <td>...</td>\n",
              "      <td>...</td>\n",
              "      <td>...</td>\n",
              "      <td>...</td>\n",
              "      <td>...</td>\n",
              "      <td>...</td>\n",
              "    </tr>\n",
              "    <tr>\n",
              "      <th>3605</th>\n",
              "      <td>0</td>\n",
              "      <td>2.0</td>\n",
              "      <td>0</td>\n",
              "      <td>1.0</td>\n",
              "      <td>1.0</td>\n",
              "      <td>1</td>\n",
              "      <td>2016</td>\n",
              "      <td>5</td>\n",
              "    </tr>\n",
              "    <tr>\n",
              "      <th>3606</th>\n",
              "      <td>0</td>\n",
              "      <td>1.0</td>\n",
              "      <td>0</td>\n",
              "      <td>1.0</td>\n",
              "      <td>1.0</td>\n",
              "      <td>1</td>\n",
              "      <td>2016</td>\n",
              "      <td>5</td>\n",
              "    </tr>\n",
              "    <tr>\n",
              "      <th>3607</th>\n",
              "      <td>0</td>\n",
              "      <td>0.0</td>\n",
              "      <td>0</td>\n",
              "      <td>0.0</td>\n",
              "      <td>1.0</td>\n",
              "      <td>1</td>\n",
              "      <td>2016</td>\n",
              "      <td>2</td>\n",
              "    </tr>\n",
              "    <tr>\n",
              "      <th>3608</th>\n",
              "      <td>0</td>\n",
              "      <td>1.0</td>\n",
              "      <td>0</td>\n",
              "      <td>1.0</td>\n",
              "      <td>1.0</td>\n",
              "      <td>1</td>\n",
              "      <td>2016</td>\n",
              "      <td>4</td>\n",
              "    </tr>\n",
              "    <tr>\n",
              "      <th>3609</th>\n",
              "      <td>0</td>\n",
              "      <td>0.0</td>\n",
              "      <td>0</td>\n",
              "      <td>0.0</td>\n",
              "      <td>1.0</td>\n",
              "      <td>1</td>\n",
              "      <td>2016</td>\n",
              "      <td>2</td>\n",
              "    </tr>\n",
              "  </tbody>\n",
              "</table>\n",
              "<p>3610 rows × 8 columns</p>\n",
              "</div>"
            ],
            "text/plain": [
              "      Dowry Deaths   Murder with Rape  Acid Attack   Kidnapping & Abduction  \\\n",
              "0               152               6.0             2                   741.0   \n",
              "1                 0               0.0             0                    86.0   \n",
              "2               193              27.0             3                  5703.0   \n",
              "3              1081               0.0             4                  6188.0   \n",
              "4                75               3.0             0                  1474.0   \n",
              "...             ...               ...           ...                     ...   \n",
              "3605              0               2.0             0                     1.0   \n",
              "3606              0               1.0             0                     1.0   \n",
              "3607              0               0.0             0                     0.0   \n",
              "3608              0               1.0             0                     1.0   \n",
              "3609              0               0.0             0                     0.0   \n",
              "\n",
              "      Procuration of Minor Girls   Sexual Assault of Children   year  \\\n",
              "0                           150.0                           56  2021   \n",
              "1                             8.0                            4  2021   \n",
              "2                          1286.0                          205  2021   \n",
              "3                             0.0                          697  2021   \n",
              "4                             2.0                          544  2021   \n",
              "...                           ...                          ...   ...   \n",
              "3605                          1.0                            1  2016   \n",
              "3606                          1.0                            1  2016   \n",
              "3607                          1.0                            1  2016   \n",
              "3608                          1.0                            1  2016   \n",
              "3609                          1.0                            1  2016   \n",
              "\n",
              "      Total crimes  \n",
              "0             8480  \n",
              "1              164  \n",
              "2            18015  \n",
              "3             7970  \n",
              "4             2680  \n",
              "...            ...  \n",
              "3605             5  \n",
              "3606             5  \n",
              "3607             2  \n",
              "3608             4  \n",
              "3609             2  \n",
              "\n",
              "[3610 rows x 8 columns]"
            ]
          },
          "execution_count": 72,
          "metadata": {},
          "output_type": "execute_result"
        }
      ],
      "source": [
        "x=ds.drop(columns=[\"State/UT\", \"Cruelty by Husband or his relatives\"],axis=1)\n",
        "x"
      ]
    },
    {
      "cell_type": "code",
      "execution_count": 37,
      "metadata": {
        "colab": {
          "base_uri": "https://localhost:8080/"
        },
        "id": "-JAt-JZjLt99",
        "outputId": "69e61c18-9b3f-444b-925e-538d80d88a23"
      },
      "outputs": [
        {
          "data": {
            "text/plain": [
              "0        7429.0\n",
              "1          66.0\n",
              "2       10598.0\n",
              "3           0.0\n",
              "4         582.0\n",
              "         ...   \n",
              "3605        0.0\n",
              "3606        1.0\n",
              "3607        0.0\n",
              "3608        0.0\n",
              "3609        0.0\n",
              "Name: Cruelty by Husband or his relatives, Length: 3610, dtype: float64"
            ]
          },
          "execution_count": 37,
          "metadata": {},
          "output_type": "execute_result"
        }
      ],
      "source": [
        "y=ds[\"Cruelty by Husband or his relatives\"]\n",
        "y"
      ]
    },
    {
      "cell_type": "markdown",
      "metadata": {
        "id": "fxo0NQUpyznz"
      },
      "source": [
        "#Splitting of Train and Test Data"
      ]
    },
    {
      "cell_type": "code",
      "execution_count": 73,
      "metadata": {
        "colab": {
          "base_uri": "https://localhost:8080/"
        },
        "id": "uWuTOKjoL4ms",
        "outputId": "722187c3-7001-4721-f425-f66e38fa7be9"
      },
      "outputs": [
        {
          "name": "stdout",
          "output_type": "stream",
          "text": [
            "(2888, 8) (2888,) (722, 8) (722,)\n"
          ]
        }
      ],
      "source": [
        "xtrain,xtest,ytrain,ytest=train_test_split(x,y,test_size=0.2,random_state=45)\n",
        "print(xtrain.shape,ytrain.shape,xtest.shape,ytest.shape)"
      ]
    },
    {
      "cell_type": "markdown",
      "metadata": {
        "id": "rFV46ylTK9V8"
      },
      "source": [
        "#ML APPROACH\n"
      ]
    },
    {
      "cell_type": "markdown",
      "metadata": {
        "id": "aDGp6TmgdcGh"
      },
      "source": [
        "#Decision Tree Regressor"
      ]
    },
    {
      "cell_type": "code",
      "execution_count": 39,
      "metadata": {
        "colab": {
          "base_uri": "https://localhost:8080/",
          "height": 75
        },
        "id": "VAahIUqgLB7e",
        "outputId": "86fa29c9-30d2-4a1c-bf3f-e91bf525c516"
      },
      "outputs": [
        {
          "data": {
            "text/html": [
              "<style>#sk-container-id-1 {color: black;}#sk-container-id-1 pre{padding: 0;}#sk-container-id-1 div.sk-toggleable {background-color: white;}#sk-container-id-1 label.sk-toggleable__label {cursor: pointer;display: block;width: 100%;margin-bottom: 0;padding: 0.3em;box-sizing: border-box;text-align: center;}#sk-container-id-1 label.sk-toggleable__label-arrow:before {content: \"▸\";float: left;margin-right: 0.25em;color: #696969;}#sk-container-id-1 label.sk-toggleable__label-arrow:hover:before {color: black;}#sk-container-id-1 div.sk-estimator:hover label.sk-toggleable__label-arrow:before {color: black;}#sk-container-id-1 div.sk-toggleable__content {max-height: 0;max-width: 0;overflow: hidden;text-align: left;background-color: #f0f8ff;}#sk-container-id-1 div.sk-toggleable__content pre {margin: 0.2em;color: black;border-radius: 0.25em;background-color: #f0f8ff;}#sk-container-id-1 input.sk-toggleable__control:checked~div.sk-toggleable__content {max-height: 200px;max-width: 100%;overflow: auto;}#sk-container-id-1 input.sk-toggleable__control:checked~label.sk-toggleable__label-arrow:before {content: \"▾\";}#sk-container-id-1 div.sk-estimator input.sk-toggleable__control:checked~label.sk-toggleable__label {background-color: #d4ebff;}#sk-container-id-1 div.sk-label input.sk-toggleable__control:checked~label.sk-toggleable__label {background-color: #d4ebff;}#sk-container-id-1 input.sk-hidden--visually {border: 0;clip: rect(1px 1px 1px 1px);clip: rect(1px, 1px, 1px, 1px);height: 1px;margin: -1px;overflow: hidden;padding: 0;position: absolute;width: 1px;}#sk-container-id-1 div.sk-estimator {font-family: monospace;background-color: #f0f8ff;border: 1px dotted black;border-radius: 0.25em;box-sizing: border-box;margin-bottom: 0.5em;}#sk-container-id-1 div.sk-estimator:hover {background-color: #d4ebff;}#sk-container-id-1 div.sk-parallel-item::after {content: \"\";width: 100%;border-bottom: 1px solid gray;flex-grow: 1;}#sk-container-id-1 div.sk-label:hover label.sk-toggleable__label {background-color: #d4ebff;}#sk-container-id-1 div.sk-serial::before {content: \"\";position: absolute;border-left: 1px solid gray;box-sizing: border-box;top: 0;bottom: 0;left: 50%;z-index: 0;}#sk-container-id-1 div.sk-serial {display: flex;flex-direction: column;align-items: center;background-color: white;padding-right: 0.2em;padding-left: 0.2em;position: relative;}#sk-container-id-1 div.sk-item {position: relative;z-index: 1;}#sk-container-id-1 div.sk-parallel {display: flex;align-items: stretch;justify-content: center;background-color: white;position: relative;}#sk-container-id-1 div.sk-item::before, #sk-container-id-1 div.sk-parallel-item::before {content: \"\";position: absolute;border-left: 1px solid gray;box-sizing: border-box;top: 0;bottom: 0;left: 50%;z-index: -1;}#sk-container-id-1 div.sk-parallel-item {display: flex;flex-direction: column;z-index: 1;position: relative;background-color: white;}#sk-container-id-1 div.sk-parallel-item:first-child::after {align-self: flex-end;width: 50%;}#sk-container-id-1 div.sk-parallel-item:last-child::after {align-self: flex-start;width: 50%;}#sk-container-id-1 div.sk-parallel-item:only-child::after {width: 0;}#sk-container-id-1 div.sk-dashed-wrapped {border: 1px dashed gray;margin: 0 0.4em 0.5em 0.4em;box-sizing: border-box;padding-bottom: 0.4em;background-color: white;}#sk-container-id-1 div.sk-label label {font-family: monospace;font-weight: bold;display: inline-block;line-height: 1.2em;}#sk-container-id-1 div.sk-label-container {text-align: center;}#sk-container-id-1 div.sk-container {/* jupyter's `normalize.less` sets `[hidden] { display: none; }` but bootstrap.min.css set `[hidden] { display: none !important; }` so we also need the `!important` here to be able to override the default hidden behavior on the sphinx rendered scikit-learn.org. See: https://github.com/scikit-learn/scikit-learn/issues/21755 */display: inline-block !important;position: relative;}#sk-container-id-1 div.sk-text-repr-fallback {display: none;}</style><div id=\"sk-container-id-1\" class=\"sk-top-container\"><div class=\"sk-text-repr-fallback\"><pre>DecisionTreeRegressor()</pre><b>In a Jupyter environment, please rerun this cell to show the HTML representation or trust the notebook. <br />On GitHub, the HTML representation is unable to render, please try loading this page with nbviewer.org.</b></div><div class=\"sk-container\" hidden><div class=\"sk-item\"><div class=\"sk-estimator sk-toggleable\"><input class=\"sk-toggleable__control sk-hidden--visually\" id=\"sk-estimator-id-1\" type=\"checkbox\" checked><label for=\"sk-estimator-id-1\" class=\"sk-toggleable__label sk-toggleable__label-arrow\">DecisionTreeRegressor</label><div class=\"sk-toggleable__content\"><pre>DecisionTreeRegressor()</pre></div></div></div></div></div>"
            ],
            "text/plain": [
              "DecisionTreeRegressor()"
            ]
          },
          "execution_count": 39,
          "metadata": {},
          "output_type": "execute_result"
        }
      ],
      "source": [
        "model1=DecisionTreeRegressor()\n",
        "model1.fit(xtrain,ytrain)\n"
      ]
    },
    {
      "cell_type": "code",
      "execution_count": 40,
      "metadata": {
        "colab": {
          "base_uri": "https://localhost:8080/"
        },
        "id": "w5kvy8kTLCSW",
        "outputId": "29143b5f-a005-436f-8f85-e94ae1a3669e"
      },
      "outputs": [
        {
          "data": {
            "text/plain": [
              "array([1.9000e+01, 0.0000e+00, 2.0000e+00, 4.7000e+01, 1.0000e+00,\n",
              "       1.6000e+01, 2.1600e+02, 0.0000e+00, 1.4700e+02, 1.5900e+02,\n",
              "       2.0000e+00, 4.0000e+00, 0.0000e+00, 1.0000e+02, 9.2000e+01,\n",
              "       0.0000e+00, 6.0600e+02, 2.0000e+00, 6.4000e+01, 5.1000e+01,\n",
              "       0.0000e+00, 0.0000e+00, 5.2400e+02, 3.2300e+02, 1.9000e+01,\n",
              "       6.5600e+02, 0.0000e+00, 5.7000e+01, 6.7000e+01, 2.0200e+02,\n",
              "       4.9000e+01, 2.0000e+00, 1.2500e+02, 4.0500e+02, 1.4800e+02,\n",
              "       2.4000e+01, 2.4500e+02, 3.2500e+02, 0.0000e+00, 0.0000e+00,\n",
              "       5.0000e+00, 1.8300e+02, 7.9520e+03, 2.4000e+01, 1.2900e+02,\n",
              "       2.4000e+01, 3.9000e+01, 5.0000e+00, 5.0000e+01, 1.5100e+02,\n",
              "       1.4000e+02, 4.7000e+01, 1.2700e+02, 5.6100e+02, 1.2000e+02,\n",
              "       4.7000e+01, 1.6000e+02, 4.7000e+01, 3.0000e+00, 4.7800e+02,\n",
              "       7.5700e+02, 9.3000e+01, 5.0000e+00, 0.0000e+00, 2.4600e+02,\n",
              "       0.0000e+00, 2.9000e+01, 1.1000e+01, 1.3390e+03, 3.9700e+02,\n",
              "       5.9800e+02, 2.8900e+02, 2.3900e+02, 1.0900e+02, 4.2000e+01,\n",
              "       2.7000e+01, 0.0000e+00, 3.9000e+01, 4.9900e+02, 2.9000e+01,\n",
              "       5.8000e+01, 0.0000e+00, 1.9800e+02, 6.0000e+00, 8.4000e+01,\n",
              "       0.0000e+00, 5.3000e+01, 3.2600e+02, 8.0000e+00, 2.9280e+03,\n",
              "       1.5500e+02, 2.1000e+01, 2.7300e+02, 0.0000e+00, 3.0200e+02,\n",
              "       5.1000e+01, 6.4000e+01, 5.4870e+03, 8.0000e+00, 4.0900e+02,\n",
              "       1.4500e+02, 1.0700e+02, 2.9800e+02, 1.2700e+02, 1.4000e+01,\n",
              "       7.7900e+02, 4.3000e+01, 2.9900e+02, 1.7000e+01, 1.1900e+02,\n",
              "       4.8000e+01, 0.0000e+00, 3.7000e+01, 2.1000e+01, 2.6000e+01,\n",
              "       1.7700e+02, 2.2400e+02, 1.1600e+02, 3.9000e+01, 1.6000e+01,\n",
              "       5.8000e+01, 2.4000e+01, 1.1413e+04, 3.1000e+01, 5.2000e+01,\n",
              "       2.2600e+02, 1.8600e+02, 5.5000e+01, 2.8000e+01, 0.0000e+00,\n",
              "       0.0000e+00, 6.8000e+01, 3.0000e+01, 0.0000e+00, 6.7000e+01,\n",
              "       4.2800e+02, 2.4800e+02, 1.0000e+00, 1.8000e+02, 4.6700e+02,\n",
              "       5.7000e+01, 1.0000e+01, 0.0000e+00, 9.6000e+01, 2.6700e+02,\n",
              "       3.9000e+01, 2.0700e+02, 3.8700e+02, 0.0000e+00, 2.0000e+02,\n",
              "       5.3000e+01, 2.1600e+02, 1.0000e+00, 5.8000e+01, 6.0000e+00,\n",
              "       9.4000e+01, 6.9000e+01, 8.5420e+03, 8.9000e+01, 3.0100e+02,\n",
              "       4.7000e+01, 1.2363e+04, 0.0000e+00, 3.7000e+02, 2.7000e+01,\n",
              "       6.2860e+03, 1.6800e+02, 1.8453e+04, 8.0000e+01, 1.0000e+00,\n",
              "       0.0000e+00, 8.7200e+02, 1.4000e+01, 1.8116e+04, 4.0200e+02,\n",
              "       4.0000e+00, 2.6000e+01, 0.0000e+00, 3.5000e+01, 4.0000e+00,\n",
              "       4.4400e+02, 1.0600e+02, 5.1900e+02, 2.4500e+02, 3.6100e+02,\n",
              "       5.6100e+02, 5.5000e+01, 3.5960e+03, 9.6000e+01, 5.9000e+01,\n",
              "       2.8000e+01, 2.6300e+02, 1.1000e+01, 3.3000e+01, 1.2900e+02,\n",
              "       2.9800e+02, 1.2100e+02, 4.5000e+01, 1.4100e+02, 5.1000e+01,\n",
              "       1.6200e+02, 5.9800e+02, 7.4000e+01, 6.0000e+00, 5.3000e+01,\n",
              "       5.2460e+03, 3.2000e+01, 1.0000e+02, 2.6600e+02, 9.4000e+01,\n",
              "       2.6380e+03, 0.0000e+00, 3.0700e+02, 2.1000e+01, 6.9000e+01,\n",
              "       3.9100e+02, 0.0000e+00, 3.1900e+02, 6.8000e+01, 2.2100e+02,\n",
              "       8.0000e+00, 2.7000e+01, 0.0000e+00, 1.3600e+02, 7.2000e+02,\n",
              "       3.0000e+00, 9.2000e+01, 1.5900e+02, 3.3000e+02, 8.0000e+00,\n",
              "       2.0300e+02, 3.5000e+01, 9.6000e+01, 5.3500e+02, 5.9910e+03,\n",
              "       1.8300e+02, 1.5400e+02, 1.1000e+02, 4.9000e+01, 1.9000e+01,\n",
              "       1.1410e+03, 9.0000e+01, 1.6140e+03, 1.2200e+02, 4.7000e+01,\n",
              "       1.4000e+01, 1.0580e+03, 2.8900e+02, 2.7400e+03, 0.0000e+00,\n",
              "       7.8000e+01, 1.5000e+01, 1.3100e+02, 9.6000e+01, 0.0000e+00,\n",
              "       0.0000e+00, 4.8000e+01, 3.8000e+01, 8.8000e+01, 0.0000e+00,\n",
              "       0.0000e+00, 4.7000e+01, 7.7000e+01, 1.0000e+00, 1.9360e+03,\n",
              "       8.0000e+00, 1.1400e+02, 1.0000e+00, 2.0000e+00, 3.6700e+02,\n",
              "       1.5000e+01, 0.0000e+00, 0.0000e+00, 7.2000e+01, 2.1700e+02,\n",
              "       0.0000e+00, 5.4000e+01, 1.6000e+01, 3.8400e+02, 6.5000e+01,\n",
              "       0.0000e+00, 3.8000e+01, 1.1000e+02, 9.1000e+01, 6.4100e+02,\n",
              "       4.2000e+02, 0.0000e+00, 2.3400e+02, 8.7000e+01, 0.0000e+00,\n",
              "       2.8400e+02, 0.0000e+00, 1.0000e+00, 5.3000e+01, 7.0000e+00,\n",
              "       0.0000e+00, 6.5000e+01, 1.6200e+02, 2.9000e+01, 4.9000e+01,\n",
              "       4.2000e+01, 8.0000e+00, 5.7800e+03, 1.4533e+04, 3.5000e+01,\n",
              "       1.9780e+03, 8.7000e+01, 2.0900e+02, 9.0000e+00, 0.0000e+00,\n",
              "       5.5000e+01, 0.0000e+00, 1.3300e+02, 2.9900e+02, 0.0000e+00,\n",
              "       8.5000e+01, 3.8000e+01, 0.0000e+00, 5.3700e+02, 1.0000e+00,\n",
              "       1.8000e+01, 6.0000e+00, 7.8000e+01, 2.0700e+02, 1.7000e+01,\n",
              "       3.3000e+02, 1.0580e+03, 6.5000e+01, 4.2000e+01, 1.5100e+02,\n",
              "       1.7000e+01, 2.1000e+01, 0.0000e+00, 2.1300e+02, 7.6000e+01,\n",
              "       4.6000e+01, 2.1000e+01, 2.1000e+01, 3.8000e+01, 1.4700e+02,\n",
              "       5.7000e+01, 0.0000e+00, 1.4000e+01, 5.9000e+01, 8.6000e+01,\n",
              "       0.0000e+00, 3.1000e+01, 1.0000e+00, 2.0000e+00, 3.4700e+02,\n",
              "       0.0000e+00, 5.9000e+01, 6.5000e+01, 7.4000e+01, 1.9600e+02,\n",
              "       5.0000e+00, 2.0400e+02, 0.0000e+00, 0.0000e+00, 0.0000e+00,\n",
              "       8.7810e+03, 4.3500e+02, 1.1900e+02, 6.2000e+01, 1.9800e+02,\n",
              "       3.4000e+01, 7.3000e+01, 1.8270e+03, 3.7000e+01, 3.6100e+02,\n",
              "       8.6000e+01, 4.7000e+01, 4.0000e+00, 8.8000e+01, 6.3000e+01,\n",
              "       4.3800e+02, 2.6200e+02, 1.0000e+00, 9.0000e+00, 0.0000e+00,\n",
              "       4.5000e+01, 0.0000e+00, 4.4000e+01, 0.0000e+00, 2.3000e+02,\n",
              "       7.6800e+02, 3.4000e+01, 3.8000e+01, 1.7300e+02, 4.7000e+01,\n",
              "       1.1600e+02, 2.3000e+01, 5.0000e+01, 1.2500e+02, 4.2000e+01,\n",
              "       6.5600e+02, 1.7900e+02, 2.0000e+00, 8.2000e+01, 1.5500e+02,\n",
              "       4.2000e+01, 2.2100e+02, 1.3000e+01, 5.1000e+01, 1.3900e+02,\n",
              "       3.2560e+03, 4.7000e+01, 3.0000e+00, 2.4000e+01, 8.0000e+01,\n",
              "       1.9000e+01, 1.1300e+02, 1.1900e+02, 6.0000e+00, 3.8300e+02,\n",
              "       2.2100e+02, 1.1508e+04, 6.6000e+02, 6.8000e+01, 0.0000e+00,\n",
              "       2.0000e+00, 1.9000e+01, 6.0800e+02, 2.3600e+02, 5.2000e+02,\n",
              "       3.0000e+00, 8.9000e+01, 3.3000e+01, 1.0000e+02, 0.0000e+00,\n",
              "       2.8400e+02, 1.0000e+00, 1.2100e+02, 2.4400e+02, 3.9700e+02,\n",
              "       3.1000e+01, 1.0000e+00, 2.4900e+02, 3.1200e+02, 8.8000e+01,\n",
              "       8.7810e+03, 0.0000e+00, 9.4000e+01, 1.2363e+04, 0.0000e+00,\n",
              "       1.6600e+02, 5.6000e+01, 4.0000e+01, 9.2000e+01, 4.0000e+00,\n",
              "       2.0400e+02, 8.2000e+01, 2.5000e+01, 6.8000e+01, 1.6000e+01,\n",
              "       1.0000e+00, 1.7000e+01, 6.0000e+00, 6.6500e+02, 2.2200e+02,\n",
              "       8.6000e+01, 1.8116e+04, 5.7000e+01, 9.0000e+00, 1.1700e+02,\n",
              "       6.4200e+02, 3.5000e+01, 1.9600e+02, 5.8400e+02, 5.0000e+01,\n",
              "       1.4700e+02, 7.8000e+01, 3.7400e+02, 3.0000e+00, 5.9000e+01,\n",
              "       2.4600e+02, 2.0000e+00, 1.0000e+00, 1.0900e+02, 1.6200e+02,\n",
              "       0.0000e+00, 0.0000e+00, 0.0000e+00, 3.9300e+02, 8.0000e+00,\n",
              "       0.0000e+00, 0.0000e+00, 7.2900e+02, 5.3000e+02, 1.0400e+02,\n",
              "       0.0000e+00, 1.7000e+01, 4.8800e+02, 1.3100e+02, 4.3900e+02,\n",
              "       1.7400e+02, 0.0000e+00, 4.0000e+00, 6.3000e+01, 4.5500e+02,\n",
              "       1.1100e+02, 3.3600e+02, 8.6000e+01, 2.0000e+00, 5.2400e+02,\n",
              "       1.4400e+02, 7.4000e+01, 0.0000e+00, 4.0500e+02, 0.0000e+00,\n",
              "       5.5000e+01, 5.1000e+01, 0.0000e+00, 1.6800e+02, 6.3620e+03,\n",
              "       8.0000e+00, 5.3770e+03, 3.6800e+02, 5.2000e+01, 1.1900e+02,\n",
              "       6.0000e+00, 8.1600e+02, 9.2000e+01, 0.0000e+00, 8.3000e+01,\n",
              "       9.9000e+01, 1.1900e+02, 2.7700e+02, 1.4100e+02, 2.0700e+02,\n",
              "       1.2000e+01, 1.5800e+02, 3.4000e+01, 0.0000e+00, 4.0500e+02,\n",
              "       3.5000e+01, 3.5800e+02, 1.0000e+00, 2.7000e+01, 3.3000e+01,\n",
              "       1.9300e+02, 1.3600e+02, 0.0000e+00, 9.2000e+01, 1.1000e+02,\n",
              "       5.1900e+02, 2.2100e+02, 7.2000e+01, 1.8116e+04, 2.9300e+02,\n",
              "       1.3000e+01, 2.6000e+01, 1.0000e+00, 0.0000e+00, 3.9000e+01,\n",
              "       3.0000e+00, 1.0900e+02, 0.0000e+00, 1.9000e+02, 8.8300e+02,\n",
              "       1.9000e+02, 0.0000e+00, 1.0000e+00, 0.0000e+00, 3.3700e+02,\n",
              "       8.9000e+01, 0.0000e+00, 2.2600e+02, 5.0000e+00, 1.1100e+02,\n",
              "       4.8000e+01, 4.3500e+02, 1.0000e+00, 3.9000e+01, 2.0000e+00,\n",
              "       1.5100e+02, 5.0000e+01, 9.3000e+01, 1.3376e+04, 4.7000e+01,\n",
              "       2.7000e+01, 2.9700e+02, 0.0000e+00, 3.0700e+02, 0.0000e+00,\n",
              "       7.5000e+01, 2.1000e+01, 0.0000e+00, 4.0000e+00, 6.0000e+00,\n",
              "       2.0500e+02, 2.9700e+02, 0.0000e+00, 1.5500e+02, 5.7000e+01,\n",
              "       1.1700e+02, 3.4400e+02, 1.0000e+00, 2.8000e+01, 5.1800e+02,\n",
              "       1.5500e+02, 6.3000e+01, 1.3400e+02, 1.2000e+01, 2.5000e+01,\n",
              "       7.1000e+01, 1.0500e+02, 4.6000e+01, 3.4200e+02, 1.0000e+00,\n",
              "       1.0000e+02, 2.6800e+02, 9.2000e+01, 3.8000e+01, 1.0700e+02,\n",
              "       1.5000e+01, 0.0000e+00, 3.0400e+02, 1.7000e+02, 2.1000e+01,\n",
              "       7.5700e+02, 3.7000e+01, 7.2000e+01, 0.0000e+00, 3.7100e+02,\n",
              "       1.9000e+01, 5.4600e+02, 5.9910e+03, 9.2000e+01, 0.0000e+00,\n",
              "       0.0000e+00, 6.4070e+03, 1.9400e+02, 0.0000e+00, 0.0000e+00,\n",
              "       0.0000e+00, 2.4900e+02, 2.6600e+02, 1.6600e+02, 9.6000e+01,\n",
              "       0.0000e+00, 4.2100e+02, 6.7000e+01, 5.7000e+01, 2.3000e+01,\n",
              "       1.5500e+02, 2.2200e+02, 5.1000e+01, 3.2000e+01, 1.4000e+01,\n",
              "       7.2000e+01, 6.2000e+01, 1.0000e+00, 1.1900e+02, 4.7000e+01,\n",
              "       2.0100e+02, 3.6000e+01, 1.0000e+01, 5.6900e+02, 1.4200e+02,\n",
              "       3.3000e+02, 4.2000e+01, 2.0000e+00, 6.3000e+01, 8.7200e+02,\n",
              "       2.9700e+02, 0.0000e+00, 3.0000e+00, 1.0700e+02, 5.0000e+01,\n",
              "       1.1700e+02, 8.9000e+01, 6.8000e+01, 1.7200e+02, 1.4000e+01,\n",
              "       2.9700e+02, 4.9400e+02, 1.5300e+02, 0.0000e+00, 3.1000e+01,\n",
              "       8.5410e+03, 5.9600e+02, 9.4000e+01, 7.0000e+01, 4.6000e+01,\n",
              "       3.1000e+01, 0.0000e+00, 8.4000e+01, 1.9000e+01, 8.3000e+01,\n",
              "       1.4100e+02, 2.3600e+02, 2.1000e+01, 7.6000e+01, 4.0000e+00,\n",
              "       9.4000e+01, 1.0000e+00, 4.0000e+00, 1.8400e+02, 1.0100e+02,\n",
              "       2.6000e+01, 0.0000e+00, 2.6700e+02, 1.7000e+02, 6.9000e+01,\n",
              "       1.6200e+02, 9.6000e+01, 8.9000e+01, 9.3000e+01, 2.1900e+02,\n",
              "       1.7000e+01, 8.7000e+01, 3.4900e+02, 2.3400e+02, 1.6800e+02,\n",
              "       2.6000e+01, 1.9000e+02, 1.4000e+01, 4.7000e+01, 8.0300e+02,\n",
              "       0.0000e+00, 2.6700e+02])"
            ]
          },
          "execution_count": 40,
          "metadata": {},
          "output_type": "execute_result"
        }
      ],
      "source": [
        "p1=model1.predict(xtest)\n",
        "p1"
      ]
    },
    {
      "cell_type": "code",
      "execution_count": 42,
      "metadata": {
        "colab": {
          "base_uri": "https://localhost:8080/"
        },
        "id": "mv3O_fdWqBjm",
        "outputId": "43a9031c-2ea9-4c08-8dec-aa66458dfeb3"
      },
      "outputs": [
        {
          "data": {
            "text/plain": [
              "93.56724648014784"
            ]
          },
          "execution_count": 42,
          "metadata": {},
          "output_type": "execute_result"
        }
      ],
      "source": [
        "r2_score(ytest,p1) * 100"
      ]
    },
    {
      "cell_type": "code",
      "execution_count": 43,
      "metadata": {
        "colab": {
          "base_uri": "https://localhost:8080/"
        },
        "id": "0kudU4f0qBmA",
        "outputId": "7479ee6b-f850-448e-cce1-78a3fb716d00"
      },
      "outputs": [
        {
          "data": {
            "text/plain": [
              "array([1.9000e+01, 0.0000e+00, 2.0000e+00, 4.7000e+01, 1.0000e+00,\n",
              "       1.6000e+01, 2.1600e+02, 0.0000e+00, 1.4700e+02, 1.5900e+02,\n",
              "       2.0000e+00, 4.0000e+00, 0.0000e+00, 1.0000e+02, 9.2000e+01,\n",
              "       0.0000e+00, 6.0600e+02, 2.0000e+00, 6.4000e+01, 5.1000e+01,\n",
              "       0.0000e+00, 0.0000e+00, 5.2400e+02, 3.2300e+02, 1.9000e+01,\n",
              "       6.5600e+02, 0.0000e+00, 5.7000e+01, 6.7000e+01, 2.0200e+02,\n",
              "       4.9000e+01, 2.0000e+00, 1.2500e+02, 4.0500e+02, 1.4800e+02,\n",
              "       2.4000e+01, 2.4500e+02, 3.2500e+02, 0.0000e+00, 0.0000e+00,\n",
              "       5.0000e+00, 1.8300e+02, 7.9520e+03, 2.4000e+01, 1.2900e+02,\n",
              "       2.4000e+01, 3.9000e+01, 5.0000e+00, 5.0000e+01, 1.5100e+02,\n",
              "       1.4000e+02, 4.7000e+01, 1.2700e+02, 5.6100e+02, 1.2000e+02,\n",
              "       4.7000e+01, 1.6000e+02, 4.7000e+01, 3.0000e+00, 4.7800e+02,\n",
              "       7.5700e+02, 9.3000e+01, 5.0000e+00, 0.0000e+00, 2.4600e+02,\n",
              "       0.0000e+00, 2.9000e+01, 1.1000e+01, 1.3390e+03, 3.9700e+02,\n",
              "       5.9800e+02, 2.8900e+02, 2.3900e+02, 1.0900e+02, 4.2000e+01,\n",
              "       2.7000e+01, 0.0000e+00, 3.9000e+01, 4.9900e+02, 2.9000e+01,\n",
              "       5.8000e+01, 0.0000e+00, 1.9800e+02, 6.0000e+00, 8.4000e+01,\n",
              "       0.0000e+00, 5.3000e+01, 3.2600e+02, 8.0000e+00, 2.9280e+03,\n",
              "       1.5500e+02, 2.1000e+01, 2.7300e+02, 0.0000e+00, 3.0200e+02,\n",
              "       5.1000e+01, 6.4000e+01, 5.4870e+03, 8.0000e+00, 4.0900e+02,\n",
              "       1.4500e+02, 1.0700e+02, 2.9800e+02, 1.2700e+02, 1.4000e+01,\n",
              "       7.7900e+02, 4.3000e+01, 2.9900e+02, 1.7000e+01, 1.1900e+02,\n",
              "       4.8000e+01, 0.0000e+00, 3.7000e+01, 2.1000e+01, 2.6000e+01,\n",
              "       1.7700e+02, 2.2400e+02, 1.1600e+02, 3.9000e+01, 1.6000e+01,\n",
              "       5.8000e+01, 2.4000e+01, 1.1413e+04, 3.1000e+01, 5.2000e+01,\n",
              "       2.2600e+02, 1.8600e+02, 5.5000e+01, 2.8000e+01, 0.0000e+00,\n",
              "       0.0000e+00, 6.8000e+01, 3.0000e+01, 0.0000e+00, 6.7000e+01,\n",
              "       4.2800e+02, 2.4800e+02, 1.0000e+00, 1.8000e+02, 4.6700e+02,\n",
              "       5.7000e+01, 1.0000e+01, 0.0000e+00, 9.6000e+01, 2.6700e+02,\n",
              "       3.9000e+01, 2.0700e+02, 3.8700e+02, 0.0000e+00, 2.0000e+02,\n",
              "       5.3000e+01, 2.1600e+02, 1.0000e+00, 5.8000e+01, 6.0000e+00,\n",
              "       9.4000e+01, 6.9000e+01, 8.5420e+03, 8.9000e+01, 3.0100e+02,\n",
              "       4.7000e+01, 1.2363e+04, 0.0000e+00, 3.7000e+02, 2.7000e+01,\n",
              "       6.2860e+03, 1.6800e+02, 1.8453e+04, 8.0000e+01, 1.0000e+00,\n",
              "       0.0000e+00, 8.7200e+02, 1.4000e+01, 1.8116e+04, 4.0200e+02,\n",
              "       4.0000e+00, 2.6000e+01, 0.0000e+00, 3.5000e+01, 4.0000e+00,\n",
              "       4.4400e+02, 1.0600e+02, 5.1900e+02, 2.4500e+02, 3.6100e+02,\n",
              "       5.6100e+02, 5.5000e+01, 3.5960e+03, 9.6000e+01, 5.9000e+01,\n",
              "       2.8000e+01, 2.6300e+02, 1.1000e+01, 3.3000e+01, 1.2900e+02,\n",
              "       2.9800e+02, 1.2100e+02, 4.5000e+01, 1.4100e+02, 5.1000e+01,\n",
              "       1.6200e+02, 5.9800e+02, 7.4000e+01, 6.0000e+00, 5.3000e+01,\n",
              "       5.2460e+03, 3.2000e+01, 1.0000e+02, 2.6600e+02, 9.4000e+01,\n",
              "       2.6380e+03, 0.0000e+00, 3.0700e+02, 2.1000e+01, 6.9000e+01,\n",
              "       3.9100e+02, 0.0000e+00, 3.1900e+02, 6.8000e+01, 2.2100e+02,\n",
              "       8.0000e+00, 2.7000e+01, 0.0000e+00, 1.3600e+02, 7.2000e+02,\n",
              "       3.0000e+00, 9.2000e+01, 1.5900e+02, 3.3000e+02, 8.0000e+00,\n",
              "       2.0300e+02, 3.5000e+01, 9.6000e+01, 5.3500e+02, 5.9910e+03,\n",
              "       1.8300e+02, 1.5400e+02, 1.1000e+02, 4.9000e+01, 1.9000e+01,\n",
              "       1.1410e+03, 9.0000e+01, 1.6140e+03, 1.2200e+02, 4.7000e+01,\n",
              "       1.4000e+01, 1.0580e+03, 2.8900e+02, 2.7400e+03, 0.0000e+00,\n",
              "       7.8000e+01, 1.5000e+01, 1.3100e+02, 9.6000e+01, 0.0000e+00,\n",
              "       0.0000e+00, 4.8000e+01, 3.8000e+01, 8.8000e+01, 0.0000e+00,\n",
              "       0.0000e+00, 4.7000e+01, 7.7000e+01, 1.0000e+00, 1.9360e+03,\n",
              "       8.0000e+00, 1.1400e+02, 1.0000e+00, 2.0000e+00, 3.6700e+02,\n",
              "       1.5000e+01, 0.0000e+00, 0.0000e+00, 7.2000e+01, 2.1700e+02,\n",
              "       0.0000e+00, 5.4000e+01, 1.6000e+01, 3.8400e+02, 6.5000e+01,\n",
              "       0.0000e+00, 3.8000e+01, 1.1000e+02, 9.1000e+01, 6.4100e+02,\n",
              "       4.2000e+02, 0.0000e+00, 2.3400e+02, 8.7000e+01, 0.0000e+00,\n",
              "       2.8400e+02, 0.0000e+00, 1.0000e+00, 5.3000e+01, 7.0000e+00,\n",
              "       0.0000e+00, 6.5000e+01, 1.6200e+02, 2.9000e+01, 4.9000e+01,\n",
              "       4.2000e+01, 8.0000e+00, 5.7800e+03, 1.4533e+04, 3.5000e+01,\n",
              "       1.9780e+03, 8.7000e+01, 2.0900e+02, 9.0000e+00, 0.0000e+00,\n",
              "       5.5000e+01, 0.0000e+00, 1.3300e+02, 2.9900e+02, 0.0000e+00,\n",
              "       8.5000e+01, 3.8000e+01, 0.0000e+00, 5.3700e+02, 1.0000e+00,\n",
              "       1.8000e+01, 6.0000e+00, 7.8000e+01, 2.0700e+02, 1.7000e+01,\n",
              "       3.3000e+02, 1.0580e+03, 6.5000e+01, 4.2000e+01, 1.5100e+02,\n",
              "       1.7000e+01, 2.1000e+01, 0.0000e+00, 2.1300e+02, 7.6000e+01,\n",
              "       4.6000e+01, 2.1000e+01, 2.1000e+01, 3.8000e+01, 1.4700e+02,\n",
              "       5.7000e+01, 0.0000e+00, 1.4000e+01, 5.9000e+01, 8.6000e+01,\n",
              "       0.0000e+00, 3.1000e+01, 1.0000e+00, 2.0000e+00, 3.4700e+02,\n",
              "       0.0000e+00, 5.9000e+01, 6.5000e+01, 7.4000e+01, 1.9600e+02,\n",
              "       5.0000e+00, 2.0400e+02, 0.0000e+00, 0.0000e+00, 0.0000e+00,\n",
              "       8.7810e+03, 4.3500e+02, 1.1900e+02, 6.2000e+01, 1.9800e+02,\n",
              "       3.4000e+01, 7.3000e+01, 1.8270e+03, 3.7000e+01, 3.6100e+02,\n",
              "       8.6000e+01, 4.7000e+01, 4.0000e+00, 8.8000e+01, 6.3000e+01,\n",
              "       4.3800e+02, 2.6200e+02, 1.0000e+00, 9.0000e+00, 0.0000e+00,\n",
              "       4.5000e+01, 0.0000e+00, 4.4000e+01, 0.0000e+00, 2.3000e+02,\n",
              "       7.6800e+02, 3.4000e+01, 3.8000e+01, 1.7300e+02, 4.7000e+01,\n",
              "       1.1600e+02, 2.3000e+01, 5.0000e+01, 1.2500e+02, 4.2000e+01,\n",
              "       6.5600e+02, 1.7900e+02, 2.0000e+00, 8.2000e+01, 1.5500e+02,\n",
              "       4.2000e+01, 2.2100e+02, 1.3000e+01, 5.1000e+01, 1.3900e+02,\n",
              "       3.2560e+03, 4.7000e+01, 3.0000e+00, 2.4000e+01, 8.0000e+01,\n",
              "       1.9000e+01, 1.1300e+02, 1.1900e+02, 6.0000e+00, 3.8300e+02,\n",
              "       2.2100e+02, 1.1508e+04, 6.6000e+02, 6.8000e+01, 0.0000e+00,\n",
              "       2.0000e+00, 1.9000e+01, 6.0800e+02, 2.3600e+02, 5.2000e+02,\n",
              "       3.0000e+00, 8.9000e+01, 3.3000e+01, 1.0000e+02, 0.0000e+00,\n",
              "       2.8400e+02, 1.0000e+00, 1.2100e+02, 2.4400e+02, 3.9700e+02,\n",
              "       3.1000e+01, 1.0000e+00, 2.4900e+02, 3.1200e+02, 8.8000e+01,\n",
              "       8.7810e+03, 0.0000e+00, 9.4000e+01, 1.2363e+04, 0.0000e+00,\n",
              "       1.6600e+02, 5.6000e+01, 4.0000e+01, 9.2000e+01, 4.0000e+00,\n",
              "       2.0400e+02, 8.2000e+01, 2.5000e+01, 6.8000e+01, 1.6000e+01,\n",
              "       1.0000e+00, 1.7000e+01, 6.0000e+00, 6.6500e+02, 2.2200e+02,\n",
              "       8.6000e+01, 1.8116e+04, 5.7000e+01, 9.0000e+00, 1.1700e+02,\n",
              "       6.4200e+02, 3.5000e+01, 1.9600e+02, 5.8400e+02, 5.0000e+01,\n",
              "       1.4700e+02, 7.8000e+01, 3.7400e+02, 3.0000e+00, 5.9000e+01,\n",
              "       2.4600e+02, 2.0000e+00, 1.0000e+00, 1.0900e+02, 1.6200e+02,\n",
              "       0.0000e+00, 0.0000e+00, 0.0000e+00, 3.9300e+02, 8.0000e+00,\n",
              "       0.0000e+00, 0.0000e+00, 7.2900e+02, 5.3000e+02, 1.0400e+02,\n",
              "       0.0000e+00, 1.7000e+01, 4.8800e+02, 1.3100e+02, 4.3900e+02,\n",
              "       1.7400e+02, 0.0000e+00, 4.0000e+00, 6.3000e+01, 4.5500e+02,\n",
              "       1.1100e+02, 3.3600e+02, 8.6000e+01, 2.0000e+00, 5.2400e+02,\n",
              "       1.4400e+02, 7.4000e+01, 0.0000e+00, 4.0500e+02, 0.0000e+00,\n",
              "       5.5000e+01, 5.1000e+01, 0.0000e+00, 1.6800e+02, 6.3620e+03,\n",
              "       8.0000e+00, 5.3770e+03, 3.6800e+02, 5.2000e+01, 1.1900e+02,\n",
              "       6.0000e+00, 8.1600e+02, 9.2000e+01, 0.0000e+00, 8.3000e+01,\n",
              "       9.9000e+01, 1.1900e+02, 2.7700e+02, 1.4100e+02, 2.0700e+02,\n",
              "       1.2000e+01, 1.5800e+02, 3.4000e+01, 0.0000e+00, 4.0500e+02,\n",
              "       3.5000e+01, 3.5800e+02, 1.0000e+00, 2.7000e+01, 3.3000e+01,\n",
              "       1.9300e+02, 1.3600e+02, 0.0000e+00, 9.2000e+01, 1.1000e+02,\n",
              "       5.1900e+02, 2.2100e+02, 7.2000e+01, 1.8116e+04, 2.9300e+02,\n",
              "       1.3000e+01, 2.6000e+01, 1.0000e+00, 0.0000e+00, 3.9000e+01,\n",
              "       3.0000e+00, 1.0900e+02, 0.0000e+00, 1.9000e+02, 8.8300e+02,\n",
              "       1.9000e+02, 0.0000e+00, 1.0000e+00, 0.0000e+00, 3.3700e+02,\n",
              "       8.9000e+01, 0.0000e+00, 2.2600e+02, 5.0000e+00, 1.1100e+02,\n",
              "       4.8000e+01, 4.3500e+02, 1.0000e+00, 3.9000e+01, 2.0000e+00,\n",
              "       1.5100e+02, 5.0000e+01, 9.3000e+01, 1.3376e+04, 4.7000e+01,\n",
              "       2.7000e+01, 2.9700e+02, 0.0000e+00, 3.0700e+02, 0.0000e+00,\n",
              "       7.5000e+01, 2.1000e+01, 0.0000e+00, 4.0000e+00, 6.0000e+00,\n",
              "       2.0500e+02, 2.9700e+02, 0.0000e+00, 1.5500e+02, 5.7000e+01,\n",
              "       1.1700e+02, 3.4400e+02, 1.0000e+00, 2.8000e+01, 5.1800e+02,\n",
              "       1.5500e+02, 6.3000e+01, 1.3400e+02, 1.2000e+01, 2.5000e+01,\n",
              "       7.1000e+01, 1.0500e+02, 4.6000e+01, 3.4200e+02, 1.0000e+00,\n",
              "       1.0000e+02, 2.6800e+02, 9.2000e+01, 3.8000e+01, 1.0700e+02,\n",
              "       1.5000e+01, 0.0000e+00, 3.0400e+02, 1.7000e+02, 2.1000e+01,\n",
              "       7.5700e+02, 3.7000e+01, 7.2000e+01, 0.0000e+00, 3.7100e+02,\n",
              "       1.9000e+01, 5.4600e+02, 5.9910e+03, 9.2000e+01, 0.0000e+00,\n",
              "       0.0000e+00, 6.4070e+03, 1.9400e+02, 0.0000e+00, 0.0000e+00,\n",
              "       0.0000e+00, 2.4900e+02, 2.6600e+02, 1.6600e+02, 9.6000e+01,\n",
              "       0.0000e+00, 4.2100e+02, 6.7000e+01, 5.7000e+01, 2.3000e+01,\n",
              "       1.5500e+02, 2.2200e+02, 5.1000e+01, 3.2000e+01, 1.4000e+01,\n",
              "       7.2000e+01, 6.2000e+01, 1.0000e+00, 1.1900e+02, 4.7000e+01,\n",
              "       2.0100e+02, 3.6000e+01, 1.0000e+01, 5.6900e+02, 1.4200e+02,\n",
              "       3.3000e+02, 4.2000e+01, 2.0000e+00, 6.3000e+01, 8.7200e+02,\n",
              "       2.9700e+02, 0.0000e+00, 3.0000e+00, 1.0700e+02, 5.0000e+01,\n",
              "       1.1700e+02, 8.9000e+01, 6.8000e+01, 1.7200e+02, 1.4000e+01,\n",
              "       2.9700e+02, 4.9400e+02, 1.5300e+02, 0.0000e+00, 3.1000e+01,\n",
              "       8.5410e+03, 5.9600e+02, 9.4000e+01, 7.0000e+01, 4.6000e+01,\n",
              "       3.1000e+01, 0.0000e+00, 8.4000e+01, 1.9000e+01, 8.3000e+01,\n",
              "       1.4100e+02, 2.3600e+02, 2.1000e+01, 7.6000e+01, 4.0000e+00,\n",
              "       9.4000e+01, 1.0000e+00, 4.0000e+00, 1.8400e+02, 1.0100e+02,\n",
              "       2.6000e+01, 0.0000e+00, 2.6700e+02, 1.7000e+02, 6.9000e+01,\n",
              "       1.6200e+02, 9.6000e+01, 8.9000e+01, 9.3000e+01, 2.1900e+02,\n",
              "       1.7000e+01, 8.7000e+01, 3.4900e+02, 2.3400e+02, 1.6800e+02,\n",
              "       2.6000e+01, 1.9000e+02, 1.4000e+01, 4.7000e+01, 8.0300e+02,\n",
              "       0.0000e+00, 2.6700e+02])"
            ]
          },
          "execution_count": 43,
          "metadata": {},
          "output_type": "execute_result"
        }
      ],
      "source": [
        "p2=model1.predict(xtest)\n",
        "p2"
      ]
    },
    {
      "cell_type": "code",
      "execution_count": null,
      "metadata": {
        "id": "pTqb_K5ds7Qp"
      },
      "outputs": [],
      "source": []
    },
    {
      "cell_type": "code",
      "execution_count": 44,
      "metadata": {
        "colab": {
          "base_uri": "https://localhost:8080/"
        },
        "id": "W4f8fQNyqBpf",
        "outputId": "80491ec6-11b7-43d9-dade-71d5807165c7"
      },
      "outputs": [
        {
          "data": {
            "text/plain": [
              "93.56724648014784"
            ]
          },
          "execution_count": 44,
          "metadata": {},
          "output_type": "execute_result"
        }
      ],
      "source": [
        "\n",
        "r2_score(ytest,p2)*100"
      ]
    },
    {
      "cell_type": "code",
      "execution_count": null,
      "metadata": {
        "colab": {
          "base_uri": "https://localhost:8080/",
          "height": 406
        },
        "id": "1awC8n1jt1LB",
        "outputId": "393bd687-4a2e-411c-a168-ec92065f2c85"
      },
      "outputs": [
        {
          "data": {
            "image/png": "[encoded data removed]",
            "text/plain": [
              "<Figure size 640x480 with 1 Axes>"
            ]
          },
          "metadata": {},
          "output_type": "display_data"
        }
      ],
      "source": [
        "tree.plot_tree(model1,feature_names=x.columns,filled=True)\n",
        "plt.show()"
      ]
    },
    {
      "cell_type": "markdown",
      "metadata": {
        "id": "LNH3RMK8b0ni"
      },
      "source": [
        "#random forest Regressor\n"
      ]
    },
    {
      "cell_type": "code",
      "execution_count": 74,
      "metadata": {
        "colab": {
          "base_uri": "https://localhost:8080/",
          "height": 75
        },
        "id": "Glp0y4nccEmN",
        "outputId": "63cad9e1-3d1e-4b1d-c2d2-7a19d70f0404"
      },
      "outputs": [
        {
          "data": {
            "text/html": [
              "<style>#sk-container-id-5 {color: black;}#sk-container-id-5 pre{padding: 0;}#sk-container-id-5 div.sk-toggleable {background-color: white;}#sk-container-id-5 label.sk-toggleable__label {cursor: pointer;display: block;width: 100%;margin-bottom: 0;padding: 0.3em;box-sizing: border-box;text-align: center;}#sk-container-id-5 label.sk-toggleable__label-arrow:before {content: \"▸\";float: left;margin-right: 0.25em;color: #696969;}#sk-container-id-5 label.sk-toggleable__label-arrow:hover:before {color: black;}#sk-container-id-5 div.sk-estimator:hover label.sk-toggleable__label-arrow:before {color: black;}#sk-container-id-5 div.sk-toggleable__content {max-height: 0;max-width: 0;overflow: hidden;text-align: left;background-color: #f0f8ff;}#sk-container-id-5 div.sk-toggleable__content pre {margin: 0.2em;color: black;border-radius: 0.25em;background-color: #f0f8ff;}#sk-container-id-5 input.sk-toggleable__control:checked~div.sk-toggleable__content {max-height: 200px;max-width: 100%;overflow: auto;}#sk-container-id-5 input.sk-toggleable__control:checked~label.sk-toggleable__label-arrow:before {content: \"▾\";}#sk-container-id-5 div.sk-estimator input.sk-toggleable__control:checked~label.sk-toggleable__label {background-color: #d4ebff;}#sk-container-id-5 div.sk-label input.sk-toggleable__control:checked~label.sk-toggleable__label {background-color: #d4ebff;}#sk-container-id-5 input.sk-hidden--visually {border: 0;clip: rect(1px 1px 1px 1px);clip: rect(1px, 1px, 1px, 1px);height: 1px;margin: -1px;overflow: hidden;padding: 0;position: absolute;width: 1px;}#sk-container-id-5 div.sk-estimator {font-family: monospace;background-color: #f0f8ff;border: 1px dotted black;border-radius: 0.25em;box-sizing: border-box;margin-bottom: 0.5em;}#sk-container-id-5 div.sk-estimator:hover {background-color: #d4ebff;}#sk-container-id-5 div.sk-parallel-item::after {content: \"\";width: 100%;border-bottom: 1px solid gray;flex-grow: 1;}#sk-container-id-5 div.sk-label:hover label.sk-toggleable__label {background-color: #d4ebff;}#sk-container-id-5 div.sk-serial::before {content: \"\";position: absolute;border-left: 1px solid gray;box-sizing: border-box;top: 0;bottom: 0;left: 50%;z-index: 0;}#sk-container-id-5 div.sk-serial {display: flex;flex-direction: column;align-items: center;background-color: white;padding-right: 0.2em;padding-left: 0.2em;position: relative;}#sk-container-id-5 div.sk-item {position: relative;z-index: 1;}#sk-container-id-5 div.sk-parallel {display: flex;align-items: stretch;justify-content: center;background-color: white;position: relative;}#sk-container-id-5 div.sk-item::before, #sk-container-id-5 div.sk-parallel-item::before {content: \"\";position: absolute;border-left: 1px solid gray;box-sizing: border-box;top: 0;bottom: 0;left: 50%;z-index: -1;}#sk-container-id-5 div.sk-parallel-item {display: flex;flex-direction: column;z-index: 1;position: relative;background-color: white;}#sk-container-id-5 div.sk-parallel-item:first-child::after {align-self: flex-end;width: 50%;}#sk-container-id-5 div.sk-parallel-item:last-child::after {align-self: flex-start;width: 50%;}#sk-container-id-5 div.sk-parallel-item:only-child::after {width: 0;}#sk-container-id-5 div.sk-dashed-wrapped {border: 1px dashed gray;margin: 0 0.4em 0.5em 0.4em;box-sizing: border-box;padding-bottom: 0.4em;background-color: white;}#sk-container-id-5 div.sk-label label {font-family: monospace;font-weight: bold;display: inline-block;line-height: 1.2em;}#sk-container-id-5 div.sk-label-container {text-align: center;}#sk-container-id-5 div.sk-container {/* jupyter's `normalize.less` sets `[hidden] { display: none; }` but bootstrap.min.css set `[hidden] { display: none !important; }` so we also need the `!important` here to be able to override the default hidden behavior on the sphinx rendered scikit-learn.org. See: https://github.com/scikit-learn/scikit-learn/issues/21755 */display: inline-block !important;position: relative;}#sk-container-id-5 div.sk-text-repr-fallback {display: none;}</style><div id=\"sk-container-id-5\" class=\"sk-top-container\"><div class=\"sk-text-repr-fallback\"><pre>RandomForestRegressor()</pre><b>In a Jupyter environment, please rerun this cell to show the HTML representation or trust the notebook. <br />On GitHub, the HTML representation is unable to render, please try loading this page with nbviewer.org.</b></div><div class=\"sk-container\" hidden><div class=\"sk-item\"><div class=\"sk-estimator sk-toggleable\"><input class=\"sk-toggleable__control sk-hidden--visually\" id=\"sk-estimator-id-5\" type=\"checkbox\" checked><label for=\"sk-estimator-id-5\" class=\"sk-toggleable__label sk-toggleable__label-arrow\">RandomForestRegressor</label><div class=\"sk-toggleable__content\"><pre>RandomForestRegressor()</pre></div></div></div></div></div>"
            ],
            "text/plain": [
              "RandomForestRegressor()"
            ]
          },
          "execution_count": 74,
          "metadata": {},
          "output_type": "execute_result"
        }
      ],
      "source": [
        "model2=RandomForestRegressor()\n",
        "model2.fit(xtrain,ytrain)"
      ]
    },
    {
      "cell_type": "code",
      "execution_count": 75,
      "metadata": {
        "colab": {
          "base_uri": "https://localhost:8080/"
        },
        "id": "X4DBAFBbcdkY",
        "outputId": "b44fe740-5ebd-49a1-88f9-c346b1742e67"
      },
      "outputs": [
        {
          "data": {
            "text/plain": [
              "array([2.274000e+01, 2.900000e-01, 2.220000e+00, 5.148000e+01,\n",
              "       4.900000e-01, 2.042000e+01, 1.689400e+02, 8.000000e-02,\n",
              "       9.515000e+01, 9.914000e+01, 2.350000e+00, 4.310000e+00,\n",
              "       4.100000e-01, 1.299800e+02, 1.252200e+02, 0.000000e+00,\n",
              "       6.359600e+02, 3.190000e+00, 5.655000e+01, 4.432000e+01,\n",
              "       0.000000e+00, 7.160000e+00, 4.681800e+02, 3.189300e+02,\n",
              "       2.716000e+01, 6.512000e+02, 6.600000e-01, 7.223000e+01,\n",
              "       6.135000e+01, 2.129200e+02, 4.991000e+01, 8.600000e-01,\n",
              "       1.125800e+02, 4.136400e+02, 1.402600e+02, 1.989000e+01,\n",
              "       2.001800e+02, 3.390700e+02, 6.000000e-02, 7.000000e-01,\n",
              "       3.142000e+01, 1.721100e+02, 5.950180e+03, 3.883000e+01,\n",
              "       1.160500e+02, 3.486000e+01, 2.545000e+01, 1.930000e+00,\n",
              "       5.535000e+01, 1.477500e+02, 1.510900e+02, 3.758000e+01,\n",
              "       9.943000e+01, 5.035000e+02, 1.212100e+02, 5.038000e+01,\n",
              "       1.512400e+02, 4.101000e+01, 7.180000e+00, 4.085900e+02,\n",
              "       7.502800e+02, 1.130300e+02, 9.700000e+00, 1.000000e-01,\n",
              "       2.901000e+02, 2.500000e-01, 3.390000e+01, 1.224000e+01,\n",
              "       1.275600e+03, 4.109500e+02, 5.942900e+02, 2.783600e+02,\n",
              "       2.399200e+02, 2.489600e+02, 3.019000e+01, 2.505000e+01,\n",
              "       2.000000e-02, 2.817000e+01, 4.805700e+02, 4.973000e+01,\n",
              "       5.654000e+01, 7.300000e-01, 1.889700e+02, 1.108000e+01,\n",
              "       5.321000e+01, 2.500000e+01, 5.112000e+01, 3.250700e+02,\n",
              "       9.370000e+00, 2.992240e+03, 1.502500e+02, 1.312000e+01,\n",
              "       2.490800e+02, 3.100000e-01, 2.795400e+02, 4.896000e+01,\n",
              "       5.983000e+01, 5.616490e+03, 8.900000e+00, 3.987000e+02,\n",
              "       1.726000e+02, 1.283200e+02, 2.853300e+02, 1.090800e+02,\n",
              "       1.204000e+01, 7.333400e+02, 3.844000e+01, 2.953800e+02,\n",
              "       2.274000e+01, 1.135200e+02, 5.311000e+01, 8.000000e-01,\n",
              "       5.723000e+01, 4.425000e+01, 7.300000e+00, 1.645200e+02,\n",
              "       2.613100e+02, 1.072200e+02, 3.212000e+01, 1.644000e+01,\n",
              "       4.778000e+01, 3.872000e+01, 1.044732e+04, 2.606000e+01,\n",
              "       6.516000e+01, 2.297000e+02, 1.544900e+02, 6.341000e+01,\n",
              "       2.609000e+01, 0.000000e+00, 4.000000e-02, 7.009000e+01,\n",
              "       1.749000e+01, 8.000000e-01, 6.533000e+01, 4.361900e+02,\n",
              "       2.417500e+02, 1.590000e+00, 1.888200e+02, 6.179200e+02,\n",
              "       6.443000e+01, 9.760000e+00, 5.200000e-01, 7.239000e+01,\n",
              "       2.757800e+02, 3.890000e+01, 1.636200e+02, 3.818100e+02,\n",
              "       6.700000e-01, 1.926200e+02, 5.816000e+01, 2.396000e+02,\n",
              "       4.830000e+00, 5.931000e+01, 1.120000e+01, 9.322000e+01,\n",
              "       6.684000e+01, 6.003080e+03, 9.009000e+01, 5.746700e+02,\n",
              "       5.550000e+01, 8.946280e+03, 4.000000e-02, 3.321000e+02,\n",
              "       2.949000e+01, 6.365870e+03, 1.689300e+02, 1.680657e+04,\n",
              "       7.397000e+01, 3.990000e+00, 3.000000e-01, 8.914100e+02,\n",
              "       1.145000e+01, 1.662952e+04, 3.725300e+02, 2.960000e+00,\n",
              "       1.613000e+01, 3.000000e-02, 2.990000e+01, 6.700000e+00,\n",
              "       4.892600e+02, 1.185700e+02, 4.382200e+02, 2.176600e+02,\n",
              "       3.354200e+02, 4.656500e+02, 6.708000e+01, 2.928430e+03,\n",
              "       1.034500e+02, 6.745000e+01, 2.030000e+01, 2.244000e+02,\n",
              "       2.911000e+01, 2.324000e+01, 1.623500e+02, 3.040000e+02,\n",
              "       1.079400e+02, 7.982000e+01, 1.435500e+02, 4.301000e+01,\n",
              "       1.748700e+02, 6.621500e+02, 1.022100e+02, 5.780000e+00,\n",
              "       4.698000e+01, 4.093650e+03, 3.676000e+01, 8.216000e+01,\n",
              "       1.787600e+02, 1.078000e+02, 3.468300e+03, 3.600000e-01,\n",
              "       3.304200e+02, 2.082000e+01, 6.179000e+01, 3.810300e+02,\n",
              "       7.500000e-01, 2.932600e+02, 6.586000e+01, 1.932600e+02,\n",
              "       1.530000e+00, 2.826000e+01, 1.500000e-01, 1.256800e+02,\n",
              "       9.639600e+02, 6.670000e+00, 1.121300e+02, 1.748100e+02,\n",
              "       3.121300e+02, 9.210000e+00, 2.200200e+02, 3.574000e+01,\n",
              "       8.629000e+01, 4.713600e+02, 5.592860e+03, 1.591700e+02,\n",
              "       1.382800e+02, 1.124800e+02, 5.962000e+01, 2.347000e+01,\n",
              "       1.098400e+03, 1.081600e+02, 1.789670e+03, 1.155300e+02,\n",
              "       4.389000e+01, 2.246000e+01, 8.792800e+02, 2.941000e+02,\n",
              "       3.056540e+03, 2.000000e-02, 4.555000e+01, 1.279000e+01,\n",
              "       1.304500e+02, 8.044000e+01, 0.000000e+00, 0.000000e+00,\n",
              "       5.909000e+01, 4.662000e+01, 8.046000e+01, 6.000000e-02,\n",
              "       5.600000e-01, 5.286000e+01, 7.547000e+01, 1.750000e+00,\n",
              "       2.712910e+03, 1.558000e+01, 1.039200e+02, 5.330000e+00,\n",
              "       1.690000e+00, 3.758600e+02, 2.018000e+01, 6.000000e-02,\n",
              "       4.000000e-01, 6.862000e+01, 2.063600e+02, 0.000000e+00,\n",
              "       4.906000e+01, 1.152000e+01, 3.960900e+02, 8.012000e+01,\n",
              "       2.000000e-02, 4.036000e+01, 1.052100e+02, 1.025300e+02,\n",
              "       6.451800e+02, 4.703100e+02, 9.900000e-01, 2.373100e+02,\n",
              "       9.429000e+01, 4.000000e-02, 2.959200e+02, 3.100000e-01,\n",
              "       6.800000e-01, 3.645000e+01, 1.312000e+01, 1.990000e+00,\n",
              "       5.364000e+01, 1.669000e+02, 1.661000e+01, 5.019000e+01,\n",
              "       3.139000e+01, 5.810000e+00, 7.672360e+03, 1.359623e+04,\n",
              "       2.977000e+01, 1.742020e+03, 1.049400e+02, 2.572900e+02,\n",
              "       8.170000e+00, 5.300000e-01, 5.711000e+01, 6.096000e+01,\n",
              "       1.253200e+02, 3.106800e+02, 0.000000e+00, 1.035400e+02,\n",
              "       4.585000e+01, 4.000000e-02, 5.959300e+02, 1.370000e+00,\n",
              "       1.866000e+01, 2.348000e+01, 7.466000e+01, 1.955600e+02,\n",
              "       1.569000e+01, 3.164900e+02, 8.987600e+02, 7.676000e+01,\n",
              "       2.790000e+01, 1.681000e+02, 1.509000e+01, 1.768000e+01,\n",
              "       3.730000e+00, 1.938900e+02, 8.125000e+01, 3.879000e+01,\n",
              "       2.254000e+01, 5.234000e+01, 3.597000e+01, 1.724200e+02,\n",
              "       3.342000e+01, 0.000000e+00, 1.055000e+01, 5.952000e+01,\n",
              "       7.636000e+01, 3.500000e+00, 2.133000e+01, 2.470000e+00,\n",
              "       2.380000e+00, 3.530500e+02, 4.000000e-01, 5.930000e+01,\n",
              "       6.651000e+01, 1.250800e+02, 2.404200e+02, 6.150000e+00,\n",
              "       1.968200e+02, 0.000000e+00, 0.000000e+00, 4.000000e-02,\n",
              "       1.228682e+04, 3.707800e+02, 1.248900e+02, 5.945000e+01,\n",
              "       2.290800e+02, 2.509000e+01, 1.145100e+02, 1.052680e+03,\n",
              "       4.377000e+01, 3.535000e+02, 1.045900e+02, 6.360000e+01,\n",
              "       4.870000e+00, 9.122000e+01, 5.929000e+01, 4.652200e+02,\n",
              "       2.448000e+02, 2.700000e-01, 1.283000e+01, 0.000000e+00,\n",
              "       5.264000e+01, 0.000000e+00, 5.432000e+01, 1.200000e-01,\n",
              "       2.313100e+02, 7.971100e+02, 2.754000e+01, 1.910000e+01,\n",
              "       2.129200e+02, 3.703000e+01, 1.232500e+02, 5.103000e+01,\n",
              "       1.092200e+02, 1.266000e+02, 1.025000e+02, 6.557600e+02,\n",
              "       1.601200e+02, 5.910000e+00, 8.294000e+01, 1.236300e+02,\n",
              "       4.874000e+01, 1.517900e+02, 1.715000e+01, 2.974000e+01,\n",
              "       1.379100e+02, 4.235460e+03, 4.373000e+01, 2.310000e+00,\n",
              "       4.780000e+00, 6.899000e+01, 2.910000e+01, 9.661000e+01,\n",
              "       1.137200e+02, 5.740000e+00, 3.376200e+02, 1.779200e+02,\n",
              "       9.605760e+03, 6.492200e+02, 6.722000e+01, 5.240000e+00,\n",
              "       2.050000e+01, 2.349000e+01, 5.898700e+02, 3.082800e+02,\n",
              "       6.960200e+02, 1.600000e+00, 7.593000e+01, 3.864000e+01,\n",
              "       1.546900e+02, 0.000000e+00, 2.994800e+02, 1.780000e+00,\n",
              "       1.226100e+02, 2.236800e+02, 4.492700e+02, 2.345000e+01,\n",
              "       5.740000e+00, 2.452200e+02, 3.202300e+02, 8.344000e+01,\n",
              "       1.241664e+04, 7.900000e-01, 8.776000e+01, 9.194510e+03,\n",
              "       5.090000e+00, 1.491800e+02, 5.996000e+01, 4.264000e+01,\n",
              "       7.975000e+01, 1.440000e+01, 1.949300e+02, 1.244900e+02,\n",
              "       2.365000e+01, 5.542000e+01, 1.062000e+01, 4.400000e-01,\n",
              "       1.730000e+01, 6.290000e+00, 6.373100e+02, 2.184200e+02,\n",
              "       8.579000e+01, 1.650567e+04, 6.584000e+01, 7.640000e+00,\n",
              "       1.055700e+02, 6.580500e+02, 2.219000e+01, 1.911200e+02,\n",
              "       5.877400e+02, 5.429000e+01, 1.363900e+02, 5.903000e+01,\n",
              "       3.691100e+02, 1.210000e+00, 6.863000e+01, 3.523300e+02,\n",
              "       8.700000e-01, 7.700000e-01, 1.072300e+02, 1.407700e+02,\n",
              "       1.000000e-01, 1.000000e+01, 2.720000e+00, 4.225700e+02,\n",
              "       3.442000e+01, 4.700000e-01, 2.000000e-02, 6.760700e+02,\n",
              "       4.936200e+02, 1.023600e+02, 2.900000e-01, 3.110000e+01,\n",
              "       4.589000e+02, 1.347200e+02, 4.086400e+02, 1.830300e+02,\n",
              "       9.200000e-01, 7.190000e+00, 3.908000e+01, 7.492300e+02,\n",
              "       1.125300e+02, 3.156500e+02, 8.696000e+01, 1.200000e+00,\n",
              "       5.031200e+02, 1.691600e+02, 1.250600e+02, 0.000000e+00,\n",
              "       4.022600e+02, 7.790000e+00, 5.071000e+01, 4.580000e+01,\n",
              "       3.976000e+01, 1.637000e+02, 5.359560e+03, 8.600000e+00,\n",
              "       5.087260e+03, 3.655000e+02, 6.113000e+01, 1.345100e+02,\n",
              "       6.050000e+00, 7.734100e+02, 1.102200e+02, 6.600000e-01,\n",
              "       9.598000e+01, 1.037300e+02, 1.252400e+02, 2.355700e+02,\n",
              "       1.019700e+02, 2.013600e+02, 3.070000e+01, 1.570800e+02,\n",
              "       4.380000e+01, 0.000000e+00, 3.703000e+02, 5.286000e+01,\n",
              "       3.664700e+02, 1.450000e+00, 2.033000e+01, 2.922000e+01,\n",
              "       1.883800e+02, 1.325600e+02, 2.700000e-01, 8.116000e+01,\n",
              "       8.743000e+01, 5.144600e+02, 2.782100e+02, 4.554000e+01,\n",
              "       1.636615e+04, 2.026300e+02, 1.406000e+01, 1.905000e+01,\n",
              "       3.740000e+00, 1.140000e+00, 4.467000e+01, 1.160000e+00,\n",
              "       1.130700e+02, 0.000000e+00, 1.807500e+02, 8.027500e+02,\n",
              "       2.824600e+02, 1.000000e+00, 1.500000e+00, 8.100000e-01,\n",
              "       3.545700e+02, 6.004000e+01, 1.000000e-01, 2.254300e+02,\n",
              "       6.220000e+00, 1.364800e+02, 3.526000e+01, 6.265500e+02,\n",
              "       2.300000e-01, 2.360000e+01, 1.010000e+00, 1.258100e+02,\n",
              "       5.885000e+01, 1.090600e+02, 1.217485e+04, 5.099000e+01,\n",
              "       1.964000e+01, 2.871400e+02, 0.000000e+00, 3.561100e+02,\n",
              "       1.800000e-01, 9.381000e+01, 3.639000e+01, 0.000000e+00,\n",
              "       4.790000e+00, 8.100000e+00, 2.010100e+02, 2.948900e+02,\n",
              "       5.400000e-01, 1.466400e+02, 6.096000e+01, 1.114900e+02,\n",
              "       3.800700e+02, 1.380000e+00, 2.235000e+01, 5.326000e+02,\n",
              "       1.277300e+02, 6.137000e+01, 1.533000e+02, 1.751000e+01,\n",
              "       2.282000e+01, 7.511000e+01, 1.184400e+02, 4.779000e+01,\n",
              "       3.501500e+02, 3.570000e+00, 1.200400e+02, 3.120700e+02,\n",
              "       1.319400e+02, 4.288000e+01, 1.419700e+02, 1.633000e+01,\n",
              "       3.000000e-02, 2.442900e+02, 1.320300e+02, 1.605000e+01,\n",
              "       7.794400e+02, 3.173000e+01, 9.604000e+01, 3.170000e+00,\n",
              "       3.762700e+02, 2.254000e+01, 5.280500e+02, 4.734880e+03,\n",
              "       9.498000e+01, 4.400000e-01, 1.000000e-01, 7.337220e+03,\n",
              "       2.402800e+02, 5.600000e-01, 0.000000e+00, 1.100000e-01,\n",
              "       2.405500e+02, 2.620400e+02, 2.105000e+02, 7.435000e+01,\n",
              "       4.300000e-01, 4.113400e+02, 4.887000e+01, 3.086000e+01,\n",
              "       2.337000e+01, 1.372900e+02, 1.994700e+02, 4.865000e+01,\n",
              "       6.956000e+01, 1.339000e+01, 8.019000e+01, 5.061000e+01,\n",
              "       5.520000e+00, 1.125900e+02, 6.094000e+01, 1.853300e+02,\n",
              "       6.191000e+01, 9.500000e+00, 5.439900e+02, 1.378500e+02,\n",
              "       3.170600e+02, 4.811000e+01, 4.700000e-01, 4.339000e+01,\n",
              "       8.416200e+02, 2.924800e+02, 2.000000e-02, 2.040000e+00,\n",
              "       1.209600e+02, 5.214000e+01, 1.316700e+02, 8.447000e+01,\n",
              "       5.165000e+01, 1.447900e+02, 1.887000e+01, 2.680300e+02,\n",
              "       4.875300e+02, 1.384300e+02, 3.000000e-02, 4.478000e+01,\n",
              "       5.587310e+03, 4.763000e+02, 8.192000e+01, 7.824000e+01,\n",
              "       5.375000e+01, 2.616000e+01, 1.900000e-01, 8.165000e+01,\n",
              "       2.167000e+01, 1.186400e+02, 1.595400e+02, 3.092500e+02,\n",
              "       2.262000e+01, 6.692000e+01, 6.490000e+00, 1.226000e+02,\n",
              "       5.500000e+00, 5.300000e+00, 1.915300e+02, 9.481000e+01,\n",
              "       2.839000e+01, 2.900000e-01, 3.035100e+02, 1.274000e+02,\n",
              "       8.461000e+01, 1.560000e+02, 1.037900e+02, 7.937000e+01,\n",
              "       1.230600e+02, 2.179600e+02, 7.830000e+00, 8.259000e+01,\n",
              "       6.403400e+02, 2.436200e+02, 1.704100e+02, 4.192000e+01,\n",
              "       2.025400e+02, 2.155000e+01, 3.688000e+01, 6.392000e+02,\n",
              "       2.000000e-02, 2.706900e+02])"
            ]
          },
          "execution_count": 75,
          "metadata": {},
          "output_type": "execute_result"
        }
      ],
      "source": [
        "p3=model2.predict(xtest)\n",
        "p3"
      ]
    },
    {
      "cell_type": "code",
      "execution_count": 76,
      "metadata": {
        "colab": {
          "base_uri": "https://localhost:8080/"
        },
        "id": "xbK02dEyckdE",
        "outputId": "671105bd-8298-41a0-befa-da8817b4c11b"
      },
      "outputs": [
        {
          "data": {
            "text/plain": [
              "95.70844107821259"
            ]
          },
          "execution_count": 76,
          "metadata": {},
          "output_type": "execute_result"
        }
      ],
      "source": [
        "r2_score(ytest,p3)*100"
      ]
    },
    {
      "cell_type": "markdown",
      "metadata": {
        "id": "1tU5TAT_wnJS"
      },
      "source": [
        "#SVM-SVR"
      ]
    },
    {
      "cell_type": "code",
      "execution_count": 49,
      "metadata": {
        "colab": {
          "base_uri": "https://localhost:8080/",
          "height": 75
        },
        "id": "E5L2NNIPwk33",
        "outputId": "8538e462-6a5a-40d1-e51d-165f96d9250f"
      },
      "outputs": [
        {
          "data": {
            "text/html": [
              "<style>#sk-container-id-3 {color: black;}#sk-container-id-3 pre{padding: 0;}#sk-container-id-3 div.sk-toggleable {background-color: white;}#sk-container-id-3 label.sk-toggleable__label {cursor: pointer;display: block;width: 100%;margin-bottom: 0;padding: 0.3em;box-sizing: border-box;text-align: center;}#sk-container-id-3 label.sk-toggleable__label-arrow:before {content: \"▸\";float: left;margin-right: 0.25em;color: #696969;}#sk-container-id-3 label.sk-toggleable__label-arrow:hover:before {color: black;}#sk-container-id-3 div.sk-estimator:hover label.sk-toggleable__label-arrow:before {color: black;}#sk-container-id-3 div.sk-toggleable__content {max-height: 0;max-width: 0;overflow: hidden;text-align: left;background-color: #f0f8ff;}#sk-container-id-3 div.sk-toggleable__content pre {margin: 0.2em;color: black;border-radius: 0.25em;background-color: #f0f8ff;}#sk-container-id-3 input.sk-toggleable__control:checked~div.sk-toggleable__content {max-height: 200px;max-width: 100%;overflow: auto;}#sk-container-id-3 input.sk-toggleable__control:checked~label.sk-toggleable__label-arrow:before {content: \"▾\";}#sk-container-id-3 div.sk-estimator input.sk-toggleable__control:checked~label.sk-toggleable__label {background-color: #d4ebff;}#sk-container-id-3 div.sk-label input.sk-toggleable__control:checked~label.sk-toggleable__label {background-color: #d4ebff;}#sk-container-id-3 input.sk-hidden--visually {border: 0;clip: rect(1px 1px 1px 1px);clip: rect(1px, 1px, 1px, 1px);height: 1px;margin: -1px;overflow: hidden;padding: 0;position: absolute;width: 1px;}#sk-container-id-3 div.sk-estimator {font-family: monospace;background-color: #f0f8ff;border: 1px dotted black;border-radius: 0.25em;box-sizing: border-box;margin-bottom: 0.5em;}#sk-container-id-3 div.sk-estimator:hover {background-color: #d4ebff;}#sk-container-id-3 div.sk-parallel-item::after {content: \"\";width: 100%;border-bottom: 1px solid gray;flex-grow: 1;}#sk-container-id-3 div.sk-label:hover label.sk-toggleable__label {background-color: #d4ebff;}#sk-container-id-3 div.sk-serial::before {content: \"\";position: absolute;border-left: 1px solid gray;box-sizing: border-box;top: 0;bottom: 0;left: 50%;z-index: 0;}#sk-container-id-3 div.sk-serial {display: flex;flex-direction: column;align-items: center;background-color: white;padding-right: 0.2em;padding-left: 0.2em;position: relative;}#sk-container-id-3 div.sk-item {position: relative;z-index: 1;}#sk-container-id-3 div.sk-parallel {display: flex;align-items: stretch;justify-content: center;background-color: white;position: relative;}#sk-container-id-3 div.sk-item::before, #sk-container-id-3 div.sk-parallel-item::before {content: \"\";position: absolute;border-left: 1px solid gray;box-sizing: border-box;top: 0;bottom: 0;left: 50%;z-index: -1;}#sk-container-id-3 div.sk-parallel-item {display: flex;flex-direction: column;z-index: 1;position: relative;background-color: white;}#sk-container-id-3 div.sk-parallel-item:first-child::after {align-self: flex-end;width: 50%;}#sk-container-id-3 div.sk-parallel-item:last-child::after {align-self: flex-start;width: 50%;}#sk-container-id-3 div.sk-parallel-item:only-child::after {width: 0;}#sk-container-id-3 div.sk-dashed-wrapped {border: 1px dashed gray;margin: 0 0.4em 0.5em 0.4em;box-sizing: border-box;padding-bottom: 0.4em;background-color: white;}#sk-container-id-3 div.sk-label label {font-family: monospace;font-weight: bold;display: inline-block;line-height: 1.2em;}#sk-container-id-3 div.sk-label-container {text-align: center;}#sk-container-id-3 div.sk-container {/* jupyter's `normalize.less` sets `[hidden] { display: none; }` but bootstrap.min.css set `[hidden] { display: none !important; }` so we also need the `!important` here to be able to override the default hidden behavior on the sphinx rendered scikit-learn.org. See: https://github.com/scikit-learn/scikit-learn/issues/21755 */display: inline-block !important;position: relative;}#sk-container-id-3 div.sk-text-repr-fallback {display: none;}</style><div id=\"sk-container-id-3\" class=\"sk-top-container\"><div class=\"sk-text-repr-fallback\"><pre>SVR()</pre><b>In a Jupyter environment, please rerun this cell to show the HTML representation or trust the notebook. <br />On GitHub, the HTML representation is unable to render, please try loading this page with nbviewer.org.</b></div><div class=\"sk-container\" hidden><div class=\"sk-item\"><div class=\"sk-estimator sk-toggleable\"><input class=\"sk-toggleable__control sk-hidden--visually\" id=\"sk-estimator-id-3\" type=\"checkbox\" checked><label for=\"sk-estimator-id-3\" class=\"sk-toggleable__label sk-toggleable__label-arrow\">SVR</label><div class=\"sk-toggleable__content\"><pre>SVR()</pre></div></div></div></div></div>"
            ],
            "text/plain": [
              "SVR()"
            ]
          },
          "execution_count": 49,
          "metadata": {},
          "output_type": "execute_result"
        }
      ],
      "source": [
        "model3=SVR()\n",
        "model3.fit(xtrain,ytrain)"
      ]
    },
    {
      "cell_type": "code",
      "execution_count": 50,
      "metadata": {
        "id": "MfxaanOV6ObZ"
      },
      "outputs": [],
      "source": [
        "p4=model3.predict(xtest)"
      ]
    },
    {
      "cell_type": "code",
      "execution_count": 51,
      "metadata": {
        "colab": {
          "base_uri": "https://localhost:8080/"
        },
        "id": "7npy8l466SY-",
        "outputId": "dc4e49cd-6f2f-4fc4-f266-31577e3fac6c"
      },
      "outputs": [
        {
          "data": {
            "text/plain": [
              "-0.013632890799033959"
            ]
          },
          "execution_count": 51,
          "metadata": {},
          "output_type": "execute_result"
        }
      ],
      "source": [
        "r2_score(ytest,p4)"
      ]
    },
    {
      "cell_type": "markdown",
      "metadata": {
        "id": "vEMQ_b_M7TeK"
      },
      "source": [
        "#AdaBoost Regressor"
      ]
    },
    {
      "cell_type": "code",
      "execution_count": 52,
      "metadata": {
        "colab": {
          "base_uri": "https://localhost:8080/",
          "height": 75
        },
        "id": "JkX5q1bH7FVH",
        "outputId": "169846b0-5ca2-435a-816b-3f69078800ff"
      },
      "outputs": [
        {
          "data": {
            "text/html": [
              "<style>#sk-container-id-4 {color: black;}#sk-container-id-4 pre{padding: 0;}#sk-container-id-4 div.sk-toggleable {background-color: white;}#sk-container-id-4 label.sk-toggleable__label {cursor: pointer;display: block;width: 100%;margin-bottom: 0;padding: 0.3em;box-sizing: border-box;text-align: center;}#sk-container-id-4 label.sk-toggleable__label-arrow:before {content: \"▸\";float: left;margin-right: 0.25em;color: #696969;}#sk-container-id-4 label.sk-toggleable__label-arrow:hover:before {color: black;}#sk-container-id-4 div.sk-estimator:hover label.sk-toggleable__label-arrow:before {color: black;}#sk-container-id-4 div.sk-toggleable__content {max-height: 0;max-width: 0;overflow: hidden;text-align: left;background-color: #f0f8ff;}#sk-container-id-4 div.sk-toggleable__content pre {margin: 0.2em;color: black;border-radius: 0.25em;background-color: #f0f8ff;}#sk-container-id-4 input.sk-toggleable__control:checked~div.sk-toggleable__content {max-height: 200px;max-width: 100%;overflow: auto;}#sk-container-id-4 input.sk-toggleable__control:checked~label.sk-toggleable__label-arrow:before {content: \"▾\";}#sk-container-id-4 div.sk-estimator input.sk-toggleable__control:checked~label.sk-toggleable__label {background-color: #d4ebff;}#sk-container-id-4 div.sk-label input.sk-toggleable__control:checked~label.sk-toggleable__label {background-color: #d4ebff;}#sk-container-id-4 input.sk-hidden--visually {border: 0;clip: rect(1px 1px 1px 1px);clip: rect(1px, 1px, 1px, 1px);height: 1px;margin: -1px;overflow: hidden;padding: 0;position: absolute;width: 1px;}#sk-container-id-4 div.sk-estimator {font-family: monospace;background-color: #f0f8ff;border: 1px dotted black;border-radius: 0.25em;box-sizing: border-box;margin-bottom: 0.5em;}#sk-container-id-4 div.sk-estimator:hover {background-color: #d4ebff;}#sk-container-id-4 div.sk-parallel-item::after {content: \"\";width: 100%;border-bottom: 1px solid gray;flex-grow: 1;}#sk-container-id-4 div.sk-label:hover label.sk-toggleable__label {background-color: #d4ebff;}#sk-container-id-4 div.sk-serial::before {content: \"\";position: absolute;border-left: 1px solid gray;box-sizing: border-box;top: 0;bottom: 0;left: 50%;z-index: 0;}#sk-container-id-4 div.sk-serial {display: flex;flex-direction: column;align-items: center;background-color: white;padding-right: 0.2em;padding-left: 0.2em;position: relative;}#sk-container-id-4 div.sk-item {position: relative;z-index: 1;}#sk-container-id-4 div.sk-parallel {display: flex;align-items: stretch;justify-content: center;background-color: white;position: relative;}#sk-container-id-4 div.sk-item::before, #sk-container-id-4 div.sk-parallel-item::before {content: \"\";position: absolute;border-left: 1px solid gray;box-sizing: border-box;top: 0;bottom: 0;left: 50%;z-index: -1;}#sk-container-id-4 div.sk-parallel-item {display: flex;flex-direction: column;z-index: 1;position: relative;background-color: white;}#sk-container-id-4 div.sk-parallel-item:first-child::after {align-self: flex-end;width: 50%;}#sk-container-id-4 div.sk-parallel-item:last-child::after {align-self: flex-start;width: 50%;}#sk-container-id-4 div.sk-parallel-item:only-child::after {width: 0;}#sk-container-id-4 div.sk-dashed-wrapped {border: 1px dashed gray;margin: 0 0.4em 0.5em 0.4em;box-sizing: border-box;padding-bottom: 0.4em;background-color: white;}#sk-container-id-4 div.sk-label label {font-family: monospace;font-weight: bold;display: inline-block;line-height: 1.2em;}#sk-container-id-4 div.sk-label-container {text-align: center;}#sk-container-id-4 div.sk-container {/* jupyter's `normalize.less` sets `[hidden] { display: none; }` but bootstrap.min.css set `[hidden] { display: none !important; }` so we also need the `!important` here to be able to override the default hidden behavior on the sphinx rendered scikit-learn.org. See: https://github.com/scikit-learn/scikit-learn/issues/21755 */display: inline-block !important;position: relative;}#sk-container-id-4 div.sk-text-repr-fallback {display: none;}</style><div id=\"sk-container-id-4\" class=\"sk-top-container\"><div class=\"sk-text-repr-fallback\"><pre>AdaBoostRegressor()</pre><b>In a Jupyter environment, please rerun this cell to show the HTML representation or trust the notebook. <br />On GitHub, the HTML representation is unable to render, please try loading this page with nbviewer.org.</b></div><div class=\"sk-container\" hidden><div class=\"sk-item\"><div class=\"sk-estimator sk-toggleable\"><input class=\"sk-toggleable__control sk-hidden--visually\" id=\"sk-estimator-id-4\" type=\"checkbox\" checked><label for=\"sk-estimator-id-4\" class=\"sk-toggleable__label sk-toggleable__label-arrow\">AdaBoostRegressor</label><div class=\"sk-toggleable__content\"><pre>AdaBoostRegressor()</pre></div></div></div></div></div>"
            ],
            "text/plain": [
              "AdaBoostRegressor()"
            ]
          },
          "execution_count": 52,
          "metadata": {},
          "output_type": "execute_result"
        }
      ],
      "source": [
        "model4=AdaBoostRegressor()\n",
        "model4.fit(xtrain,ytrain)"
      ]
    },
    {
      "cell_type": "code",
      "execution_count": 53,
      "metadata": {
        "id": "X2xIHPBA8LEy"
      },
      "outputs": [],
      "source": [
        "p5=model4.predict(xtest)"
      ]
    },
    {
      "cell_type": "code",
      "execution_count": 54,
      "metadata": {
        "colab": {
          "base_uri": "https://localhost:8080/"
        },
        "id": "fgYr8f8D8LHN",
        "outputId": "f93b58fe-a8b0-4762-cd37-6f5a34401434"
      },
      "outputs": [
        {
          "data": {
            "text/plain": [
              "93.490595522946"
            ]
          },
          "execution_count": 54,
          "metadata": {},
          "output_type": "execute_result"
        }
      ],
      "source": [
        "r2_score(ytest,p5)*100"
      ]
    },
    {
      "cell_type": "markdown",
      "metadata": {
        "id": "UdB392Nfz46h"
      },
      "source": [
        "#Dataframe Showing Training and Testing Accuracy"
      ]
    },
    {
      "cell_type": "code",
      "execution_count": 55,
      "metadata": {
        "colab": {
          "base_uri": "https://localhost:8080/",
          "height": 175
        },
        "id": "-iefl9aj8LQ-",
        "outputId": "9af2a1ec-2215-474c-9ba0-24d451aa994b"
      },
      "outputs": [
        {
          "data": {
            "text/html": [
              "<div>\n",
              "<style scoped>\n",
              "    .dataframe tbody tr th:only-of-type {\n",
              "        vertical-align: middle;\n",
              "    }\n",
              "\n",
              "    .dataframe tbody tr th {\n",
              "        vertical-align: top;\n",
              "    }\n",
              "\n",
              "    .dataframe thead th {\n",
              "        text-align: right;\n",
              "    }\n",
              "</style>\n",
              "<table border=\"1\" class=\"dataframe\">\n",
              "  <thead>\n",
              "    <tr style=\"text-align: right;\">\n",
              "      <th></th>\n",
              "      <th>Model Name</th>\n",
              "      <th>Training Acc</th>\n",
              "      <th>Testing Acc</th>\n",
              "    </tr>\n",
              "  </thead>\n",
              "  <tbody>\n",
              "    <tr>\n",
              "      <th>0</th>\n",
              "      <td>Decision Tree Regressor</td>\n",
              "      <td>100.0000</td>\n",
              "      <td>100.000</td>\n",
              "    </tr>\n",
              "    <tr>\n",
              "      <th>1</th>\n",
              "      <td>Random Forest Regressor</td>\n",
              "      <td>99.4600</td>\n",
              "      <td>96.070</td>\n",
              "    </tr>\n",
              "    <tr>\n",
              "      <th>2</th>\n",
              "      <td>SVR</td>\n",
              "      <td>-0.0028</td>\n",
              "      <td>-0.013</td>\n",
              "    </tr>\n",
              "    <tr>\n",
              "      <th>3</th>\n",
              "      <td>AdaBoost Rgressor</td>\n",
              "      <td>96.8800</td>\n",
              "      <td>94.550</td>\n",
              "    </tr>\n",
              "  </tbody>\n",
              "</table>\n",
              "</div>"
            ],
            "text/plain": [
              "                Model Name  Training Acc  Testing Acc\n",
              "0  Decision Tree Regressor      100.0000      100.000\n",
              "1  Random Forest Regressor       99.4600       96.070\n",
              "2                      SVR       -0.0028       -0.013\n",
              "3        AdaBoost Rgressor       96.8800       94.550"
            ]
          },
          "execution_count": 55,
          "metadata": {},
          "output_type": "execute_result"
        }
      ],
      "source": [
        "DaTaFrAme=pd.DataFrame({'Model Name':['Decision Tree Regressor','Random Forest Regressor','SVR','AdaBoost Rgressor'],'Training Acc':[100,99.46,-0.0028,96.88],'Testing Acc':[100,96.07,-0.013,94.55]})\n",
        "DaTaFrAme"
      ]
    },
    {
      "cell_type": "code",
      "execution_count": null,
      "metadata": {
        "colab": {
          "base_uri": "https://localhost:8080/",
          "height": 457
        },
        "id": "dLh1RT0E8LUW",
        "outputId": "221a7e1a-b589-4d66-9c93-6065e42a8f79"
      },
      "outputs": [
        {
          "data": {
            "text/plain": [
              "<Axes: >"
            ]
          },
          "execution_count": 48,
          "metadata": {},
          "output_type": "execute_result"
        },
        {
          "data": {
            "image/png": "[encoded data removed]",
            "text/plain": [
              "<Figure size 1000x500 with 1 Axes>"
            ]
          },
          "metadata": {},
          "output_type": "display_data"
        }
      ],
      "source": [
        "DaTaFrAme.plot(kind='bar',figsize=(10,5))"
      ]
    },
    {
      "cell_type": "markdown",
      "metadata": {
        "id": "a67KixpUz_KQ"
      },
      "source": [
        "#Prediction using outside Data"
      ]
    },
    {
      "cell_type": "code",
      "execution_count": null,
      "metadata": {
        "colab": {
          "base_uri": "https://localhost:8080/"
        },
        "id": "pPIBspFs-ell",
        "outputId": "4028b284-7589-4b59-f244-75427efaf906"
      },
      "outputs": [
        {
          "name": "stderr",
          "output_type": "stream",
          "text": [
            "/usr/local/lib/python3.9/dist-packages/sklearn/base.py:439: UserWarning: X does not have valid feature names, but AdaBoostRegressor was fitted with feature names\n",
            "  warnings.warn(\n"
          ]
        },
        {
          "data": {
            "text/plain": [
              "array([258.86324786])"
            ]
          },
          "execution_count": 49,
          "metadata": {},
          "output_type": "execute_result"
        }
      ],
      "source": [
        "v=[[7,0\t,0.0,\t0,\t86.0,\t8.0,\t4\t,2017,\t164]]\n",
        "c=model4.predict(v)\n",
        "c"
      ]
    },
    {
      "cell_type": "code",
      "execution_count": 62,
      "metadata": {},
      "outputs": [
        {
          "data": {
            "text/plain": [
              "State/UT                         72.0\n",
              "Dowry Deaths                     22.0\n",
              "Murder with Rape                 27.0\n",
              "Acid Attack                       5.0\n",
              "Kidnapping & Abduction           56.0\n",
              "Procuration of Minor Girls        0.0\n",
              "Sexual Assault of Children        0.0\n",
              "year                           2013.0\n",
              "Total crimes                    177.0\n",
              "Name: 2495, dtype: float64"
            ]
          },
          "execution_count": 62,
          "metadata": {},
          "output_type": "execute_result"
        }
      ],
      "source": [
        "xtrain.iloc[0,:]"
      ]
    },
    {
      "cell_type": "code",
      "execution_count": 57,
      "metadata": {},
      "outputs": [],
      "source": [
        "import pickle"
      ]
    },
    {
      "cell_type": "code",
      "execution_count": 77,
      "metadata": {},
      "outputs": [],
      "source": [
        "with open('rf_model.pickle', 'wb') as f:\n",
        "    pickle.dump(model2, f)\n",
        "f.close()"
      ]
    },
    {
      "cell_type": "code",
      "execution_count": 60,
      "metadata": {},
      "outputs": [],
      "source": [
        "with open('le_encoder.pickle', 'wb') as f:\n",
        "    pickle.dump(l, f)\n",
        "f.close()"
      ]
    },
    {
      "cell_type": "markdown",
      "metadata": {
        "id": "z0ubhsEkCOAr"
      },
      "source": [
        "# DL APPROACH"
      ]
    },
    {
      "cell_type": "markdown",
      "metadata": {
        "id": "7GUOHzN0hDND"
      },
      "source": [
        "#ANN\n"
      ]
    },
    {
      "cell_type": "markdown",
      "metadata": {
        "id": "6IfsUmFy0FMJ"
      },
      "source": [
        "#Sampling"
      ]
    },
    {
      "cell_type": "code",
      "execution_count": null,
      "metadata": {
        "colab": {
          "base_uri": "https://localhost:8080/",
          "height": 468
        },
        "id": "E2kmuk-IDcd1",
        "outputId": "f1cea9c4-02d6-42af-a632-b590530f8de4"
      },
      "outputs": [
        {
          "data": {
            "text/html": [
              "\n",
              "  <div id=\"df-4ea2a23b-0268-4e58-b6e8-d06b92267907\">\n",
              "    <div class=\"colab-df-container\">\n",
              "      <div>\n",
              "<style scoped>\n",
              "    .dataframe tbody tr th:only-of-type {\n",
              "        vertical-align: middle;\n",
              "    }\n",
              "\n",
              "    .dataframe tbody tr th {\n",
              "        vertical-align: top;\n",
              "    }\n",
              "\n",
              "    .dataframe thead th {\n",
              "        text-align: right;\n",
              "    }\n",
              "</style>\n",
              "<table border=\"1\" class=\"dataframe\">\n",
              "  <thead>\n",
              "    <tr style=\"text-align: right;\">\n",
              "      <th></th>\n",
              "      <th>State/UT</th>\n",
              "      <th>Dowry Deaths</th>\n",
              "      <th>Murder with Rape</th>\n",
              "      <th>Acid Attack</th>\n",
              "      <th>Kidnapping &amp; Abduction</th>\n",
              "      <th>Procuration of Minor Girls</th>\n",
              "      <th>Sexual Assault of Children</th>\n",
              "      <th>year</th>\n",
              "      <th>Total crimes</th>\n",
              "    </tr>\n",
              "  </thead>\n",
              "  <tbody>\n",
              "    <tr>\n",
              "      <th>0</th>\n",
              "      <td>6</td>\n",
              "      <td>152</td>\n",
              "      <td>6.0</td>\n",
              "      <td>2</td>\n",
              "      <td>741.0</td>\n",
              "      <td>150.0</td>\n",
              "      <td>56</td>\n",
              "      <td>2017</td>\n",
              "      <td>8480</td>\n",
              "    </tr>\n",
              "    <tr>\n",
              "      <th>1</th>\n",
              "      <td>7</td>\n",
              "      <td>0</td>\n",
              "      <td>0.0</td>\n",
              "      <td>0</td>\n",
              "      <td>86.0</td>\n",
              "      <td>8.0</td>\n",
              "      <td>4</td>\n",
              "      <td>2017</td>\n",
              "      <td>164</td>\n",
              "    </tr>\n",
              "    <tr>\n",
              "      <th>2</th>\n",
              "      <td>8</td>\n",
              "      <td>193</td>\n",
              "      <td>27.0</td>\n",
              "      <td>3</td>\n",
              "      <td>5703.0</td>\n",
              "      <td>1286.0</td>\n",
              "      <td>205</td>\n",
              "      <td>2017</td>\n",
              "      <td>18015</td>\n",
              "    </tr>\n",
              "    <tr>\n",
              "      <th>3</th>\n",
              "      <td>10</td>\n",
              "      <td>1081</td>\n",
              "      <td>0.0</td>\n",
              "      <td>4</td>\n",
              "      <td>6188.0</td>\n",
              "      <td>0.0</td>\n",
              "      <td>697</td>\n",
              "      <td>2017</td>\n",
              "      <td>7970</td>\n",
              "    </tr>\n",
              "    <tr>\n",
              "      <th>4</th>\n",
              "      <td>14</td>\n",
              "      <td>75</td>\n",
              "      <td>3.0</td>\n",
              "      <td>0</td>\n",
              "      <td>1474.0</td>\n",
              "      <td>2.0</td>\n",
              "      <td>544</td>\n",
              "      <td>2017</td>\n",
              "      <td>2680</td>\n",
              "    </tr>\n",
              "    <tr>\n",
              "      <th>...</th>\n",
              "      <td>...</td>\n",
              "      <td>...</td>\n",
              "      <td>...</td>\n",
              "      <td>...</td>\n",
              "      <td>...</td>\n",
              "      <td>...</td>\n",
              "      <td>...</td>\n",
              "      <td>...</td>\n",
              "      <td>...</td>\n",
              "    </tr>\n",
              "    <tr>\n",
              "      <th>3605</th>\n",
              "      <td>4</td>\n",
              "      <td>0</td>\n",
              "      <td>2.0</td>\n",
              "      <td>0</td>\n",
              "      <td>1.0</td>\n",
              "      <td>1.0</td>\n",
              "      <td>1</td>\n",
              "      <td>2016</td>\n",
              "      <td>5</td>\n",
              "    </tr>\n",
              "    <tr>\n",
              "      <th>3606</th>\n",
              "      <td>4</td>\n",
              "      <td>0</td>\n",
              "      <td>1.0</td>\n",
              "      <td>0</td>\n",
              "      <td>1.0</td>\n",
              "      <td>1.0</td>\n",
              "      <td>1</td>\n",
              "      <td>2016</td>\n",
              "      <td>5</td>\n",
              "    </tr>\n",
              "    <tr>\n",
              "      <th>3607</th>\n",
              "      <td>4</td>\n",
              "      <td>0</td>\n",
              "      <td>0.0</td>\n",
              "      <td>0</td>\n",
              "      <td>0.0</td>\n",
              "      <td>1.0</td>\n",
              "      <td>1</td>\n",
              "      <td>2016</td>\n",
              "      <td>2</td>\n",
              "    </tr>\n",
              "    <tr>\n",
              "      <th>3608</th>\n",
              "      <td>4</td>\n",
              "      <td>0</td>\n",
              "      <td>1.0</td>\n",
              "      <td>0</td>\n",
              "      <td>1.0</td>\n",
              "      <td>1.0</td>\n",
              "      <td>1</td>\n",
              "      <td>2016</td>\n",
              "      <td>4</td>\n",
              "    </tr>\n",
              "    <tr>\n",
              "      <th>3609</th>\n",
              "      <td>4</td>\n",
              "      <td>0</td>\n",
              "      <td>0.0</td>\n",
              "      <td>0</td>\n",
              "      <td>0.0</td>\n",
              "      <td>1.0</td>\n",
              "      <td>1</td>\n",
              "      <td>2016</td>\n",
              "      <td>2</td>\n",
              "    </tr>\n",
              "  </tbody>\n",
              "</table>\n",
              "<p>3610 rows × 9 columns</p>\n",
              "</div>\n",
              "      <button class=\"colab-df-convert\" onclick=\"convertToInteractive('df-4ea2a23b-0268-4e58-b6e8-d06b92267907')\"\n",
              "              title=\"Convert this dataframe to an interactive table.\"\n",
              "              style=\"display:none;\">\n",
              "        \n",
              "  <svg xmlns=\"http://www.w3.org/2000/svg\" height=\"24px\"viewBox=\"0 0 24 24\"\n",
              "       width=\"24px\">\n",
              "    <path d=\"M0 0h24v24H0V0z\" fill=\"none\"/>\n",
              "    <path d=\"M18.56 5.44l.94 2.06.94-2.06 2.06-.94-2.06-.94-.94-2.06-.94 2.06-2.06.94zm-11 1L8.5 8.5l.94-2.06 2.06-.94-2.06-.94L8.5 2.5l-.94 2.06-2.06.94zm10 10l.94 2.06.94-2.06 2.06-.94-2.06-.94-.94-2.06-.94 2.06-2.06.94z\"/><path d=\"M17.41 7.96l-1.37-1.37c-.4-.4-.92-.59-1.43-.59-.52 0-1.04.2-1.43.59L10.3 9.45l-7.72 7.72c-.78.78-.78 2.05 0 2.83L4 21.41c.39.39.9.59 1.41.59.51 0 1.02-.2 1.41-.59l7.78-7.78 2.81-2.81c.8-.78.8-2.07 0-2.86zM5.41 20L4 18.59l7.72-7.72 1.47 1.35L5.41 20z\"/>\n",
              "  </svg>\n",
              "      </button>\n",
              "      \n",
              "  <style>\n",
              "    .colab-df-container {\n",
              "      display:flex;\n",
              "      flex-wrap:wrap;\n",
              "      gap: 12px;\n",
              "    }\n",
              "\n",
              "    .colab-df-convert {\n",
              "      background-color: #E8F0FE;\n",
              "      border: none;\n",
              "      border-radius: 50%;\n",
              "      cursor: pointer;\n",
              "      display: none;\n",
              "      fill: #1967D2;\n",
              "      height: 32px;\n",
              "      padding: 0 0 0 0;\n",
              "      width: 32px;\n",
              "    }\n",
              "\n",
              "    .colab-df-convert:hover {\n",
              "      background-color: #E2EBFA;\n",
              "      box-shadow: 0px 1px 2px rgba(60, 64, 67, 0.3), 0px 1px 3px 1px rgba(60, 64, 67, 0.15);\n",
              "      fill: #174EA6;\n",
              "    }\n",
              "\n",
              "    [theme=dark] .colab-df-convert {\n",
              "      background-color: #3B4455;\n",
              "      fill: #D2E3FC;\n",
              "    }\n",
              "\n",
              "    [theme=dark] .colab-df-convert:hover {\n",
              "      background-color: #434B5C;\n",
              "      box-shadow: 0px 1px 3px 1px rgba(0, 0, 0, 0.15);\n",
              "      filter: drop-shadow(0px 1px 2px rgba(0, 0, 0, 0.3));\n",
              "      fill: #FFFFFF;\n",
              "    }\n",
              "  </style>\n",
              "\n",
              "      <script>\n",
              "        const buttonEl =\n",
              "          document.querySelector('#df-4ea2a23b-0268-4e58-b6e8-d06b92267907 button.colab-df-convert');\n",
              "        buttonEl.style.display =\n",
              "          google.colab.kernel.accessAllowed ? 'block' : 'none';\n",
              "\n",
              "        async function convertToInteractive(key) {\n",
              "          const element = document.querySelector('#df-4ea2a23b-0268-4e58-b6e8-d06b92267907');\n",
              "          const dataTable =\n",
              "            await google.colab.kernel.invokeFunction('convertToInteractive',\n",
              "                                                     [key], {});\n",
              "          if (!dataTable) return;\n",
              "\n",
              "          const docLinkHtml = 'Like what you see? Visit the ' +\n",
              "            '<a target=\"_blank\" href=https://colab.research.google.com/notebooks/data_table.ipynb>data table notebook</a>'\n",
              "            + ' to learn more about interactive tables.';\n",
              "          element.innerHTML = '';\n",
              "          dataTable['output_type'] = 'display_data';\n",
              "          await google.colab.output.renderOutput(dataTable, element);\n",
              "          const docLink = document.createElement('div');\n",
              "          docLink.innerHTML = docLinkHtml;\n",
              "          element.appendChild(docLink);\n",
              "        }\n",
              "      </script>\n",
              "    </div>\n",
              "  </div>\n",
              "  "
            ],
            "text/plain": [
              "      State/UT  Dowry Deaths   Murder with Rape  Acid Attack   \\\n",
              "0            6            152               6.0             2   \n",
              "1            7              0               0.0             0   \n",
              "2            8            193              27.0             3   \n",
              "3           10           1081               0.0             4   \n",
              "4           14             75               3.0             0   \n",
              "...        ...            ...               ...           ...   \n",
              "3605         4              0               2.0             0   \n",
              "3606         4              0               1.0             0   \n",
              "3607         4              0               0.0             0   \n",
              "3608         4              0               1.0             0   \n",
              "3609         4              0               0.0             0   \n",
              "\n",
              "      Kidnapping & Abduction  Procuration of Minor Girls   \\\n",
              "0                      741.0                        150.0   \n",
              "1                       86.0                          8.0   \n",
              "2                     5703.0                       1286.0   \n",
              "3                     6188.0                          0.0   \n",
              "4                     1474.0                          2.0   \n",
              "...                      ...                          ...   \n",
              "3605                     1.0                          1.0   \n",
              "3606                     1.0                          1.0   \n",
              "3607                     0.0                          1.0   \n",
              "3608                     1.0                          1.0   \n",
              "3609                     0.0                          1.0   \n",
              "\n",
              "      Sexual Assault of Children   year  Total crimes  \n",
              "0                              56  2017          8480  \n",
              "1                               4  2017           164  \n",
              "2                             205  2017         18015  \n",
              "3                             697  2017          7970  \n",
              "4                             544  2017          2680  \n",
              "...                           ...   ...           ...  \n",
              "3605                            1  2016             5  \n",
              "3606                            1  2016             5  \n",
              "3607                            1  2016             2  \n",
              "3608                            1  2016             4  \n",
              "3609                            1  2016             2  \n",
              "\n",
              "[3610 rows x 9 columns]"
            ]
          },
          "execution_count": 50,
          "metadata": {},
          "output_type": "execute_result"
        }
      ],
      "source": [
        "x"
      ]
    },
    {
      "cell_type": "code",
      "execution_count": null,
      "metadata": {
        "colab": {
          "base_uri": "https://localhost:8080/"
        },
        "id": "wFBi7hTDDcgg",
        "outputId": "d21552a9-ce11-408d-b644-8782832fd097"
      },
      "outputs": [
        {
          "data": {
            "text/plain": [
              "0        7429.0\n",
              "1          66.0\n",
              "2       10598.0\n",
              "3           0.0\n",
              "4         582.0\n",
              "         ...   \n",
              "3605        0.0\n",
              "3606        1.0\n",
              "3607        0.0\n",
              "3608        0.0\n",
              "3609        0.0\n",
              "Name: Cruelty by Husband or his relatives, Length: 3610, dtype: float64"
            ]
          },
          "execution_count": 51,
          "metadata": {},
          "output_type": "execute_result"
        }
      ],
      "source": [
        "y"
      ]
    },
    {
      "cell_type": "markdown",
      "metadata": {
        "id": "EccPCGeq0HsT"
      },
      "source": [
        "#Splitting of data"
      ]
    },
    {
      "cell_type": "code",
      "execution_count": null,
      "metadata": {
        "id": "nb3g-9gRDckO"
      },
      "outputs": [],
      "source": [
        "from pandas.core.common import random_state\n",
        "xtrain,xtest,ytrain,ytest=train_test_split(x,y,test_size=0.2,random_state=43)"
      ]
    },
    {
      "cell_type": "markdown",
      "metadata": {
        "id": "Ueyxvdgc0Kv2"
      },
      "source": [
        "#importing Libraries"
      ]
    },
    {
      "cell_type": "code",
      "execution_count": null,
      "metadata": {
        "id": "ixN1ZCS3Dclr"
      },
      "outputs": [],
      "source": [
        "import tensorflow as tf\n",
        "from tensorflow.keras.models import Sequential\n",
        "from tensorflow.keras.layers import Dense, LSTM, Dropout"
      ]
    },
    {
      "cell_type": "markdown",
      "metadata": {
        "id": "1acrZFdz0Oze"
      },
      "source": [
        "#Model Creation"
      ]
    },
    {
      "cell_type": "code",
      "execution_count": null,
      "metadata": {
        "id": "aJrAWftADco3"
      },
      "outputs": [],
      "source": [
        "\n",
        "# Build the model\n",
        "model = Sequential()\n",
        "model.add(Dense(64, activation='relu', input_shape=(xtrain.shape[1],)))\n",
        "model.add(Dense(32, activation='relu'))\n",
        "model.add(Dense(1, activation='sigmoid'))"
      ]
    },
    {
      "cell_type": "markdown",
      "metadata": {
        "id": "swdSesI90RTp"
      },
      "source": [
        "#Configuration"
      ]
    },
    {
      "cell_type": "code",
      "execution_count": null,
      "metadata": {
        "id": "DqTfs3cACcDr"
      },
      "outputs": [],
      "source": [
        "# Compile the model\n",
        "model.compile(optimizer='adam', loss='mse', metrics=['accuracy'])\n",
        "\n"
      ]
    },
    {
      "cell_type": "markdown",
      "metadata": {
        "id": "IbLEPRn_0TU9"
      },
      "source": [
        "#Model Training"
      ]
    },
    {
      "cell_type": "code",
      "execution_count": null,
      "metadata": {
        "colab": {
          "base_uri": "https://localhost:8080/"
        },
        "id": "xRlRTezvCM2R",
        "outputId": "c1daf66a-a95a-476f-854c-7913dc8c19b8"
      },
      "outputs": [
        {
          "name": "stdout",
          "output_type": "stream",
          "text": [
            "Epoch 1/50\n",
            "46/46 [==============================] - 1s 2ms/step - loss: 2765869.7500 - accuracy: 0.0301\n",
            "Epoch 2/50\n",
            "46/46 [==============================] - 0s 2ms/step - loss: 2765869.5000 - accuracy: 0.0301\n",
            "Epoch 3/50\n",
            "46/46 [==============================] - 0s 2ms/step - loss: 2765869.7500 - accuracy: 0.0301\n",
            "Epoch 4/50\n",
            "46/46 [==============================] - 0s 2ms/step - loss: 2765870.0000 - accuracy: 0.0301\n",
            "Epoch 5/50\n",
            "46/46 [==============================] - 0s 2ms/step - loss: 2765869.5000 - accuracy: 0.0301\n",
            "Epoch 6/50\n",
            "46/46 [==============================] - 0s 2ms/step - loss: 2765870.0000 - accuracy: 0.0301\n",
            "Epoch 7/50\n",
            "46/46 [==============================] - 0s 2ms/step - loss: 2765869.5000 - accuracy: 0.0301\n",
            "Epoch 8/50\n",
            "46/46 [==============================] - 0s 2ms/step - loss: 2765870.0000 - accuracy: 0.0301\n",
            "Epoch 9/50\n",
            "46/46 [==============================] - 0s 2ms/step - loss: 2765869.7500 - accuracy: 0.0301\n",
            "Epoch 10/50\n",
            "46/46 [==============================] - 0s 2ms/step - loss: 2765869.7500 - accuracy: 0.0301\n",
            "Epoch 11/50\n",
            "46/46 [==============================] - 0s 2ms/step - loss: 2765869.7500 - accuracy: 0.0301\n",
            "Epoch 12/50\n",
            "46/46 [==============================] - 0s 2ms/step - loss: 2765869.7500 - accuracy: 0.0301\n",
            "Epoch 13/50\n",
            "46/46 [==============================] - 0s 2ms/step - loss: 2765870.0000 - accuracy: 0.0301\n",
            "Epoch 14/50\n",
            "46/46 [==============================] - 0s 2ms/step - loss: 2765870.0000 - accuracy: 0.0301\n",
            "Epoch 15/50\n",
            "46/46 [==============================] - 0s 2ms/step - loss: 2765869.7500 - accuracy: 0.0301\n",
            "Epoch 16/50\n",
            "46/46 [==============================] - 0s 2ms/step - loss: 2765869.7500 - accuracy: 0.0301\n",
            "Epoch 17/50\n",
            "46/46 [==============================] - 0s 2ms/step - loss: 2765869.5000 - accuracy: 0.0301\n",
            "Epoch 18/50\n",
            "46/46 [==============================] - 0s 2ms/step - loss: 2765870.0000 - accuracy: 0.0301\n",
            "Epoch 19/50\n",
            "46/46 [==============================] - 0s 2ms/step - loss: 2765870.0000 - accuracy: 0.0301\n",
            "Epoch 20/50\n",
            "46/46 [==============================] - 0s 2ms/step - loss: 2765869.7500 - accuracy: 0.0301\n",
            "Epoch 21/50\n",
            "46/46 [==============================] - 0s 2ms/step - loss: 2765870.0000 - accuracy: 0.0301\n",
            "Epoch 22/50\n",
            "46/46 [==============================] - 0s 2ms/step - loss: 2765869.7500 - accuracy: 0.0301\n",
            "Epoch 23/50\n",
            "46/46 [==============================] - 0s 2ms/step - loss: 2765869.7500 - accuracy: 0.0301\n",
            "Epoch 24/50\n",
            "46/46 [==============================] - 0s 2ms/step - loss: 2765869.5000 - accuracy: 0.0301\n",
            "Epoch 25/50\n",
            "46/46 [==============================] - 0s 2ms/step - loss: 2765870.0000 - accuracy: 0.0301\n",
            "Epoch 26/50\n",
            "46/46 [==============================] - 0s 2ms/step - loss: 2765870.0000 - accuracy: 0.0301\n",
            "Epoch 27/50\n",
            "46/46 [==============================] - 0s 2ms/step - loss: 2765869.5000 - accuracy: 0.0301\n",
            "Epoch 28/50\n",
            "46/46 [==============================] - 0s 2ms/step - loss: 2765869.5000 - accuracy: 0.0301\n",
            "Epoch 29/50\n",
            "46/46 [==============================] - 0s 2ms/step - loss: 2765869.7500 - accuracy: 0.0301\n",
            "Epoch 30/50\n",
            "46/46 [==============================] - 0s 2ms/step - loss: 2765870.0000 - accuracy: 0.0301\n",
            "Epoch 31/50\n",
            "46/46 [==============================] - 0s 2ms/step - loss: 2765869.5000 - accuracy: 0.0301\n",
            "Epoch 32/50\n",
            "46/46 [==============================] - 0s 2ms/step - loss: 2765870.0000 - accuracy: 0.0301\n",
            "Epoch 33/50\n",
            "46/46 [==============================] - 0s 2ms/step - loss: 2765870.0000 - accuracy: 0.0301\n",
            "Epoch 34/50\n",
            "46/46 [==============================] - 0s 2ms/step - loss: 2765870.0000 - accuracy: 0.0301\n",
            "Epoch 35/50\n",
            "46/46 [==============================] - 0s 2ms/step - loss: 2765869.7500 - accuracy: 0.0301\n",
            "Epoch 36/50\n",
            "46/46 [==============================] - 0s 2ms/step - loss: 2765870.0000 - accuracy: 0.0301\n",
            "Epoch 37/50\n",
            "46/46 [==============================] - 0s 2ms/step - loss: 2765869.7500 - accuracy: 0.0301\n",
            "Epoch 38/50\n",
            "46/46 [==============================] - 0s 2ms/step - loss: 2765870.0000 - accuracy: 0.0301\n",
            "Epoch 39/50\n",
            "46/46 [==============================] - 0s 2ms/step - loss: 2765870.0000 - accuracy: 0.0301\n",
            "Epoch 40/50\n",
            "46/46 [==============================] - 0s 2ms/step - loss: 2765870.0000 - accuracy: 0.0301\n",
            "Epoch 41/50\n",
            "46/46 [==============================] - 0s 2ms/step - loss: 2765870.0000 - accuracy: 0.0301\n",
            "Epoch 42/50\n",
            "46/46 [==============================] - 0s 2ms/step - loss: 2765869.7500 - accuracy: 0.0301\n",
            "Epoch 43/50\n",
            "46/46 [==============================] - 0s 2ms/step - loss: 2765869.5000 - accuracy: 0.0301\n",
            "Epoch 44/50\n",
            "46/46 [==============================] - 0s 2ms/step - loss: 2765870.0000 - accuracy: 0.0301\n",
            "Epoch 45/50\n",
            "46/46 [==============================] - 0s 2ms/step - loss: 2765869.5000 - accuracy: 0.0301\n",
            "Epoch 46/50\n",
            "46/46 [==============================] - 0s 2ms/step - loss: 2765870.0000 - accuracy: 0.0301\n",
            "Epoch 47/50\n",
            "46/46 [==============================] - 0s 2ms/step - loss: 2765870.0000 - accuracy: 0.0301\n",
            "Epoch 48/50\n",
            "46/46 [==============================] - 0s 2ms/step - loss: 2765870.0000 - accuracy: 0.0301\n",
            "Epoch 49/50\n",
            "46/46 [==============================] - 0s 2ms/step - loss: 2765869.2500 - accuracy: 0.0301\n",
            "Epoch 50/50\n",
            "46/46 [==============================] - 0s 2ms/step - loss: 2765869.7500 - accuracy: 0.0301\n"
          ]
        },
        {
          "data": {
            "text/plain": [
              "<keras.callbacks.History at 0x7f43080acee0>"
            ]
          },
          "execution_count": 56,
          "metadata": {},
          "output_type": "execute_result"
        }
      ],
      "source": [
        "\n",
        "# Train the model\n",
        "model.fit(xtrain, ytrain, epochs=50, batch_size=64)"
      ]
    },
    {
      "cell_type": "markdown",
      "metadata": {
        "id": "SMNMuSRz0Z0a"
      },
      "source": [
        "# Model Evaluation"
      ]
    },
    {
      "cell_type": "code",
      "execution_count": null,
      "metadata": {
        "colab": {
          "base_uri": "https://localhost:8080/"
        },
        "id": "7fXx18IACM4m",
        "outputId": "5c1a1485-9d2e-4a76-a54f-002c4de2acdd"
      },
      "outputs": [
        {
          "name": "stdout",
          "output_type": "stream",
          "text": [
            "23/23 [==============================] - 0s 2ms/step - loss: 3861443.0000 - accuracy: 0.0360\n",
            "Test accuracy: 0.03601108118891716\n"
          ]
        }
      ],
      "source": [
        "\n",
        "# Evaluate the model on the test data\n",
        "loss, accuracy = model.evaluate(xtest, ytest)\n",
        "print(f'Test accuracy: {accuracy}')"
      ]
    },
    {
      "cell_type": "code",
      "execution_count": null,
      "metadata": {
        "colab": {
          "base_uri": "https://localhost:8080/"
        },
        "id": "NeuFUbxzCM9D",
        "outputId": "e8351896-66e4-4f13-ad4e-a9c80ec4da34"
      },
      "outputs": [
        {
          "name": "stdout",
          "output_type": "stream",
          "text": [
            "23/23 [==============================] - 0s 2ms/step - loss: 3861443.0000 - accuracy: 0.0360\n",
            "Test loss: 3861443.0\n",
            "Test accuracy: 0.03601108118891716\n"
          ]
        }
      ],
      "source": [
        "# Evaluate the model\n",
        "test_loss, test_accuracy = model.evaluate(xtest.values.reshape(xtest.shape[0], xtest.shape[1], 1), ytest)\n",
        "print('Test loss:', test_loss)\n",
        "print('Test accuracy:', test_accuracy)\n"
      ]
    },
    {
      "cell_type": "markdown",
      "metadata": {
        "id": "0vrPHmVaxBWW"
      },
      "source": [
        "#RNN"
      ]
    },
    {
      "cell_type": "code",
      "execution_count": null,
      "metadata": {
        "id": "sN_MI1ahxFbD"
      },
      "outputs": [],
      "source": [
        "import tensorflow as tf\n",
        "from tensorflow.keras.models import Sequential\n",
        "from tensorflow.keras.layers import Dense, LSTM, Dropout"
      ]
    },
    {
      "cell_type": "markdown",
      "metadata": {
        "id": "Po7pRlKF1JZ1"
      },
      "source": [
        "#Model Creation"
      ]
    },
    {
      "cell_type": "code",
      "execution_count": null,
      "metadata": {
        "id": "CFyLDuDi54yn"
      },
      "outputs": [],
      "source": [
        "# Define the RNN model\n",
        "model = Sequential()\n",
        "model.add(LSTM(units=64, input_shape=(None, 1)))\n",
        "model.add(Dense(units=1, activation='sigmoid'))"
      ]
    },
    {
      "cell_type": "markdown",
      "metadata": {
        "id": "e5H_fwlE1MBg"
      },
      "source": [
        "#Model Configuration"
      ]
    },
    {
      "cell_type": "code",
      "execution_count": null,
      "metadata": {
        "id": "z1dpk0Vi6Pyg"
      },
      "outputs": [],
      "source": [
        "# Compile the model\n",
        "model.compile(optimizer='adam', loss='binary_crossentropy', metrics=['accuracy'])\n"
      ]
    },
    {
      "cell_type": "markdown",
      "metadata": {
        "id": "Mqsvl5gP1OxD"
      },
      "source": [
        "#Model Training"
      ]
    },
    {
      "cell_type": "code",
      "execution_count": null,
      "metadata": {
        "colab": {
          "base_uri": "https://localhost:8080/"
        },
        "id": "dvpM736wwZO0",
        "outputId": "43f638b8-798a-400d-a162-fc0a0853bae9"
      },
      "outputs": [
        {
          "name": "stdout",
          "output_type": "stream",
          "text": [
            "Epoch 1/20\n",
            "91/91 [==============================] - 1s 12ms/step - loss: -23336.7480 - accuracy: 0.0301\n",
            "Epoch 2/20\n",
            "91/91 [==============================] - 1s 12ms/step - loss: -25399.0586 - accuracy: 0.0301\n",
            "Epoch 3/20\n",
            "91/91 [==============================] - 1s 8ms/step - loss: -27439.9492 - accuracy: 0.0301\n",
            "Epoch 4/20\n",
            "91/91 [==============================] - 1s 7ms/step - loss: -29392.5938 - accuracy: 0.0301\n",
            "Epoch 5/20\n",
            "91/91 [==============================] - 1s 9ms/step - loss: -31309.8613 - accuracy: 0.0301\n",
            "Epoch 6/20\n",
            "91/91 [==============================] - 1s 13ms/step - loss: -33260.4297 - accuracy: 0.0301\n",
            "Epoch 7/20\n",
            "91/91 [==============================] - 1s 11ms/step - loss: -35393.2500 - accuracy: 0.0301\n",
            "Epoch 8/20\n",
            "91/91 [==============================] - 1s 7ms/step - loss: -37412.0469 - accuracy: 0.0301\n",
            "Epoch 9/20\n",
            "91/91 [==============================] - 1s 7ms/step - loss: -39371.7891 - accuracy: 0.0301\n",
            "Epoch 10/20\n",
            "91/91 [==============================] - 1s 7ms/step - loss: -41313.4180 - accuracy: 0.0301\n",
            "Epoch 11/20\n",
            "91/91 [==============================] - 1s 7ms/step - loss: -43232.1836 - accuracy: 0.0301\n",
            "Epoch 12/20\n",
            "91/91 [==============================] - 1s 7ms/step - loss: -45229.3516 - accuracy: 0.0301\n",
            "Epoch 13/20\n",
            "91/91 [==============================] - 1s 7ms/step - loss: -47152.8867 - accuracy: 0.0301\n",
            "Epoch 14/20\n",
            "91/91 [==============================] - 1s 8ms/step - loss: -49050.0391 - accuracy: 0.0301\n",
            "Epoch 15/20\n",
            "91/91 [==============================] - 1s 7ms/step - loss: -50974.8633 - accuracy: 0.0301\n",
            "Epoch 16/20\n",
            "91/91 [==============================] - 1s 7ms/step - loss: -52887.3008 - accuracy: 0.0301\n",
            "Epoch 17/20\n",
            "91/91 [==============================] - 1s 7ms/step - loss: -54796.1211 - accuracy: 0.0301\n",
            "Epoch 18/20\n",
            "91/91 [==============================] - 1s 7ms/step - loss: -56708.3438 - accuracy: 0.0301\n",
            "Epoch 19/20\n",
            "91/91 [==============================] - 1s 7ms/step - loss: -58604.2812 - accuracy: 0.0301\n",
            "Epoch 20/20\n",
            "91/91 [==============================] - 1s 7ms/step - loss: -60509.0977 - accuracy: 0.0301\n"
          ]
        },
        {
          "data": {
            "text/plain": [
              "<keras.callbacks.History at 0x7f42fbf3f0d0>"
            ]
          },
          "execution_count": 66,
          "metadata": {},
          "output_type": "execute_result"
        }
      ],
      "source": [
        "model.fit(xtrain, ytrain, epochs=20, batch_size=32)"
      ]
    },
    {
      "cell_type": "markdown",
      "metadata": {
        "id": "C9PjLXFY1R1I"
      },
      "source": [
        "#Evaluation"
      ]
    },
    {
      "cell_type": "code",
      "execution_count": null,
      "metadata": {
        "colab": {
          "base_uri": "https://localhost:8080/"
        },
        "id": "-F-ZaJf7wgBB",
        "outputId": "7a9d95bc-576d-40c6-cdb9-edca670793e7"
      },
      "outputs": [
        {
          "name": "stdout",
          "output_type": "stream",
          "text": [
            "23/23 [==============================] - 1s 5ms/step - loss: -24112.5078 - accuracy: 0.0360\n",
            "Test accuracy: 0.03601108118891716\n"
          ]
        }
      ],
      "source": [
        "\n",
        "# Evaluate the model on the test data\n",
        "loss, accuracy = model.evaluate(xtest, ytest)\n",
        "print(f'Test accuracy: {accuracy}')"
      ]
    },
    {
      "cell_type": "code",
      "execution_count": null,
      "metadata": {
        "colab": {
          "base_uri": "https://localhost:8080/"
        },
        "id": "7edF_8ztwnHo",
        "outputId": "68ccb5b1-a408-4a43-fd15-adf2bb071db8"
      },
      "outputs": [
        {
          "name": "stdout",
          "output_type": "stream",
          "text": [
            "23/23 [==============================] - 1s 6ms/step - loss: -24112.5078 - accuracy: 0.0360\n",
            "Test loss: -24112.5078125\n",
            "Test accuracy: 0.03601108118891716\n"
          ]
        }
      ],
      "source": [
        "# Evaluate the model\n",
        "test_loss, test_accuracy = model.evaluate(xtest.values.reshape(xtest.shape[0], xtest.shape[1], 1), ytest)\n",
        "print('Test loss:', test_loss)\n",
        "print('Test accuracy:', test_accuracy)"
      ]
    },
    {
      "cell_type": "code",
      "execution_count": null,
      "metadata": {
        "id": "iAc3s-dWwpZq"
      },
      "outputs": [],
      "source": []
    }
  ],
  "metadata": {
    "colab": {
      "provenance": []
    },
    "kernelspec": {
      "display_name": "Python 3",
      "name": "python3"
    },
    "language_info": {
      "codemirror_mode": {
        "name": "ipython",
        "version": 3
      },
      "file_extension": ".py",
      "mimetype": "text/x-python",
      "name": "python",
      "nbconvert_exporter": "python",
      "pygments_lexer": "ipython3",
      "version": "3.8.10"
    }
  },
  "nbformat": 4,
  "nbformat_minor": 0
}
