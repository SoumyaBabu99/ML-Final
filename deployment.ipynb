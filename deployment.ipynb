{
 "cells": [
  {
   "cell_type": "markdown",
   "metadata": {},
   "source": [
    "State/UT                         72.0\n",
    "\n",
    "Dowry Deaths                     22.0\n",
    "\n",
    "Murder with Rape                 27.0\n",
    "\n",
    "Acid Attack                       5.0\n",
    "\n",
    "Kidnapping & Abduction           56.0\n",
    "\n",
    "Procuration of Minor Girls        0.0\n",
    "\n",
    "Sexual Assault of Children        0.0\n",
    "\n",
    "year                           2013.0\n",
    "\n",
    "Total crimes                    177.0"
   ]
  },
  {
   "cell_type": "code",
   "execution_count": 7,
   "metadata": {},
   "outputs": [],
   "source": [
    "import pickle\n",
    "import numpy as np"
   ]
  },
  {
   "cell_type": "code",
   "execution_count": 10,
   "metadata": {},
   "outputs": [],
   "source": [
    "with open(\"rf_model.pickle\",'rb') as f:\n",
    "    model = pickle.load(f)\n",
    "f.close()\n",
    "\n",
    "with open(\"le_encoder.pickle\",'rb') as f:\n",
    "    le = pickle.load(f)\n",
    "f.close()"
   ]
  },
  {
   "cell_type": "code",
   "execution_count": 13,
   "metadata": {},
   "outputs": [
    {
     "data": {
      "text/plain": [
       "array([[  22.,   27.,    5.,   56.,    0.,    0., 2013.,  177.]])"
      ]
     },
     "execution_count": 13,
     "metadata": {},
     "output_type": "execute_result"
    }
   ],
   "source": [
    "v = np.array([22, 27, 5, 56.0, 0, 0, 2013, 177]).reshape(1,-1)\n",
    "v"
   ]
  },
  {
   "cell_type": "code",
   "execution_count": 14,
   "metadata": {},
   "outputs": [
    {
     "name": "stderr",
     "output_type": "stream",
     "text": [
      "c:\\Users\\NEERAJ\\OneDrive\\Desktop\\Programs\\ML-Final\\.venv\\lib\\site-packages\\sklearn\\base.py:464: UserWarning: X does not have valid feature names, but RandomForestRegressor was fitted with feature names\n",
      "  warnings.warn(\n"
     ]
    },
    {
     "data": {
      "text/plain": [
       "array([67.46])"
      ]
     },
     "execution_count": 14,
     "metadata": {},
     "output_type": "execute_result"
    }
   ],
   "source": [
    "model.predict(v)"
   ]
  }
 ],
 "metadata": {
  "kernelspec": {
   "display_name": ".venv",
   "language": "python",
   "name": "python3"
  },
  "language_info": {
   "codemirror_mode": {
    "name": "ipython",
    "version": 3
   },
   "file_extension": ".py",
   "mimetype": "text/x-python",
   "name": "python",
   "nbconvert_exporter": "python",
   "pygments_lexer": "ipython3",
   "version": "3.8.10"
  },
  "orig_nbformat": 4
 },
 "nbformat": 4,
 "nbformat_minor": 2
}
